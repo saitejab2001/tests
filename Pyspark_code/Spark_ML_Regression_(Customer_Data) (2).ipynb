{
  "cells": [
    {
      "cell_type": "markdown",
      "metadata": {
        "id": "CpBIWU7wvVhl"
      },
      "source": [
        "# Multiple Linear Regression on Customer Data"
      ]
    },
    {
      "cell_type": "markdown",
      "metadata": {
        "id": "rZInZ1nwvVho"
      },
      "source": [
        "## Agenda\n",
        "\n",
        "* Business Understanding\n",
        "* Data Understanding\n",
        "* Data Preparation\n",
        "* Exploratory Data Analysis\n",
        "* Building a Linear Model\n",
        "* Evaluation"
      ]
    },
    {
      "cell_type": "markdown",
      "metadata": {
        "id": "5b6B60AOvVhp"
      },
      "source": [
        "### Business Understanding"
      ]
    },
    {
      "cell_type": "markdown",
      "metadata": {
        "collapsed": true,
        "id": "ALKoBb-mvVhp"
      },
      "source": [
        "#### Problem Statement\n",
        "\n",
        "A large child education toy company which sells edutainment tablets and gaming systems\n",
        "both online and in retail stores wanted to analyze the customer data. They are operating\n",
        "from last few years and maintaining all transactional information data. The given data\n",
        "‘CustomerData.csv’ is a sample of customer level data extracted and processed for the\n",
        "analysis from various set of transactional files.\n",
        "\n",
        "The objectives of today’s activity are :\n",
        "* Building a regression model to predict the customer revenue based on other factors and understand the influence of other attributes on revenue"
      ]
    },
    {
      "cell_type": "markdown",
      "metadata": {
        "id": "gibd0UH0vVhz"
      },
      "source": [
        "### Identify right Error Metrics"
      ]
    },
    {
      "cell_type": "markdown",
      "metadata": {
        "id": "qZn5G9kpvVhz"
      },
      "source": [
        "##### Error Metrics for Regression\n",
        "\n",
        "* Mean Absolute Error (MAE):\n",
        "\n",
        "$$MAE = \\dfrac{1}{n}\\times|\\sum_{i = 1}^{n}y_{i} - \\hat{y_{i}}|$$\n",
        "\n",
        "\n",
        "* Mean Squared Error (MSE):\n",
        "\n",
        "$$MSE = \\dfrac{1}{n}\\times(\\sum_{i = 1}^{n}y_{i} - \\hat{y_{i}})^2$$\n",
        "\n",
        "\n",
        "* Root Mean Squared Error (RMSE):\n",
        "\n",
        "$$RMSE = \\sqrt{\\dfrac{1}{n}\\times(\\sum_{i = 1}^{n}y_{i} - \\hat{y_{i}})^2}$$\n",
        "\n",
        "\n",
        "* Mean Absolute Percentage Error (MAPE):\n",
        "\n",
        "$$MAPE = \\dfrac{100}{n}\\times\\mid\\dfrac{\\sum_{i = 1}^{n}y_{i} - \\hat{y_{i}}}{y_{i}}\\mid$$\n"
      ]
    },
    {
      "cell_type": "markdown",
      "metadata": {
        "id": "3BM94SG1vVhz"
      },
      "source": [
        "### Create SPARK_HOME and PYLIB env var and update PATH env var¶"
      ]
    },
    {
      "cell_type": "markdown",
      "metadata": {
        "id": "6lAPypWOvVh1"
      },
      "source": [
        "### ### Initializing Spark"
      ]
    },
    {
      "cell_type": "markdown",
      "metadata": {
        "id": "X6wmw67IvVh1"
      },
      "source": [
        "Build __SparkConf__ object \n",
        "\n",
        "    Contains information about your application.  \n",
        "\n",
        "\n",
        "Create __SparkContext__ object \n",
        "    \n",
        "    Tells Spark how to access a cluster. \n",
        "    \n",
        "\n",
        "Create __SparkSession__ object\n",
        "\n",
        "    The entry point to programming Spark with the Dataset and DataFrame API.\n",
        "\n",
        "    Used to create DataFrame, register DataFrame as tables and execute SQL over tables etc."
      ]
    },
    {
      "cell_type": "code",
      "source": [
        "import os\n",
        "import sys\n",
        "os.environ[\"SPARK_HOME\"] = \"/usr/hdp/current/spark2-client\"\n",
        "os.environ[\"PYLIB\"] = os.environ[\"SPARK_HOME\"] + \"/python/lib\"\n",
        "sys.path.insert(0, os.environ[\"PYLIB\"] + \"/py4j-0.10.4-src.zip\")\n",
        "sys.path.insert(0, os.environ[\"PYLIB\"] + \"/pyspark.zip\")"
      ],
      "metadata": {
        "id": "sfOu33H8bCqO"
      },
      "execution_count": 1,
      "outputs": []
    },
    {
      "cell_type": "code",
      "execution_count": 2,
      "metadata": {
        "id": "isSncgZmvVh2"
      },
      "outputs": [],
      "source": [
        "!apt-get install openjdk-8-jdk-headless -qq > /dev/null\n",
        "!wget -q https://archive.apache.org/dist/spark/spark-3.0.1/spark-3.0.1-bin-hadoop2.7.tgz"
      ]
    },
    {
      "cell_type": "code",
      "source": [
        "!tar xf spark-3.0.1-bin-hadoop2.7.tgz\n",
        "!pip install -q findspark"
      ],
      "metadata": {
        "id": "eIITAKhTV9eH"
      },
      "execution_count": 3,
      "outputs": []
    },
    {
      "cell_type": "code",
      "source": [
        "import os \n",
        "os.environ[\"JAVA_HOME\"] = \"/usr/lib/jvm/java-8-openjdk-amd64\"\n",
        "os.environ[\"SPARK_HOME\"] = \"/content//spark-3.0.1-bin-hadoop2.7\""
      ],
      "metadata": {
        "id": "yXozVJ44V9bK"
      },
      "execution_count": 4,
      "outputs": []
    },
    {
      "cell_type": "code",
      "source": [
        "import findspark\n",
        "findspark.init()"
      ],
      "metadata": {
        "id": "xBcoEPzPV9Y_"
      },
      "execution_count": 5,
      "outputs": []
    },
    {
      "cell_type": "code",
      "source": [
        "from pyspark.sql.types import *\n",
        "from pyspark.sql.functions import * "
      ],
      "metadata": {
        "id": "Z6syFYPzkEyD"
      },
      "execution_count": 6,
      "outputs": []
    },
    {
      "cell_type": "code",
      "source": [
        "! pip install chart_studio"
      ],
      "metadata": {
        "colab": {
          "base_uri": "https://localhost:8080/"
        },
        "id": "vQPFLVaHV9XH",
        "outputId": "fc4acf40-2abd-4b79-e781-823ef6a54284"
      },
      "execution_count": 7,
      "outputs": [
        {
          "output_type": "stream",
          "name": "stdout",
          "text": [
            "Looking in indexes: https://pypi.org/simple, https://us-python.pkg.dev/colab-wheels/public/simple/\n",
            "Collecting chart_studio\n",
            "  Downloading chart_studio-1.1.0-py3-none-any.whl (64 kB)\n",
            "\u001b[K     |████████████████████████████████| 64 kB 2.0 MB/s \n",
            "\u001b[?25hRequirement already satisfied: six in /usr/local/lib/python3.7/dist-packages (from chart_studio) (1.15.0)\n",
            "Collecting retrying>=1.3.3\n",
            "  Downloading retrying-1.3.4-py3-none-any.whl (11 kB)\n",
            "Requirement already satisfied: requests in /usr/local/lib/python3.7/dist-packages (from chart_studio) (2.23.0)\n",
            "Requirement already satisfied: plotly in /usr/local/lib/python3.7/dist-packages (from chart_studio) (5.5.0)\n",
            "Requirement already satisfied: tenacity>=6.2.0 in /usr/local/lib/python3.7/dist-packages (from plotly->chart_studio) (8.1.0)\n",
            "Requirement already satisfied: idna<3,>=2.5 in /usr/local/lib/python3.7/dist-packages (from requests->chart_studio) (2.10)\n",
            "Requirement already satisfied: chardet<4,>=3.0.2 in /usr/local/lib/python3.7/dist-packages (from requests->chart_studio) (3.0.4)\n",
            "Requirement already satisfied: urllib3!=1.25.0,!=1.25.1,<1.26,>=1.21.1 in /usr/local/lib/python3.7/dist-packages (from requests->chart_studio) (1.24.3)\n",
            "Requirement already satisfied: certifi>=2017.4.17 in /usr/local/lib/python3.7/dist-packages (from requests->chart_studio) (2022.9.24)\n",
            "Installing collected packages: retrying, chart-studio\n",
            "Successfully installed chart-studio-1.1.0 retrying-1.3.4\n"
          ]
        }
      ]
    },
    {
      "cell_type": "code",
      "source": [
        "from google.colab import drive\n",
        "drive.mount('/content/drive')"
      ],
      "metadata": {
        "colab": {
          "base_uri": "https://localhost:8080/"
        },
        "id": "BOWcrZTLm8BZ",
        "outputId": "dc52ac9f-8f02-40aa-e54c-b8ee536c6735"
      },
      "execution_count": 8,
      "outputs": [
        {
          "output_type": "stream",
          "name": "stdout",
          "text": [
            "Mounted at /content/drive\n"
          ]
        }
      ]
    },
    {
      "cell_type": "code",
      "source": [
        "import pyspark\n",
        "from pyspark.sql import SparkSession"
      ],
      "metadata": {
        "id": "Lj49_eMSV9Ue"
      },
      "execution_count": 9,
      "outputs": []
    },
    {
      "cell_type": "code",
      "source": [
        "import numpy as np\n",
        "import pandas as pd\n",
        "from io import StringIO"
      ],
      "metadata": {
        "id": "_PL1HlYxZk2j"
      },
      "execution_count": 10,
      "outputs": []
    },
    {
      "cell_type": "code",
      "source": [
        "spark = SparkSession.builder.appName('SparkML_1').getOrCreate()"
      ],
      "metadata": {
        "id": "UTZ1erkDV9SB"
      },
      "execution_count": 11,
      "outputs": []
    },
    {
      "cell_type": "code",
      "source": [
        "spark"
      ],
      "metadata": {
        "colab": {
          "base_uri": "https://localhost:8080/",
          "height": 222
        },
        "id": "kqjZRfE-V9P2",
        "outputId": "8560b3a3-e9b9-4c54-ae49-623dddcba660"
      },
      "execution_count": 12,
      "outputs": [
        {
          "output_type": "execute_result",
          "data": {
            "text/plain": [
              "<pyspark.sql.session.SparkSession at 0x7fae443bf850>"
            ],
            "text/html": [
              "\n",
              "            <div>\n",
              "                <p><b>SparkSession - in-memory</b></p>\n",
              "                \n",
              "        <div>\n",
              "            <p><b>SparkContext</b></p>\n",
              "\n",
              "            <p><a href=\"http://aa328b76e829:4040\">Spark UI</a></p>\n",
              "\n",
              "            <dl>\n",
              "              <dt>Version</dt>\n",
              "                <dd><code>v3.0.1</code></dd>\n",
              "              <dt>Master</dt>\n",
              "                <dd><code>local[*]</code></dd>\n",
              "              <dt>AppName</dt>\n",
              "                <dd><code>SparkML_1</code></dd>\n",
              "            </dl>\n",
              "        </div>\n",
              "        \n",
              "            </div>\n",
              "        "
            ]
          },
          "metadata": {},
          "execution_count": 12
        }
      ]
    },
    {
      "cell_type": "code",
      "source": [
        "#define schema\n",
        "customerDataSchema = StructType([\n",
        "                 StructField(\"CustomerID\",StringType(),True),\n",
        "                 StructField(\"City\",StringType(),True),\n",
        "                 StructField(\"NoOfChildren\",DoubleType(),True),\n",
        "                 StructField(\"MinAgeOfChild\",DoubleType(),True),\n",
        "                 StructField(\"MaxAgeOfChild\",DoubleType(),True),\n",
        "                 StructField(\"Tenure\",DoubleType(),True),\n",
        "                 StructField(\"FrquncyOfPurchase\",DoubleType(),True),\n",
        "                 StructField(\"NoOfUnitsPurchased\",DoubleType(),True),\n",
        "                 StructField(\"FrequencyOFPlay\",DoubleType(),True),\n",
        "                 StructField(\"NoOfGamesPlayed\",DoubleType(),True),\n",
        "                 StructField(\"NoOfGamesBought\",DoubleType(),True),\n",
        "                 StructField(\"FavoriteChannelOfTransaction\",StringType(),True),\n",
        "                 StructField(\"FavoriteGame\",StringType(),True),\n",
        "                 StructField(\"TotalRevenueGenerated\",DoubleType(),True)\n",
        "                 ])"
      ],
      "metadata": {
        "id": "ugGR1JCyz_ci"
      },
      "execution_count": 13,
      "outputs": []
    },
    {
      "cell_type": "markdown",
      "metadata": {
        "id": "5Zv7HGK6vVh4"
      },
      "source": [
        "#### Loading the data"
      ]
    },
    {
      "cell_type": "code",
      "execution_count": 15,
      "metadata": {
        "id": "t8MyGrYSvVh4"
      },
      "outputs": [],
      "source": [
        "## Read data and create a dataframe\n",
        "customerDF = spark.read.format('csv')\\\n",
        ".load(\"/content/drive/My Drive/CustomerData (1).csv\", schema=customerDataSchema)"
      ]
    },
    {
      "cell_type": "markdown",
      "metadata": {
        "id": "ruc6pJXpvVh5"
      },
      "source": [
        "### Data Understanding"
      ]
    },
    {
      "cell_type": "code",
      "execution_count": 16,
      "metadata": {
        "id": "KXzpI3_xvVh5",
        "colab": {
          "base_uri": "https://localhost:8080/"
        },
        "outputId": "f0025ac0-0506-4476-cf5c-e7cfc8a94316"
      },
      "outputs": [
        {
          "output_type": "stream",
          "name": "stdout",
          "text": [
            "root\n",
            " |-- CustomerID: string (nullable = true)\n",
            " |-- City: string (nullable = true)\n",
            " |-- NoOfChildren: double (nullable = true)\n",
            " |-- MinAgeOfChild: double (nullable = true)\n",
            " |-- MaxAgeOfChild: double (nullable = true)\n",
            " |-- Tenure: double (nullable = true)\n",
            " |-- FrquncyOfPurchase: double (nullable = true)\n",
            " |-- NoOfUnitsPurchased: double (nullable = true)\n",
            " |-- FrequencyOFPlay: double (nullable = true)\n",
            " |-- NoOfGamesPlayed: double (nullable = true)\n",
            " |-- NoOfGamesBought: double (nullable = true)\n",
            " |-- FavoriteChannelOfTransaction: string (nullable = true)\n",
            " |-- FavoriteGame: string (nullable = true)\n",
            " |-- TotalRevenueGenerated: double (nullable = true)\n",
            "\n"
          ]
        }
      ],
      "source": [
        "# Print Schema\n",
        "customerDF.printSchema()"
      ]
    },
    {
      "cell_type": "markdown",
      "metadata": {
        "id": "jxaL7vtNvVh6"
      },
      "source": [
        "Total number of Columns and Records"
      ]
    },
    {
      "cell_type": "code",
      "execution_count": 17,
      "metadata": {
        "id": "dU4sYjpzvVh6",
        "outputId": "0f104fc2-11ca-4d6f-dbc4-fed64785a021",
        "colab": {
          "base_uri": "https://localhost:8080/"
        }
      },
      "outputs": [
        {
          "output_type": "execute_result",
          "data": {
            "text/plain": [
              "14"
            ]
          },
          "metadata": {},
          "execution_count": 17
        }
      ],
      "source": [
        "len(customerDF.columns)"
      ]
    },
    {
      "cell_type": "code",
      "source": [
        "customerDF.count()"
      ],
      "metadata": {
        "colab": {
          "base_uri": "https://localhost:8080/"
        },
        "id": "c9jhU_o1nyxx",
        "outputId": "a940328b-5041-45ef-c14c-37179b3559a3"
      },
      "execution_count": 18,
      "outputs": [
        {
          "output_type": "execute_result",
          "data": {
            "text/plain": [
              "3210"
            ]
          },
          "metadata": {},
          "execution_count": 18
        }
      ]
    },
    {
      "cell_type": "markdown",
      "metadata": {
        "id": "ufKVmy7vvVh7"
      },
      "source": [
        "See the top rows of the data"
      ]
    },
    {
      "cell_type": "code",
      "execution_count": 19,
      "metadata": {
        "id": "ISTHkQRMvVh7",
        "outputId": "fc91ce56-cb41-4686-8123-ba0e9f35e2d1",
        "colab": {
          "base_uri": "https://localhost:8080/"
        }
      },
      "outputs": [
        {
          "output_type": "stream",
          "name": "stdout",
          "text": [
            "+----------+----+------------+-------------+-------------+------+-----------------+------------------+---------------+---------------+---------------+----------------------------+------------+---------------------+\n",
            "|CustomerID|City|NoOfChildren|MinAgeOfChild|MaxAgeOfChild|Tenure|FrquncyOfPurchase|NoOfUnitsPurchased|FrequencyOFPlay|NoOfGamesPlayed|NoOfGamesBought|FavoriteChannelOfTransaction|FavoriteGame|TotalRevenueGenerated|\n",
            "+----------+----+------------+-------------+-------------+------+-----------------+------------------+---------------+---------------+---------------+----------------------------+------------+---------------------+\n",
            "|CustomerID|City|        null|         null|         null|  null|             null|              null|           null|           null|           null|        FavoriteChannelOf...|FavoriteGame|                 null|\n",
            "|      1001|   1|         2.0|          3.0|          8.0| 210.0|             11.0|              11.0|         2344.0|          108.0|           10.0|                     Uniform|     Uniform|               107.51|\n",
            "|      1002|   1|         2.0|          3.0|          6.0| 442.0|             20.0|              20.0|          245.0|           22.0|            7.0|                    Favorite|     Uniform|                382.4|\n",
            "|      1003|   1|         4.0|          3.0|          5.0| 424.0|             18.0|              18.0|         1059.0|          130.0|           18.0|                    Favorite|     Uniform|               135.01|\n",
            "|      1004|   1|         1.0|          6.0|          6.0| 261.0|             11.0|               9.0|          365.0|           34.0|           11.0|                    Favorite|     Uniform|                125.0|\n",
            "+----------+----+------------+-------------+-------------+------+-----------------+------------------+---------------+---------------+---------------+----------------------------+------------+---------------------+\n",
            "only showing top 5 rows\n",
            "\n"
          ]
        }
      ],
      "source": [
        "customerDF.show(5)"
      ]
    },
    {
      "cell_type": "markdown",
      "metadata": {
        "id": "3Ipo8Vq3vVh7"
      },
      "source": [
        "Shows a quick statistic summary of your data using Describe"
      ]
    },
    {
      "cell_type": "code",
      "execution_count": 20,
      "metadata": {
        "scrolled": true,
        "id": "zZYW0padvVh8",
        "outputId": "669a80ca-6ba2-4984-e8b6-8b8377544a44",
        "colab": {
          "base_uri": "https://localhost:8080/"
        }
      },
      "outputs": [
        {
          "output_type": "stream",
          "name": "stdout",
          "text": [
            "+-------+----------------+------------------+------------------+------------------+-----------------+-----------------+-----------------+------------------+------------------+-----------------+------------------+----------------------------+------------+---------------------+\n",
            "|summary|      CustomerID|              City|      NoOfChildren|     MinAgeOfChild|    MaxAgeOfChild|           Tenure|FrquncyOfPurchase|NoOfUnitsPurchased|   FrequencyOFPlay|  NoOfGamesPlayed|   NoOfGamesBought|FavoriteChannelOfTransaction|FavoriteGame|TotalRevenueGenerated|\n",
            "+-------+----------------+------------------+------------------+------------------+-----------------+-----------------+-----------------+------------------+------------------+-----------------+------------------+----------------------------+------------+---------------------+\n",
            "|  count|            3210|              3210|              3209|              3209|             3209|             3209|             3209|              3209|              3209|             3209|              3209|                        3210|        3210|                 3209|\n",
            "|   mean|          2605.0| 1.114054222499221| 2.128388906201309|4.9607354315986285|7.990651293237769|347.5204113430975|  16.269554378311|14.684013711436585|1568.2078529136802| 93.6279214708632|14.761607977563104|                        null|        null|    168.4771829230288|\n",
            "| stddev|926.502833239057|0.3179266502109658|1.0350924535316555|3.7141911525693776|8.784084301356664|90.52011823796829|8.441670101163071| 7.182029169207206| 1810.630463829322|88.93637176454973| 8.773909799752934|                        null|        null|    81.79852819468827|\n",
            "|    min|            1001|                 1|               1.0|               0.0|              3.0|            100.0|              1.0|               1.0|               0.0|              0.0|               0.0|                    Favorite|    Favorite|                100.0|\n",
            "|    max|      CustomerID|              City|              11.0|             113.0|            113.0|            472.0|            119.0|             112.0|           27829.0|           1166.0|             115.0|                     Uniform|     Uniform|               990.56|\n",
            "+-------+----------------+------------------+------------------+------------------+-----------------+-----------------+-----------------+------------------+------------------+-----------------+------------------+----------------------------+------------+---------------------+\n",
            "\n"
          ]
        }
      ],
      "source": [
        "customerDF.describe().show()"
      ]
    },
    {
      "cell_type": "code",
      "source": [
        "customerDF.describe().select(\"NoOfChildren\",\"MinAgeOfChild\",\"MaxAgeOfChild\",\"Tenure\",\"FrquncyOfPurchase\",\"NoOfUnitsPurchased\",\"FrequencyOFPlay\",\"NoOfGamesPlayed\",\"TotalRevenueGenerated\").show()"
      ],
      "metadata": {
        "colab": {
          "base_uri": "https://localhost:8080/"
        },
        "id": "gFdYsgqUq-50",
        "outputId": "45aabfe1-388d-4e34-ecad-7f07177fe5b6"
      },
      "execution_count": 21,
      "outputs": [
        {
          "output_type": "stream",
          "name": "stdout",
          "text": [
            "+------------------+------------------+-----------------+-----------------+-----------------+------------------+------------------+-----------------+---------------------+\n",
            "|      NoOfChildren|     MinAgeOfChild|    MaxAgeOfChild|           Tenure|FrquncyOfPurchase|NoOfUnitsPurchased|   FrequencyOFPlay|  NoOfGamesPlayed|TotalRevenueGenerated|\n",
            "+------------------+------------------+-----------------+-----------------+-----------------+------------------+------------------+-----------------+---------------------+\n",
            "|              3209|              3209|             3209|             3209|             3209|              3209|              3209|             3209|                 3209|\n",
            "| 2.128388906201309|4.9607354315986285|7.990651293237769|347.5204113430975|  16.269554378311|14.684013711436585|1568.2078529136802| 93.6279214708632|    168.4771829230288|\n",
            "|1.0350924535316555|3.7141911525693776|8.784084301356664|90.52011823796829|8.441670101163071| 7.182029169207206| 1810.630463829322|88.93637176454973|    81.79852819468827|\n",
            "|               1.0|               0.0|              3.0|            100.0|              1.0|               1.0|               0.0|              0.0|                100.0|\n",
            "|              11.0|             113.0|            113.0|            472.0|            119.0|             112.0|           27829.0|           1166.0|               990.56|\n",
            "+------------------+------------------+-----------------+-----------------+-----------------+------------------+------------------+-----------------+---------------------+\n",
            "\n"
          ]
        }
      ]
    },
    {
      "cell_type": "markdown",
      "metadata": {
        "id": "1CHYwKpzvVh8"
      },
      "source": [
        "Display the data type of each of the variable"
      ]
    },
    {
      "cell_type": "code",
      "execution_count": 22,
      "metadata": {
        "id": "LB0XfrvQvVh8",
        "outputId": "50c1f0c7-bf83-4c70-97a9-0d3bf12fc755",
        "colab": {
          "base_uri": "https://localhost:8080/"
        }
      },
      "outputs": [
        {
          "output_type": "execute_result",
          "data": {
            "text/plain": [
              "[('CustomerID', 'string'),\n",
              " ('City', 'string'),\n",
              " ('NoOfChildren', 'double'),\n",
              " ('MinAgeOfChild', 'double'),\n",
              " ('MaxAgeOfChild', 'double'),\n",
              " ('Tenure', 'double'),\n",
              " ('FrquncyOfPurchase', 'double'),\n",
              " ('NoOfUnitsPurchased', 'double'),\n",
              " ('FrequencyOFPlay', 'double'),\n",
              " ('NoOfGamesPlayed', 'double'),\n",
              " ('NoOfGamesBought', 'double'),\n",
              " ('FavoriteChannelOfTransaction', 'string'),\n",
              " ('FavoriteGame', 'string'),\n",
              " ('TotalRevenueGenerated', 'double')]"
            ]
          },
          "metadata": {},
          "execution_count": 22
        }
      ],
      "source": [
        "customerDF.dtypes"
      ]
    },
    {
      "cell_type": "markdown",
      "metadata": {
        "id": "P9_YNU8IvVh9"
      },
      "source": [
        "### Data Preparation"
      ]
    },
    {
      "cell_type": "markdown",
      "metadata": {
        "collapsed": true,
        "id": "KFOlzNMLvVh9"
      },
      "source": [
        "#### Observations:\n",
        "    1. City is interpreted as numeric (which is actually categorical) and FavouriteGame, FavouriteChannelOfTransaction are interpreted as objects.\n",
        "    2. max age of children is 113 which must be a wrong entry\n",
        "    3. Summary statistics for CustomerID is not meaningful\n",
        "\n",
        "So we now change these appropriately i.e, convert city, favourite game and favourite channel to category, exclude customer id from the data for analysis and treat wrong entry records"
      ]
    },
    {
      "cell_type": "markdown",
      "metadata": {
        "id": "81qsWJuWvVh-"
      },
      "source": [
        "##### Check and delete CustomerID attribute"
      ]
    },
    {
      "cell_type": "markdown",
      "metadata": {
        "id": "FazlDAoPvViA"
      },
      "source": [
        "#### Data type conversion \n",
        "    Using astype('category') convert 'City', 'FavoriteChannelOfTransaction', 'FavoriteGame' attributes to a categorical data type ."
      ]
    },
    {
      "cell_type": "code",
      "execution_count": 25,
      "metadata": {
        "collapsed": true,
        "id": "7lVkd7rTvViB"
      },
      "outputs": [],
      "source": [
        "# Creating a list of categorical and numerical features\n",
        "cat_Var_names = [\"CustomerID\",\"City\",\"FavoriteChannelOfTransaction\",\"FavoriteGame\"]\n",
        "num_var_names = [\"NoOfChildren\",\"MinAgeOfChild\",\"MaxAgeOfChild\",\"Tenure\",\"FrquncyOfPurchase\",\"NoOfUnitsPurchased\",\"FrequencyOFPlay\",\"NoOfGamesPlayed\"]"
      ]
    },
    {
      "cell_type": "code",
      "execution_count": 26,
      "metadata": {
        "id": "FWKzwp1rvViE",
        "outputId": "1ee426f4-58eb-4c45-bf8e-b1b62c38e6d8",
        "colab": {
          "base_uri": "https://localhost:8080/"
        }
      },
      "outputs": [
        {
          "output_type": "stream",
          "name": "stdout",
          "text": [
            "+----------+----+------------+-------------+-------------+------+-----------------+------------------+---------------+---------------+---------------+----------------------------+------------+---------------------+\n",
            "|CustomerID|City|NoOfChildren|MinAgeOfChild|MaxAgeOfChild|Tenure|FrquncyOfPurchase|NoOfUnitsPurchased|FrequencyOFPlay|NoOfGamesPlayed|NoOfGamesBought|FavoriteChannelOfTransaction|FavoriteGame|TotalRevenueGenerated|\n",
            "+----------+----+------------+-------------+-------------+------+-----------------+------------------+---------------+---------------+---------------+----------------------------+------------+---------------------+\n",
            "|         0|   0|           1|            1|            1|     1|                1|                 1|              1|              1|              1|                           0|           0|                    1|\n",
            "+----------+----+------------+-------------+-------------+------+-----------------+------------------+---------------+---------------+---------------+----------------------------+------------+---------------------+\n",
            "\n"
          ]
        }
      ],
      "source": [
        "customerDF.select([count(when(isnan(c) | col(c).isNull(), c)).alias(c) for c in customerDF.columns]).show()"
      ]
    },
    {
      "cell_type": "markdown",
      "metadata": {
        "id": "BjlwHAFmvViE"
      },
      "source": [
        "#### Observe how many records have values 113 for age of children"
      ]
    },
    {
      "cell_type": "code",
      "source": [
        "customerDF.select('MaxAgeOfChild').where(customerDF.MaxAgeOfChild >=113).count()"
      ],
      "metadata": {
        "colab": {
          "base_uri": "https://localhost:8080/"
        },
        "id": "BRsxB_sdsaoh",
        "outputId": "c85bf96c-1144-4406-a5d0-55905b349d2e"
      },
      "execution_count": 27,
      "outputs": [
        {
          "output_type": "execute_result",
          "data": {
            "text/plain": [
              "20"
            ]
          },
          "metadata": {},
          "execution_count": 27
        }
      ]
    },
    {
      "cell_type": "markdown",
      "metadata": {
        "id": "5z5aMPFDvViF"
      },
      "source": [
        "Observe how many records have values 113 for age of children"
      ]
    },
    {
      "cell_type": "markdown",
      "metadata": {
        "id": "9_LrCvdbvViG"
      },
      "source": [
        "#### Removing outliers"
      ]
    },
    {
      "cell_type": "code",
      "execution_count": 28,
      "metadata": {
        "collapsed": true,
        "id": "XvrABXwvvViG"
      },
      "outputs": [],
      "source": [
        "customerDF = customerDF.where((customerDF[\"MinAgeOfChild\"] != 113) & (customerDF[\"MaxAgeOfChild\"] != 113))"
      ]
    },
    {
      "cell_type": "code",
      "execution_count": 29,
      "metadata": {
        "id": "_hDudXsavViG",
        "colab": {
          "base_uri": "https://localhost:8080/"
        },
        "outputId": "bc4c80fa-de74-41e5-eca7-7be86edbf29c"
      },
      "outputs": [
        {
          "output_type": "execute_result",
          "data": {
            "text/plain": [
              "3189"
            ]
          },
          "metadata": {},
          "execution_count": 29
        }
      ],
      "source": [
        "customerDF.count()"
      ]
    },
    {
      "cell_type": "markdown",
      "metadata": {
        "id": "PFsfp1KZvViH"
      },
      "source": [
        "#### Missing Data\n",
        "\n",
        "pandas primarily uses the value np.nan to represent missing data. "
      ]
    },
    {
      "cell_type": "markdown",
      "metadata": {
        "id": "0FXDOUPOvViH"
      },
      "source": [
        "Check for missing value\n",
        "\n",
        "    is.null() output boolean i.e. if missing value then true else false. \n",
        "\n",
        "    sum function counts 'true' thus gives total number of missing values"
      ]
    },
    {
      "cell_type": "code",
      "execution_count": 30,
      "metadata": {
        "id": "b2na6SPbvViI",
        "colab": {
          "base_uri": "https://localhost:8080/"
        },
        "outputId": "948122e0-ffa8-4185-d9ef-8fcdf75514bc"
      },
      "outputs": [
        {
          "output_type": "stream",
          "name": "stdout",
          "text": [
            "+----------+----+------------+-------------+-------------+------+-----------------+------------------+---------------+---------------+---------------+----------------------------+------------+---------------------+\n",
            "|CustomerID|City|NoOfChildren|MinAgeOfChild|MaxAgeOfChild|Tenure|FrquncyOfPurchase|NoOfUnitsPurchased|FrequencyOFPlay|NoOfGamesPlayed|NoOfGamesBought|FavoriteChannelOfTransaction|FavoriteGame|TotalRevenueGenerated|\n",
            "+----------+----+------------+-------------+-------------+------+-----------------+------------------+---------------+---------------+---------------+----------------------------+------------+---------------------+\n",
            "|         0|   0|           0|            0|            0|     0|                0|                 0|              0|              0|              0|                           0|           0|                    0|\n",
            "+----------+----+------------+-------------+-------------+------+-----------------+------------------+---------------+---------------+---------------+----------------------------+------------+---------------------+\n",
            "\n"
          ]
        }
      ],
      "source": [
        "# Checking for null values at each column\n",
        "df2 = customerDF.select([count(when(col(c).contains('None') | \\\n",
        "                            col(c).contains('NULL') | \\\n",
        "                            (col(c) == '' ) | \\\n",
        "                            col(c).isNull() | \\\n",
        "                            isnan(c), c \n",
        "                           )).alias(c)\n",
        "                    for c in customerDF.columns])\n",
        "df2.show()"
      ]
    },
    {
      "cell_type": "markdown",
      "metadata": {
        "id": "lr-Pq3P_vViI"
      },
      "source": [
        "In this case there are no missing values. However if we find any missing values in the data, as a rule of thumb\n",
        "\n",
        "\n",
        "    If the perticular row/column has more number of missing values then drop that perticular rows/column \n",
        "    \n",
        "        e.g. To drop any rows that have missing data use data.dropna(axis=0, inplace=True) \n",
        "        \n",
        "    Otherwise, impute/fill missing data based on domain knowledge or using imputation techniques\n",
        "        \n",
        "        e.g. To fill missing values with mean use data.fillna(data.mean(), inplace=True)      "
      ]
    },
    {
      "cell_type": "code",
      "execution_count": 31,
      "metadata": {
        "collapsed": true,
        "id": "KO2e7F6qvViJ"
      },
      "outputs": [],
      "source": [
        "# The NA values are considered as string values in order to make them null we are comverting the NA values to null values\n"
      ]
    },
    {
      "cell_type": "code",
      "execution_count": 32,
      "metadata": {
        "collapsed": true,
        "id": "2hSxLh6ovViJ",
        "colab": {
          "base_uri": "https://localhost:8080/"
        },
        "outputId": "bbaeebbb-3370-4c8e-c0c3-19aa1a010b58"
      },
      "outputs": [
        {
          "output_type": "execute_result",
          "data": {
            "text/plain": [
              "['CustomerID',\n",
              " 'City',\n",
              " 'NoOfChildren',\n",
              " 'MinAgeOfChild',\n",
              " 'MaxAgeOfChild',\n",
              " 'Tenure',\n",
              " 'FrquncyOfPurchase',\n",
              " 'NoOfUnitsPurchased',\n",
              " 'FrequencyOFPlay',\n",
              " 'NoOfGamesPlayed',\n",
              " 'NoOfGamesBought',\n",
              " 'FavoriteChannelOfTransaction',\n",
              " 'FavoriteGame',\n",
              " 'TotalRevenueGenerated']"
            ]
          },
          "metadata": {},
          "execution_count": 32
        }
      ],
      "source": [
        "customerDF.columns"
      ]
    },
    {
      "cell_type": "code",
      "execution_count": 33,
      "metadata": {
        "collapsed": true,
        "id": "LGkzcRhfvViK",
        "colab": {
          "base_uri": "https://localhost:8080/"
        },
        "outputId": "b435cd41-b02a-4ad0-dd5b-27dbef40d2f2"
      },
      "outputs": [
        {
          "output_type": "execute_result",
          "data": {
            "text/plain": [
              "[('CustomerID', 'string'),\n",
              " ('City', 'string'),\n",
              " ('NoOfChildren', 'double'),\n",
              " ('MinAgeOfChild', 'double'),\n",
              " ('MaxAgeOfChild', 'double'),\n",
              " ('Tenure', 'double'),\n",
              " ('FrquncyOfPurchase', 'double'),\n",
              " ('NoOfUnitsPurchased', 'double'),\n",
              " ('FrequencyOFPlay', 'double'),\n",
              " ('NoOfGamesPlayed', 'double'),\n",
              " ('NoOfGamesBought', 'double'),\n",
              " ('FavoriteChannelOfTransaction', 'string'),\n",
              " ('FavoriteGame', 'string'),\n",
              " ('TotalRevenueGenerated', 'double')]"
            ]
          },
          "metadata": {},
          "execution_count": 33
        }
      ],
      "source": [
        "customerDF.dtypes"
      ]
    },
    {
      "cell_type": "markdown",
      "metadata": {
        "id": "nc3oZzRHvViK"
      },
      "source": [
        "### Train-Test Split"
      ]
    },
    {
      "cell_type": "code",
      "execution_count": 34,
      "metadata": {
        "collapsed": true,
        "id": "fgbw5FwfvViL"
      },
      "outputs": [],
      "source": [
        "# Split the data into training and test sets (30% held out for testing)\n",
        "(trainingData,testingData) = customerDF.randomSplit([0.7,0.3], seed = 1)"
      ]
    },
    {
      "cell_type": "code",
      "execution_count": 35,
      "metadata": {
        "collapsed": true,
        "id": "k6yHejXvvViL",
        "colab": {
          "base_uri": "https://localhost:8080/"
        },
        "outputId": "36a6d4df-cf19-47a5-8ecb-05cdbec7bbc0"
      },
      "outputs": [
        {
          "output_type": "stream",
          "name": "stdout",
          "text": [
            "+----------+----+------------+-------------+-------------+------+-----------------+------------------+---------------+---------------+---------------+----------------------------+------------+---------------------+\n",
            "|CustomerID|City|NoOfChildren|MinAgeOfChild|MaxAgeOfChild|Tenure|FrquncyOfPurchase|NoOfUnitsPurchased|FrequencyOFPlay|NoOfGamesPlayed|NoOfGamesBought|FavoriteChannelOfTransaction|FavoriteGame|TotalRevenueGenerated|\n",
            "+----------+----+------------+-------------+-------------+------+-----------------+------------------+---------------+---------------+---------------+----------------------------+------------+---------------------+\n",
            "|      1001|   1|         2.0|          3.0|          8.0| 210.0|             11.0|              11.0|         2344.0|          108.0|           10.0|                     Uniform|     Uniform|               107.51|\n",
            "|      1002|   1|         2.0|          3.0|          6.0| 442.0|             20.0|              20.0|          245.0|           22.0|            7.0|                    Favorite|     Uniform|                382.4|\n",
            "|      1003|   1|         4.0|          3.0|          5.0| 424.0|             18.0|              18.0|         1059.0|          130.0|           18.0|                    Favorite|     Uniform|               135.01|\n",
            "|      1004|   1|         1.0|          6.0|          6.0| 261.0|             11.0|               9.0|          365.0|           34.0|           11.0|                    Favorite|     Uniform|                125.0|\n",
            "|      1007|   1|         3.0|          8.0|         12.0| 369.0|             25.0|              15.0|           75.0|            2.0|           25.0|                    Favorite|    Favorite|                127.5|\n",
            "+----------+----+------------+-------------+-------------+------+-----------------+------------------+---------------+---------------+---------------+----------------------------+------------+---------------------+\n",
            "only showing top 5 rows\n",
            "\n"
          ]
        }
      ],
      "source": [
        "trainingData.show(5)"
      ]
    },
    {
      "cell_type": "code",
      "source": [
        "testingData.show(5)"
      ],
      "metadata": {
        "colab": {
          "base_uri": "https://localhost:8080/"
        },
        "id": "gqXBk1ZxeHvj",
        "outputId": "e0d2c1fc-ea05-46e4-ce7c-50c1e367659d"
      },
      "execution_count": 36,
      "outputs": [
        {
          "output_type": "stream",
          "name": "stdout",
          "text": [
            "+----------+----+------------+-------------+-------------+------+-----------------+------------------+---------------+---------------+---------------+----------------------------+------------+---------------------+\n",
            "|CustomerID|City|NoOfChildren|MinAgeOfChild|MaxAgeOfChild|Tenure|FrquncyOfPurchase|NoOfUnitsPurchased|FrequencyOFPlay|NoOfGamesPlayed|NoOfGamesBought|FavoriteChannelOfTransaction|FavoriteGame|TotalRevenueGenerated|\n",
            "+----------+----+------------+-------------+-------------+------+-----------------+------------------+---------------+---------------+---------------+----------------------------+------------+---------------------+\n",
            "|      1005|   1|         3.0|          6.0|          9.0| 422.0|             44.0|              31.0|         1066.0|          102.0|           44.0|                     Uniform|     Uniform|               335.05|\n",
            "|      1006|   1|         2.0|          3.0|          4.0| 378.0|             16.0|              16.0|          228.0|           12.0|           16.0|                    Favorite|    Favorite|                150.0|\n",
            "|      1014|   1|         4.0|          5.0|          7.0| 399.0|             36.0|              24.0|         6411.0|          355.0|           36.0|                    Favorite|     Uniform|                202.5|\n",
            "|      1015|   1|         2.0|          4.0|          7.0| 444.0|             14.0|              14.0|         2804.0|          133.0|           14.0|                     Uniform|     Uniform|                105.5|\n",
            "|      1016|   1|         2.0|          3.0|          5.0| 371.0|              6.0|               6.0|         1746.0|           61.0|            6.0|                    Favorite|     Uniform|                117.5|\n",
            "+----------+----+------------+-------------+-------------+------+-----------------+------------------+---------------+---------------+---------------+----------------------------+------------+---------------------+\n",
            "only showing top 5 rows\n",
            "\n"
          ]
        }
      ]
    },
    {
      "cell_type": "markdown",
      "metadata": {
        "id": "YdocVrNdvViL"
      },
      "source": [
        "### Use VectorAssembler to combine a given list of numcolumns into a single vector column."
      ]
    },
    {
      "cell_type": "code",
      "execution_count": 37,
      "metadata": {
        "collapsed": true,
        "id": "4Wjo1WVqvViL"
      },
      "outputs": [],
      "source": [
        "from pyspark.ml.feature import VectorAssembler\n",
        "vector_assembler_num_cols = VectorAssembler(inputCols=num_var_names , outputCol=\"num_features\")"
      ]
    },
    {
      "cell_type": "markdown",
      "metadata": {
        "id": "_gmtsIQdvViL"
      },
      "source": [
        "### Scaling numeric attributes using MinMaxScaler method\n",
        "\n",
        "1. Scale all the numeric attributes using MinMaxScaler\n",
        "2. MinMaxScaler transforms a dataset of Vector rows, rescaling each feature to a specific range (often [0, 1]). \n",
        "3. MinMaxScaler computes summary statistics on a data set and produces a MinMaxScalerModel.\n",
        "4. The model can then transform each feature individually such that it is in the given range."
      ]
    },
    {
      "cell_type": "code",
      "execution_count": 38,
      "metadata": {
        "collapsed": true,
        "id": "L48vQGMVvViM"
      },
      "outputs": [],
      "source": [
        "from pyspark.ml.feature import MinMaxScaler\n",
        "min_max_Scalar_Num_cols = MinMaxScaler(inputCol=\"num_features\",outputCol=\"scaled_num_features\")"
      ]
    },
    {
      "cell_type": "markdown",
      "metadata": {
        "id": "IpesdD2MvViM"
      },
      "source": [
        "### Covert categorical to numeric: OneHotEncoder, StringIndexer, VectorAssembler,  VectorIndexer"
      ]
    },
    {
      "cell_type": "code",
      "execution_count": 39,
      "metadata": {
        "collapsed": true,
        "id": "c-lN8ewEvViM"
      },
      "outputs": [],
      "source": [
        "from pyspark.ml.feature import StringIndexer, OneHotEncoder\n",
        "indexers_Cat = [StringIndexer(inputCol=cat_var_name,outputCol=\"{0}_index\".format(cat_var_name),handleInvalid = \"keep\")\n",
        "                for cat_var_name in cat_Var_names]\n",
        "encoders_Cat = [OneHotEncoder(inputCol=indexer.getOutputCol(),outputCol=\"{0}_vec\".format(indexer.getInputCol())) for indexer in indexers_Cat]\n",
        "\n",
        "assembler_Cat = VectorAssembler(inputCols=[encoder.getOutputCol() for encoder in encoders_Cat],outputCol=\"cat_features\")\n",
        "assembler = VectorAssembler(inputCols=[\"scaled_num_features\",\"cat_features\"],outputCol=\"features\")"
      ]
    },
    {
      "cell_type": "code",
      "source": [
        "indexer_Label = StringIndexer(inputCol=\"TotalRevenueGenerated\",outputCol=\"label\",handleInvalid=\"keep\")"
      ],
      "metadata": {
        "id": "GBoIhQt3e0dD"
      },
      "execution_count": 40,
      "outputs": []
    },
    {
      "cell_type": "markdown",
      "metadata": {
        "id": "YsqlxMmHvViM"
      },
      "source": [
        "### Defining the pipeline"
      ]
    },
    {
      "cell_type": "code",
      "execution_count": 41,
      "metadata": {
        "collapsed": true,
        "id": "xC5efs0AvViM"
      },
      "outputs": [],
      "source": [
        "preprocessingStages = [vector_assembler_num_cols] + [min_max_Scalar_Num_cols] + indexers_Cat + encoders_Cat + [assembler_Cat] + [assembler] + [indexer_Label]"
      ]
    },
    {
      "cell_type": "code",
      "source": [
        "preprocessingStages"
      ],
      "metadata": {
        "colab": {
          "base_uri": "https://localhost:8080/"
        },
        "id": "PqJMVJJGfNvp",
        "outputId": "bd95a134-45d8-4309-d2f4-6e71e21abb89"
      },
      "execution_count": 42,
      "outputs": [
        {
          "output_type": "execute_result",
          "data": {
            "text/plain": [
              "[VectorAssembler_8b71ca89d848,\n",
              " MinMaxScaler_5c4e363232b8,\n",
              " StringIndexer_132f7ce0195a,\n",
              " StringIndexer_79b83ec7d5af,\n",
              " StringIndexer_e37eb2b787a3,\n",
              " StringIndexer_6a496c34127e,\n",
              " OneHotEncoder_8e323ce72a70,\n",
              " OneHotEncoder_266ce1cd2398,\n",
              " OneHotEncoder_c0ef9a241c2c,\n",
              " OneHotEncoder_867251581d55,\n",
              " VectorAssembler_75c02ca9733a,\n",
              " VectorAssembler_678d4382abd2,\n",
              " StringIndexer_c71decb54b50]"
            ]
          },
          "metadata": {},
          "execution_count": 42
        }
      ]
    },
    {
      "cell_type": "markdown",
      "metadata": {
        "id": "-v_u7zSdvViM"
      },
      "source": [
        "### Model Building, Tuning and Evaluation"
      ]
    },
    {
      "cell_type": "markdown",
      "metadata": {
        "id": "qCv755jZvViN"
      },
      "source": [
        "### Linear Regression"
      ]
    },
    {
      "cell_type": "code",
      "source": [
        "trainingData"
      ],
      "metadata": {
        "colab": {
          "base_uri": "https://localhost:8080/"
        },
        "id": "bpAAq9IYZwj1",
        "outputId": "65db2cc1-1fbe-4b9a-b092-d9e28eb74c77"
      },
      "execution_count": 43,
      "outputs": [
        {
          "output_type": "execute_result",
          "data": {
            "text/plain": [
              "DataFrame[CustomerID: string, City: string, NoOfChildren: double, MinAgeOfChild: double, MaxAgeOfChild: double, Tenure: double, FrquncyOfPurchase: double, NoOfUnitsPurchased: double, FrequencyOFPlay: double, NoOfGamesPlayed: double, NoOfGamesBought: double, FavoriteChannelOfTransaction: string, FavoriteGame: string, TotalRevenueGenerated: double]"
            ]
          },
          "metadata": {},
          "execution_count": 43
        }
      ]
    },
    {
      "cell_type": "code",
      "execution_count": 44,
      "metadata": {
        "collapsed": true,
        "id": "gLSIlxXXvViN"
      },
      "outputs": [],
      "source": [
        "from pyspark.ml.regression import LinearRegression\n",
        "from pyspark.ml import Pipeline\n",
        "linear =  LinearRegression(maxIter=10,labelCol=\"label\",featuresCol=\"features\")\n",
        "linear_pipeline = Pipeline(stages=preprocessingStages+[linear])\n",
        "linear_pipeline_model = linear_pipeline.fit(trainingData)"
      ]
    },
    {
      "cell_type": "code",
      "execution_count": 45,
      "metadata": {
        "collapsed": true,
        "id": "4c1F5kwnvViN",
        "colab": {
          "base_uri": "https://localhost:8080/"
        },
        "outputId": "fdead435-9e01-4a09-ef0e-ac835e40d673"
      },
      "outputs": [
        {
          "output_type": "execute_result",
          "data": {
            "text/plain": [
              "DenseVector([16.2914, -27.6826, 11.2369, 50.9675, 568.2731, 962.3547, 256.8509, 124.6854, -211.2476, 780.8438, -310.5964, -224.8955, -412.7585, -303.9911, -296.0214, -139.0526, 638.4619, -205.8136, -281.8331, 411.0944, 548.5627, -228.0027, 552.5193, -368.7713, 809.6958, -320.4168, -37.1369, -287.2063, 410.5, 270.6446, -190.371, 362.066, -299.9536, 284.0196, -220.6092, -405.2558, -34.3255, -287.4461, -365.0101, 639.3687, 494.0267, -321.29, -176.6228, -43.0395, 414.8511, -295.6123, 461.1964, 219.2705, -78.046, 480.7967, 538.919, 781.559, 323.1658, -335.6091, 185.1366, -50.6309, -54.982, -119.3579, 17.8877, 94.4341, 181.1529, -113.0042, 72.5918, 349.9534, -156.6683, 179.1358, -61.5142, 702.3917, 220.8339, 520.9916, -121.5378, -74.284, 17.2199, -208.7054, -92.0024, 150.086, 7.418, -210.2086, 427.9219, 322.4041, 155.1596, -157.171, 93.6241, 422.1097, -111.1847, 409.3975, 92.1631, 417.3683, -122.6456, 81.7141, -272.1993, -334.5995, 50.0526, 617.0819, 277.1438, 420.5553, 208.7728, -194.708, 191.536, 98.7038, 271.8027, 358.2574, -696.0323, 118.3842, -66.0754, -18.1266, -105.6704, 166.708, -168.2489, 313.7893, 289.9285, 133.4856, -93.3545, 8.7814, 132.1484, 379.4555, -58.6599, -20.4758, 279.6286, -137.8212, -63.1631, -172.5955, 335.5871, 53.1853, -83.7891, 38.6886, -84.6088, 234.5968, 482.2545, 225.3888, 114.3674, -66.797, 49.1494, 15.2077, 222.4244, 356.494, -1.4722, -240.6135, 61.9119, 486.4852, 437.3923, -31.9104, 310.6392, 553.2313, 14.6799, 93.1369, 535.1169, 101.4866, -42.0038, 26.6809, 66.2206, -229.4727, -301.7645, 395.1018, 221.4251, 86.0093, 495.1851, 78.2321, -81.5085, 23.1521, -64.862, 29.8255, -381.7462, -175.3971, 372.5309, -169.0725, 403.9675, -127.8163, 508.8885, 318.7143, 312.5172, -109.583, -86.9084, -109.5449, 2.146, -292.5504, 17.1746, -87.9811, 546.8838, -124.8351, 79.1775, -272.2766, 450.8992, 78.483, 8.0769, 80.6542, -395.1408, -21.8697, 140.5136, -347.2111, 333.1666, -46.7879, -17.8636, 98.1168, 32.8185, 285.6894, 241.1226, 222.657, 57.9905, 493.6007, -154.7069, 40.357, -101.7372, -171.3016, 160.6992, -156.4618, -132.6394, -77.8697, 96.0056, -265.1201, -40.9819, 11.6787, 10.0934, -62.0947, -72.8309, 24.8549, 443.6089, 2.7437, -99.2965, -180.2579, 200.6797, -225.6745, -354.5815, -74.2362, -104.6758, 92.406, -128.5042, 141.3349, 423.012, 48.6806, -175.1583, -16.4513, -231.5989, 181.1682, 157.9039, 195.2577, -104.8762, 37.819, 136.4669, -134.2019, 176.8326, 470.5023, 41.453, -181.2065, -173.8883, -147.7277, -279.5154, 275.1754, 269.8721, -116.6643, 373.2622, -57.0488, -31.9664, -309.4533, -329.0227, -6.1478, -167.2378, 29.5239, -235.2552, 130.0723, 284.3576, 391.3903, -369.7965, -139.2197, -290.9139, -188.3239, -320.534, 210.5717, 471.978, -346.6124, 211.3323, 235.9879, 422.8719, -362.3821, -432.0197, -328.6081, -381.1811, 55.8919, 220.7562, 408.2292, -309.7801, -325.6903, -309.7437, -289.492, 485.1087, -132.124, -309.235, -279.8998, -263.1107, -285.309, -0.8988, -282.5726, -328.6288, -53.7343, 585.3212, -199.7385, -306.0596, -381.4321, 307.939, 133.7837, 712.0025, -308.4929, -313.9908, -303.9618, -299.85, 249.4058, -286.9818, 233.3942, 578.9286, 448.2151, -105.8406, -394.9536, -233.914, 149.7824, -213.6802, 243.5621, 70.1603, 350.0152, -261.0441, 492.3568, -321.1308, -339.8684, 396.5362, -277.8993, 384.5113, 127.2901, -83.7878, -310.7758, -329.3163, 263.7656, 357.2424, -311.4504, 391.9855, 467.5037, -253.3092, 613.1262, 758.6429, 112.3835, -260.9845, 316.8711, -216.6132, -413.7457, -279.1453, -470.0897, -180.1702, -11.7546, 79.1107, -440.6371, 211.6534, 782.7421, -495.7706, -284.6242, -314.6549, 262.2865, -277.0468, 472.9735, -243.0705, 200.369, 121.7407, -240.9103, -272.9654, -199.8858, -76.8262, -291.6573, 247.6497, 689.2257, -186.7212, -405.0857, -405.7473, 631.5986, 697.5775, -160.6104, 642.3821, -206.1352, -31.8437, -264.9023, 685.2664, -112.0951, 743.2945, -300.4138, 218.7902, 421.5436, -257.4454, 238.6755, -346.4621, -350.6092, 558.6344, -199.8501, -249.846, 209.661, -242.641, -328.2181, 448.5275, 603.7493, -334.8898, -39.6176, -354.7595, -345.2614, 479.3781, -162.1064, -190.7625, -204.447, -291.6079, 636.1707, -311.2231, 379.3363, -286.8721, 383.3412, -22.9724, -457.7831, 142.4555, -411.5966, -328.4163, -318.057, -469.9131, 759.0101, 583.2095, 378.1619, -378.432, -9.0991, 172.1714, -304.6476, -305.7072, 70.9861, 270.9973, -290.8026, -359.1132, -156.8639, -252.3143, -316.8858, 478.577, 860.0947, -226.6092, 439.3417, -210.4798, -368.1118, 285.5175, -221.5044, 10.2728, -316.0988, -245.1617, 366.548, -259.4522, 396.3319, -331.033, 38.5666, -229.1131, -236.7171, -355.4064, -297.7193, 448.0568, -236.1773, -344.3317, 364.3352, 376.8222, -298.0721, -331.5673, -318.6415, 652.7374, 584.9766, -285.7717, 510.6838, -241.1118, 309.8876, 759.8375, -138.3761, -355.514, -252.7039, -254.3084, 582.2786, 766.827, -410.5932, 256.8396, 25.3138, 558.5584, -265.7267, 851.8708, -208.9166, -305.1246, -238.2395, 794.4132, -155.8804, -308.5978, -241.6149, 434.6811, -305.1166, 304.9905, -121.43, -230.247, 513.0906, -465.5816, -194.741, -321.2209, 164.386, -222.1917, -386.6383, -329.0771, 463.7722, 228.9607, -52.8391, 318.787, 711.9991, 682.6146, -254.7176, -319.5689, 208.2481, -221.0386, -191.3598, 881.237, 337.4132, -295.0921, -286.8571, -312.1928, -204.5818, -399.7687, 517.6854, -344.5834, 511.3399, -252.3425, 359.4812, -382.1636, -273.2046, -201.9346, -289.6258, -114.3126, -320.682, -301.7238, -319.4355, -351.3533, -187.2883, 267.6524, -272.4768, 176.2891, 420.0492, -364.6688, -310.8608, -6.963, -241.5803, 395.8209, -279.6634, 86.0161, -274.9219, -253.0975, 696.153, -352.5995, -291.8071, -366.1668, 624.2348, -264.7622, -276.1261, 360.0609, 706.9452, -274.1881, 594.1048, -177.2057, -205.2224, -261.776, 349.0081, -348.2289, -258.1888, 607.6379, -414.7163, -298.2189, -221.6757, -373.2327, -251.6886, -200.3042, -301.8124, -313.4415, -257.4486, 359.73, -282.5818, 440.959, -344.1676, -278.8842, -218.7526, -254.3392, -377.0161, -262.8911, -231.8087, -253.7466, -167.5353, -363.1651, -241.008, -270.4972, -235.9587, -387.1199, 699.9283, 177.495, -82.3432, -338.1418, -300.2627, -340.8868, -294.845, -282.1806, 632.5602, -6.3919, 322.3116, 707.2667, -321.9106, 369.8719, 148.7269, 668.977, -403.5648, 343.2884, -285.9429, 149.7497, 209.3659, 638.8265, 28.8001, 81.3214, -410.6094, -68.9402, -321.7401, -303.0779, -168.6046, 503.9327, -278.5778, -336.7753, -248.8748, -241.3778, 121.2886, -134.733, -220.4867, 323.2114, -233.3562, 90.4836, 404.6171, 601.1423, 340.162, -286.2655, 416.1447, 638.9701, 482.3104, -276.3802, -380.3659, -128.2741, 471.1669, 461.9355, 376.0446, -286.0233, 420.0034, -341.7192, -313.1305, -249.9461, 65.6132, -249.6347, -258.7553, 525.764, -211.9797, 678.9563, 30.3038, -252.4237, -277.2418, -53.2788, 427.2507, 95.6523, -261.5357, -438.2801, -306.2277, 587.8579, -225.2169, -310.9346, -143.7356, 760.5372, -255.5679, 450.9684, 440.5949, 141.4254, -252.9576, -294.9183, -353.4484, -263.1853, -281.6554, 536.6646, 180.9772, 205.4389, -344.0993, -285.3397, 285.3977, 526.033, -303.4327, -645.5016, 481.6225, 447.047, -343.4138, -230.6446, -138.0493, 225.5672, -357.6432, 456.8744, -314.5511, -257.1003, -256.0108, -236.4145, -266.8991, -352.3443, 39.9898, 599.4068, 539.2572, -247.1275, 526.0202, -216.228, 718.6006, -223.4407, 920.8278, 474.3526, 610.1675, 339.9399, 780.3582, -280.5764, -223.0437, -203.6595, 839.156, 592.1149, 446.7172, -203.9961, 469.0728, -288.5112, -286.2626, -255.6105, 323.2288, -274.3673, 36.8214, -253.9417, 1.3225, -251.2306, 614.8273, -202.1861, -306.4828, 153.754, -369.5023, -316.9263, 673.1805, 56.2797, 550.01, -301.6466, 530.738, 141.2607, -321.5897, -269.0271, -135.7684, 398.7924, -190.193, -271.9293, -315.6453, -240.8388, 458.1441, 4.7555, 282.1484, -213.7406, -240.8777, -337.3686, -286.9832, 308.4602, -394.3039, 163.91, 179.461, -237.4236, 426.8999, -233.4357, 602.7465, 446.1301, -270.7761, -330.4141, 515.9494, -266.649, 564.8151, 672.9626, -455.3729, -301.7352, 610.1534, 597.7871, -239.6987, -413.1848, 846.8784, -308.3138, -278.8172, 407.7922, 558.2103, -235.0616, 548.7365, -177.9565, -286.8948, -386.5998, 490.1299, 557.3277, -147.3274, 636.212, 42.6347, -267.1689, 388.0214, -414.0174, 432.5681, -288.4857, -281.7475, 485.3085, 694.3375, -313.0779, -247.8804, 454.4376, -249.0044, -225.5094, -307.6186, 533.1911, 237.0844, 128.0992, -249.5252, -286.3041, -330.9998, -213.3256, 355.3438, -39.5271, -362.0753, -25.3716, -38.6095, -286.1397, -160.0835, -341.2784, -374.0691, 416.9245, -506.3788, 490.7985, 447.29, -314.2256, 594.3717, -174.8681, 480.1756, -190.0419, -214.3583, -307.1166, 278.6795, -231.9079, -387.2631, -269.153, -286.2743, -399.4866, 684.4933, -271.9146, -192.8478, -286.6233, 506.986, -241.2744, 4.914, -252.366, 451.1392, -259.5072, 599.5205, -378.172, -165.7306, 173.0409, -273.0788, 214.4735, -288.8387, -243.1259, -271.9328, 301.1962, -453.4821, 523.0436, -321.9363, -267.9611, -243.3888, -182.9584, -374.0372, -376.0831, 680.4351, -395.1757, 469.8921, -347.1126, -226.9856, 655.6743, 471.7855, -329.3642, -369.8289, 463.5079, -284.5616, -334.8802, -181.1053, -333.9961, -242.2974, -272.2988, 29.8933, -270.2518, -333.1003, 428.1961, -385.901, -190.4263, -292.5528, 501.8444, 749.2104, -219.4809, -268.9103, -263.2001, -376.0883, -295.9688, 492.1767, 26.0326, -58.0928, -284.9534, 146.021, 829.8335, 237.1504, -245.5698, -261.8229, 96.3242, -363.7276, 382.7897, -256.1319, -301.2188, -362.079, -228.7682, -184.1017, -320.818, -287.5466, -1.414, -337.2606, 598.3229, -257.905, -304.4308, 304.2248, -192.5328, 445.1179, -194.4364, -359.0756, 30.112, 764.3747, 177.8309, -256.804, -132.9669, 786.4657, -306.2888, 159.369, -568.8901, -386.4728, -270.8979, 339.959, 385.1751, -352.8858, -327.0934, -46.8241, 322.8449, -224.6568, 675.2928, 862.359, 50.2771, -224.4466, 595.8596, -187.2082, -581.9318, 386.8967, 593.8822, -299.6213, -205.3364, 659.7935, -330.5705, -341.6061, 413.9615, -224.0411, -346.8724, 477.3611, 578.4024, 23.5223, 467.1889, -384.8327, 23.8667, -265.6449, -243.0442, 109.8235, -285.5675, 515.7419, -234.3406, -221.3048, 509.8688, 561.6085, 279.6029, 299.3944, -293.5782, 185.2106, 171.2559, 511.5465, -199.6206, -231.2648, -262.7977, -447.6795, -197.2572, 225.671, 508.8958, -248.0836, 174.416, 390.9745, 818.0137, 565.4152, -308.1882, 438.1039, -245.9105, -323.6614, 413.2343, -212.1983, 609.2048, 203.6188, -268.7499, -310.6634, 42.8334, 730.1784, -13.8154, -230.5991, -205.4353, -116.5998, -235.6582, -315.2029, -316.6299, -292.3175, 332.08, 381.746, -329.7199, -260.5141, -377.9764, 349.0809, -348.4547, 380.3095, 119.0423, 72.8106, -426.5042, 277.104, -328.2919, -149.8295, 827.8783, -321.9313, 188.6862, 428.2602, 660.7311, -310.9181, 403.3369, -240.8083, -429.0744, -244.9578, -282.6334, 443.248, 562.591, -365.9166, 425.0643, 221.7048, -302.6542, -100.3133, -284.5669, 677.1018, -379.363, 44.8369, 754.4522, -364.0093, -219.305, -250.6402, -134.7297, -216.6436, -87.9122, 496.434, 372.0821, -2.1076, 459.7889, 141.1123, 328.0117, 156.8731, 369.852, 503.4272, -272.4948, -386.0379, -388.122, 42.7837, 555.3546, -234.5373, -306.1099, -160.5518, -326.9776, -226.0268, 333.6618, -311.3311, 240.828, -237.5753, 259.1079, 587.0571, 279.6446, -401.3264, -276.0674, -392.8793, -180.7955, -397.2127, 415.8679, 508.62, 721.5175, -447.5696, -518.5021, -51.8064, -25.1681, -393.6587, 387.5743, -260.9358, 92.8594, -316.7447, 360.1292, -20.2792, -231.6101, 108.5326, -274.3102, -330.5808, -154.1377, -344.1802, -302.0277, 691.8978, 644.3543, -435.293, -247.5684, -315.7798, -221.1245, -304.8001, -272.8884, -320.9316, -259.8425, -422.8996, -230.0961, -205.5619, -286.1072, 759.271, -235.8461, -232.564, -295.5726, -275.0604, -370.965, 596.9369, 222.3309, 422.8421, -291.544, -335.5575, -30.488, -307.4117, 783.6686, 44.5538, -329.7823, -346.8215, -291.3031, 141.5964, 84.8402, 763.2556, -150.6036, -376.4331, 587.0594, 515.9388, -205.0609, 137.1634, -258.4001, -359.3563, 80.96, 589.9585, -266.7325, -227.7569, -278.5798, -300.3339, -22.7025, 836.0525, -397.7748, -258.6539, -293.752, -271.1763, 362.0214, -272.2331, -251.8054, -360.0751, -386.6443, -181.2247, -260.6999, 564.6402, -325.4687, 127.7163, 661.2055, 193.9225, -113.5728, -200.0681, -127.1271, 398.7054, -300.121, 589.8598, -325.9805, -266.5527, -233.7375, 354.8344, -396.2887, -207.5769, -360.3911, -205.7054, -258.5305, -336.7138, 453.8583, -39.1751, 194.7019, -121.9583, 422.2292, -254.2002, -258.769, -234.3085, -199.6166, -446.677, -308.0592, -78.4842, 614.974, -313.5622, -559.3305, -370.7546, -296.2444, 332.3477, -234.7551, -271.1925, -373.6815, -16.4769, -238.4483, 359.1808, -531.7498, 321.1592, -148.8673, -260.2279, 27.9626, -179.6817, 782.5635, -381.0323, -354.965, -470.8994, -350.7976, -334.6836, -248.039, -288.4219, -211.782, 161.6859, 778.3194, 44.9588, 663.5322, 540.7511, -225.6351, 590.1802, 26.0907, 21.3909, -297.0219, -236.4242, -82.2562, -239.1444, 317.9172, 390.6062, -446.2359, -377.6426, 410.5113, -218.3148, -127.1033, 525.7438, 523.5386, 165.2149, 462.959, 319.6824, -253.2751, 209.3256, -412.1211, 840.454, 319.1029, -335.9365, -255.4884, -296.5584, -277.5723, -221.6211, -220.7962, -144.1209, -37.2522, 438.5983, 499.9482, 175.1429, -53.6834, 248.9503, -208.5369, 276.1138, -97.3979, -357.405, -298.6948, -310.9947, 102.587, 562.2416, 922.19, 35.1234, -139.6977, -141.4624, 508.5787, -382.9669, -301.7038, 319.0006, 689.6978, -177.1591, -264.6841, 735.2127, 273.0474, 495.2736, -302.1623, -384.4178, 272.3363, -208.8266, -270.4443, 190.4766, -260.1399, -395.7108, -306.2179, 592.7133, -516.7571, -310.0392, -277.4265, -315.6862, -390.195, -153.6886, -9.5799, -283.2202, 567.2419, -254.6093, -366.1126, -233.7834, -108.7039, -254.5577, -361.7368, 320.2343, -378.7028, -260.3471, -378.7206, 42.9068, -190.2683, 597.145, 423.9436, 745.1482, -335.6573, -323.9223, -231.0942, -415.0921, 745.1276, -545.0863, 364.9309, 60.2226, 78.0702, 232.7115, 430.746, -303.4947, -367.117, 594.2393, -153.6104, -195.7006, -281.173, -337.0029, -346.5394, -39.8217, -264.8443, -293.7349, -355.1034, -194.1571, 445.7687, 302.5357, 138.9908, 621.9513, -381.762, 675.8662, -267.591, 528.0228, 189.7659, 4.3032, -317.3779, -293.5391, 607.0704, 188.9792, -258.8696, -478.5929, 531.1652, -292.494, 732.0161, -395.6096, 690.0026, 564.478, -267.4684, -132.2142, -22.8705, -437.0813, -328.5092, -321.8797, 202.2222, 524.3615, 162.5273, 606.9643, -132.8837, 386.5302, -242.163, -263.641, 32.4528, -311.61, 22.8029, 643.6925, -273.5607, 306.1843, 511.0529, -341.881, -277.9314, -215.0672, -120.1082, -328.8805, -9.9216, 405.2855, 477.0819, 399.8826, 522.3671, -354.8861, 539.4751, 6.185, -218.7331, 614.6548, 596.2543, -444.3448, -434.6758, 419.786, -333.4163, -167.8298, -409.8375, 197.9998, -232.2173, -223.6183, -262.9385, -274.0109, -337.6309, -322.9805, 189.8951, 282.1079, 505.6516, 519.17, -279.4264, -312.9744, -1.7967, -183.1374, 327.7437, 328.9623, -291.027, -282.5483, 383.2227, -333.8139, -161.3502, 832.5181, 743.5011, -324.7464, -256.5827, -274.3823, 269.0845, -256.5565, -307.8675, -526.5636, 470.1636, -252.5044, 429.9824, 659.5248, -226.8268, 287.9915, 651.6437, -262.556, 650.0857, -319.2709, -297.3493, -404.7968, -277.6779, -72.4635, -153.6229, -367.8111, 115.4893, 364.5779, -317.3749, 164.3159, 50.3652, -53.0875, 275.1756, -337.3764, -376.5219, -233.7083, -244.484, -42.5951, -361.8088, -228.5644, -325.0441, 710.6062, -298.6289, 469.6324, 634.6995, 246.5742, -194.7597, 134.2573, -196.8065, 430.215, -281.744, 44.8791, -384.2001, -127.4223, -299.0173, -231.2118, 181.1382, -310.2475, 332.8517, 91.507, -313.5332, 561.7964, 466.5777, -262.9563, -196.3363, -249.9077, -299.0224, -314.1535, 578.3818, -283.6831, 498.9421, -110.914, 756.6663, -303.3632, -209.8381, -133.6634, -350.017, -292.3837, 318.3149, -284.6613, -50.5455, -544.9739, 391.8255, -340.9489, -296.7359, -226.7931, -147.6592, -315.5765, -287.1091, -212.8561, -324.5325, -292.3863, 496.254, -61.7998, 283.4216, -280.2752, 481.7803, -301.0984, 406.3378, 218.9272, -198.6572, -306.3, -394.008, -247.3676, -203.4374, -240.6747, -321.5813, 633.4172, -42.0956, -294.1224, -230.2956, 476.7767, 145.6548, -103.0493, -130.1202, -200.5181, 434.5696, 221.5065, -142.036, 144.3822, 181.5415, -270.0923, -248.8114, -418.951, -363.2891, 789.8369, 775.0192, -278.3968, 564.9372, -338.7222, -390.5232, -43.373, 134.5651, 50.2113, -220.1095, 439.8592, -196.1862, -218.4268, -190.7128, -225.3549, 271.982, 90.7924, -246.6165, 184.2097, -279.7007, -262.4224, 513.5618, -303.7925, -261.3381, -283.535, -254.2161, -192.8349, -251.7214, -219.3024, -163.739, 635.1914, 296.4455, -284.1877, 362.4873, -485.4628, 817.2586, -337.5959, 146.5529, -248.0461, -251.5605, -357.0714, -166.9266, -229.4039, -334.6978, -281.3952, 778.2121, -425.5255, -253.6433, -261.9017, -321.6574, -293.2738, 411.8001, -393.0079, 182.2397, -185.8339, -339.9677, -482.1662, -274.5275, 482.1201, 277.7939, 67.338, -182.8733, 446.718, -163.2895, -376.4587, 822.9308, -230.5758, 673.3952, -204.9191, -208.9154, -235.256, 724.3502, -225.9766, -327.0048, -355.5082, -186.1993, 488.0025, -235.564, -375.8428, 23.1369, 396.2525, -103.4431, -214.3289, -285.3063, -257.5641, -350.5063, 239.3417, -215.675, 380.1112, 115.8635, -332.4866, 721.9025, -283.395, -169.6862, -247.2768, -383.2448, -147.3092, -248.8875, -91.9852, 762.6324, 309.9645, -215.1613, -273.2678, -68.4028, -321.4771, -223.0672, -568.7837, -209.4398, -205.0505, -393.9543, -261.1888, 270.979, -266.6968, 116.786, -300.7203, 297.4451, -269.8897, -110.6455, -382.6128, 603.6384, -230.1485, -404.2498, -75.4639, -286.9143, 533.575, -252.3351, 298.3455, 35.8197, -250.354, 594.9626, 706.6938, -308.2345, 464.9174, -308.3684, 234.026, -224.8594, 529.4265, 617.362, -80.4822, -84.7707, -71.0053, -358.88, -262.3177, 148.5297, 108.5795, -300.3721, 40.8809, -162.0118, 378.0554, -122.3988, -384.9022, -389.0185, -230.0303, -162.518, -249.9445, -329.9028, -267.0834, -199.4637, 621.2605, 576.3205, 373.3661, 327.0252, 616.0351, -411.9036, 502.1172, -242.1378, -256.3451, -57.4134, -292.122, -300.4461, -272.7601, -262.7205, -260.141, 578.7235, 1.1173, -240.6785, 720.5491, -297.5968, -470.6335, 350.7499, -75.929, -308.6244, 93.8847, -324.4276, 610.8424, 79.6357, 544.2475, 356.5112, -184.9658, -322.052, -390.1853, 638.7048, 538.9648, 623.5203, 676.1865, 557.1036, -243.8938, -536.6634, -81.2065, -119.099, 291.9144, -59.2757, 149.8798, 763.0599, -169.9658, -313.9226, -291.5599, -375.7979, 612.229, 644.8309, 289.5797, -22.4241, 513.6616, -238.4068, 21.5169, -347.1266, -192.8727, -221.9806, -162.6251, -251.9586, -270.3423, -99.266, -451.5775, -345.9018, -159.6497, -311.1756, 531.6064, -352.2486, -102.9906, -188.6884, -305.8265, -312.7804, -261.734, 256.0686, -287.5868, -320.4205, 509.2953, 478.0283, -324.2576, -365.0105, 463.8043, -168.1763, -53.328, 147.2794, -495.0136, 765.1579, 80.0771, -221.5088, -160.6807, -392.355, -272.3042, 359.7933, 716.2654, -232.9976, -492.2612, 359.2088, 653.2645, 321.7143, 221.7249, 246.3715, -247.0558, -249.0546, -321.2059, 330.7328, -324.4969, 562.5713, -244.0126, -336.6917, 428.2399, 298.7178, 508.8058, 559.1021, -45.0239, -289.5052, -221.5815, -341.4523, 332.8502, 530.4697, -284.274, 295.9299, -321.7308, 483.6356, -329.0813, 518.2087, -284.3442, 159.7175, 589.1579, -289.6525, -316.0456, -301.0125, 493.5495, 351.1252, -316.999, 722.5243, -423.2451, 498.071, 224.6573, 734.3918, -311.0754, -274.4727, -306.3473, 550.5194, 744.439, 299.7155, 17.2684, 301.3372, 649.5508, -155.5264, -263.2481, -205.0075, -280.2396, -208.1274, -351.6104, -259.8396, 631.4429, -137.9558, 237.6197, -214.3805, -251.0585, 580.5858, -222.2943, 120.2139, -271.3557, 639.6126, -304.7671, -399.8775, -276.5334, 212.634, -283.5196, -522.9331, -256.668, 668.9276, -169.5728, -221.3113, -377.3859, -246.627, -292.9958, 114.8058, 470.401, 380.6386, -323.2342, 505.7054, 161.949, -428.3263, -372.262, -78.085, 231.097, -494.3852, 201.2497, -484.8306, -201.6424, -201.5292, -290.6486, -253.4231, 122.0446, -250.9629, -322.433, -31.7132, -255.7858, 444.9181, 342.7547, 73.2708, -415.4957, 225.3146, 256.5547, 793.6511, 494.7479, -311.5005, -217.8926, -208.84, 478.6052, 563.733, -298.6856, 274.4795, 616.2037, 462.0497, -299.3669, 208.7002, 294.2535, -300.0113, 302.8603, -371.4602, -29.5892, -143.1772, -208.8761, -270.677, 392.0353, -150.4264, -326.4466, -296.1608, -260.0622, -502.9681, -280.1072, 17.7704, -294.7019, -407.4037, 512.9406, -263.2831, -239.4893, 373.8355, 35.2681, -229.3231, 460.1579, 278.0263, -312.8646, -280.2715, -44.6104, -227.6078, 30.7287, -359.2003, -302.937, -310.5972, 218.0983, 140.9686, -275.1885, -506.5759, -275.7319, -422.3073, -285.4497, 54.054, -407.275, 200.8581, -368.771, -272.8578, 362.1424, -226.4441, 633.051, -257.0493, -227.6973, 122.9916, -75.0217, -217.1138, -262.6477, 293.0268, -230.0002, -256.6934, -292.2053, 535.221, -305.3173, -30.6157, -147.5637, 462.4898, -319.2571, 720.1558, -278.2259, -422.8259, -323.1386, -358.4858, -293.1225, 454.351, 744.6435, 644.3973, -330.165, -310.5589, -301.0885, 770.9092, -235.6856, -308.9901, -267.1804, -223.6103, 244.4824, -227.6712, 699.9206, -259.3868, -281.0959, 61.4302, -254.617, 550.7287, 408.4385, 223.7562, -198.5992, -214.5677, -410.243, 603.9558, 258.0533, -122.6562, -353.5286, 202.3657, 860.7878, -250.3119, -40.6788, 68.2151, -447.3922, -361.0988, -253.831, -264.6516, -311.2809, 757.8321, -439.1537, -205.3786, 172.7152, -411.0997, -213.851, -233.9749, 564.6904, 313.467, -262.548, -546.6203, -283.9877, -223.1895, 442.3875, -285.937, -303.5777, 265.2476, 474.8815, -218.1007, -279.5644, -379.9547, 700.4854, -319.847, 409.762, -159.4956, -214.8545, -218.7198, 424.2818, -300.7617, 781.1333, 478.2809, -194.568, 86.4715, 403.1542, -262.3456, -194.6554, 279.5411, 410.3402, -297.6713, -267.125, -265.0762, -318.8989, 632.1959, -292.9655, -266.6257, -119.5607, -256.4548, 71.0231, -126.3367, -159.3343, -393.507, 156.2075, -322.2105, -49.279, 100.3821, 824.1726, 368.8403, -125.9034, 634.1076, 306.1454, -475.3183, 493.6911, 12.7124, -331.4625, -295.7864, 133.1423, 544.2077, -262.4773, 442.9734, -194.388, 656.251, 536.2782, -227.5124, 668.989, -271.981, 386.5648, 328.3943, -342.5736, 734.5411, -326.7478, 336.3817, 305.2168, -414.1923, -269.1681, 160.3999, -254.1364, 443.5921, -202.7574, 576.4305, -266.5921, -304.9746, 395.1414, -327.3759, -252.6255, -285.9538, -313.138, -408.1712, -319.4319, 897.6312, -354.537, -322.8619, 418.6819, 396.7648, -321.4774, -185.2124, -392.7214, -442.1453, 23.3259, -363.6891, 492.9294, -28.8489, -262.7603, -201.7591, -203.015, -253.9151, -384.3238, 790.2477, 611.2495, 141.2139, -326.0644, -467.3649, -344.0033, 313.5943, -278.347, -268.6421, 91.1072, -275.8131, -248.0451, -241.0163, -249.1785, 360.9293, 410.4699, -291.3207, 529.3615, 196.7316, -322.03, -166.9738, -246.546, -283.2282, 185.3747, 548.2835, -308.5532, 528.6496, 486.2588, 36.4229, 671.5066, 33.8557, 776.1631, -158.5843, -387.8938, 595.9471, -348.8229, -292.3131, -340.9263, -286.6709, -321.7659, -271.2704, 669.6842, -316.3376, 340.8883, 600.7519, -320.1933, -274.5526, 202.6445, 619.1931, 77.974, -438.2399, 600.7843, -58.1912, 946.6159, 339.077, -351.3577, 753.1058, -318.2097, -352.1517, -323.3459, 393.7846, -361.9791, -237.0048, 235.2524, 206.8764, -324.9329, -262.4751, 128.0413, 500.4901, -438.2548, 530.8239, 680.6019, -178.9025, -301.677, -349.683, -250.7091, 116.2067, -303.1228, 441.3312, 23.72, 415.9872, -454.7614, -342.4663, 508.2419, -307.4381, -399.0074, -66.8172, 66.8172, 9.6594, -9.6594, -34.6878, 34.6878])"
            ]
          },
          "metadata": {},
          "execution_count": 45
        }
      ],
      "source": [
        "linear_pipeline_model.stages[-1].coefficients"
      ]
    },
    {
      "cell_type": "code",
      "source": [
        "linear_pipeline_model.stages[-1].intercept"
      ],
      "metadata": {
        "colab": {
          "base_uri": "https://localhost:8080/"
        },
        "id": "zWvVTWPAgfD1",
        "outputId": "eb0dbed4-bd51-4299-b941-a9bf4b2c5304"
      },
      "execution_count": 46,
      "outputs": [
        {
          "output_type": "execute_result",
          "data": {
            "text/plain": [
              "185.92850481737273"
            ]
          },
          "metadata": {},
          "execution_count": 46
        }
      ]
    },
    {
      "cell_type": "markdown",
      "metadata": {
        "id": "YJI2UWjMvViN"
      },
      "source": [
        "#### Predicting on train and test data"
      ]
    },
    {
      "cell_type": "code",
      "execution_count": 47,
      "metadata": {
        "collapsed": true,
        "id": "quWxmEBqvViN"
      },
      "outputs": [],
      "source": [
        "train_predictions_linear = linear_pipeline_model.transform(trainingData)"
      ]
    },
    {
      "cell_type": "code",
      "execution_count": 48,
      "metadata": {
        "collapsed": true,
        "id": "EGV2rrOKvViN",
        "colab": {
          "base_uri": "https://localhost:8080/"
        },
        "outputId": "02f21f6b-e0d7-463b-f483-c8c1173ed82c"
      },
      "outputs": [
        {
          "output_type": "stream",
          "name": "stdout",
          "text": [
            "+------------------------------------------------------------------------------------------------------------------------------------------------------------------------------------------------------------+\n",
            "|features                                                                                                                                                                                                    |\n",
            "+------------------------------------------------------------------------------------------------------------------------------------------------------------------------------------------------------------+\n",
            "|(2258,[0,1,2,3,4,5,6,7,8,2252,2255,2256],[0.1,0.1875,0.25,0.2956989247311828,0.0847457627118644,0.09009009009009009,0.0842286823098207,0.14173228346456693,1.0,1.0,1.0,1.0])                                |\n",
            "|(2258,[0,1,2,3,4,5,6,7,9,2252,2254,2256],[0.1,0.1875,0.15000000000000002,0.9193548387096775,0.16101694915254236,0.17117117117117117,0.008803765855761975,0.028871391076115485,1.0,1.0,1.0,1.0])             |\n",
            "|(2258,[0,1,2,3,4,5,6,7,10,2252,2254,2256],[0.30000000000000004,0.1875,0.1,0.870967741935484,0.1440677966101695,0.15315315315315314,0.038053828739803806,0.17060367454068243,1.0,1.0,1.0,1.0])               |\n",
            "|(2258,[1,2,3,4,5,6,7,11,2252,2254,2256],[0.375,0.15000000000000002,0.43279569892473124,0.0847457627118644,0.07207207207207207,0.013115814438176004,0.04461942257217848,1.0,1.0,1.0,1.0])                    |\n",
            "|(2258,[0,1,2,3,4,5,6,7,12,2252,2254,2257],[0.2,0.5,0.45,0.7231182795698925,0.2033898305084746,0.12612612612612611,0.002695030364008768,0.0026246719160104987,1.0,1.0,1.0,1.0])                              |\n",
            "|(2258,[0,1,2,3,4,5,6,7,13,2252,2254,2256],[0.1,0.375,0.25,0.8172043010752689,0.1016949152542373,0.0990990990990991,0.05346940242193396,0.1548556430446194,1.0,1.0,1.0,1.0])                                 |\n",
            "|(2258,[0,1,2,3,4,5,6,7,14,2252,2255,2256],[0.30000000000000004,0.375,0.30000000000000004,0.860215053763441,0.16101694915254236,0.13513513513513514,0.09856624384634734,0.21391076115485563,1.0,1.0,1.0,1.0])|\n",
            "|(2258,[0,1,2,3,4,5,6,7,15,2253,2254,2256],[0.2,0.3125,0.15000000000000002,0.6263440860215054,0.11864406779661017,0.12612612612612611,0.07068166301340328,0.07349081364829396,1.0,1.0,1.0,1.0])              |\n",
            "|(2258,[1,2,3,4,5,6,7,16,2252,2254,2257],[0.3125,0.1,0.5994623655913979,0.06779661016949153,0.07207207207207207,0.007833554924718818,0.0013123359580052493,1.0,1.0,1.0,1.0])                                 |\n",
            "|(2258,[0,1,2,3,4,5,6,7,17,2252,2255,2256],[0.2,0.25,0.30000000000000004,0.18010752688172044,0.13559322033898305,0.14414414414414414,0.07046606058428259,0.16272965879265092,1.0,1.0,1.0,1.0])               |\n",
            "|(2258,[1,2,3,4,5,6,7,18,2252,2254,2256],[0.25,0.05,0.7553763440860216,0.11864406779661017,0.12612612612612611,0.009594308095871215,0.06692913385826771,1.0,1.0,1.0,1.0])                                    |\n",
            "|(2258,[0,1,2,3,4,5,6,7,19,2252,2254,2256],[0.1,0.375,0.2,0.29838709677419356,0.05084745762711865,0.05405405405405406,0.01537963994394337,0.03412073490813648,1.0,1.0,1.0,1.0])                              |\n",
            "|(2258,[0,1,2,3,4,5,6,7,20,2252,2255,2256],[0.1,0.25,0.2,0.478494623655914,0.09322033898305085,0.0990990990990991,0.03880843724172626,0.06430446194225722,1.0,1.0,1.0,1.0])                                  |\n",
            "|(2258,[0,1,2,3,4,5,6,7,21,2252,2254,2256],[0.2,0.25,0.35000000000000003,0.935483870967742,0.0423728813559322,0.04504504504504504,0.03650867799777211,0.07349081364829396,1.0,1.0,1.0,1.0])                  |\n",
            "|(2258,[0,1,2,3,4,5,6,7,22,2252,2254,2256],[0.1,0.1875,0.15000000000000002,0.9327956989247312,0.11016949152542373,0.11711711711711711,0.05810485464802904,0.07611548556430446,1.0,1.0,1.0,1.0])              |\n",
            "|(2258,[1,2,3,4,5,6,7,23,2252,2254,2256],[0.5,0.25,0.9973118279569894,0.1440677966101695,0.15315315315315314,0.07657479607603579,0.0879265091863517,1.0,1.0,1.0,1.0])                                        |\n",
            "|(2258,[1,2,3,4,5,6,7,24,2252,2254,2256],[0.25,0.05,0.239247311827957,0.17796610169491525,0.15315315315315314,0.009594308095871215,0.04330708661417323,1.0,1.0,1.0,1.0])                                     |\n",
            "|(2258,[0,1,2,3,4,5,6,7,25,2252,2254,2256],[0.1,0.3125,0.2,0.8790322580645162,0.1271186440677966,0.13513513513513514,0.1358654640842287,0.3779527559055118,1.0,1.0,1.0,1.0])                                 |\n",
            "|(2258,[0,1,2,3,4,5,6,7,26,2252,2254,2256],[0.1,0.3125,0.25,0.674731182795699,0.03389830508474576,0.036036036036036036,0.006539940349994611,0.03412073490813648,1.0,1.0,1.0,1.0])                            |\n",
            "|(2258,[0,1,2,3,4,5,6,7,27,2252,2255,2256],[0.1,0.375,0.15000000000000002,0.9489247311827957,0.09322033898305085,0.08108108108108109,0.1450285673218585,0.19160104986876642,1.0,1.0,1.0,1.0])                |\n",
            "+------------------------------------------------------------------------------------------------------------------------------------------------------------------------------------------------------------+\n",
            "only showing top 20 rows\n",
            "\n"
          ]
        }
      ],
      "source": [
        "train_predictions_linear.select('features').show(truncate=False)"
      ]
    },
    {
      "cell_type": "code",
      "source": [
        "train_predictions_linear.show()"
      ],
      "metadata": {
        "colab": {
          "base_uri": "https://localhost:8080/"
        },
        "id": "nCZQH7AJg69Y",
        "outputId": "defd0f2a-9f5a-4b91-8384-ff69b6bfa6c8"
      },
      "execution_count": 49,
      "outputs": [
        {
          "output_type": "stream",
          "name": "stdout",
          "text": [
            "+----------+----+------------+-------------+-------------+------+-----------------+------------------+---------------+---------------+---------------+----------------------------+------------+---------------------+--------------------+--------------------+----------------+----------+----------------------------------+------------------+-----------------+-------------+--------------------------------+----------------+--------------------+--------------------+------+--------------------+\n",
            "|CustomerID|City|NoOfChildren|MinAgeOfChild|MaxAgeOfChild|Tenure|FrquncyOfPurchase|NoOfUnitsPurchased|FrequencyOFPlay|NoOfGamesPlayed|NoOfGamesBought|FavoriteChannelOfTransaction|FavoriteGame|TotalRevenueGenerated|        num_features| scaled_num_features|CustomerID_index|City_index|FavoriteChannelOfTransaction_index|FavoriteGame_index|   CustomerID_vec|     City_vec|FavoriteChannelOfTransaction_vec|FavoriteGame_vec|        cat_features|            features| label|          prediction|\n",
            "+----------+----+------------+-------------+-------------+------+-----------------+------------------+---------------+---------------+---------------+----------------------------+------------+---------------------+--------------------+--------------------+----------------+----------+----------------------------------+------------------+-----------------+-------------+--------------------------------+----------------+--------------------+--------------------+------+--------------------+\n",
            "|      1001|   1|         2.0|          3.0|          8.0| 210.0|             11.0|              11.0|         2344.0|          108.0|           10.0|                     Uniform|     Uniform|               107.51|[2.0,3.0,8.0,210....|[0.1,0.1875,0.25,...|             0.0|       0.0|                               1.0|               0.0| (2244,[0],[1.0])|(2,[0],[1.0])|                   (2,[1],[1.0])|   (2,[0],[1.0])|(2250,[0,2244,224...|(2258,[0,1,2,3,4,...|  52.0|   51.99895553453558|\n",
            "|      1002|   1|         2.0|          3.0|          6.0| 442.0|             20.0|              20.0|          245.0|           22.0|            7.0|                    Favorite|     Uniform|                382.4|[2.0,3.0,6.0,442....|[0.1,0.1875,0.150...|             1.0|       0.0|                               0.0|               0.0| (2244,[1],[1.0])|(2,[0],[1.0])|                   (2,[0],[1.0])|   (2,[0],[1.0])|(2250,[1,2244,224...|(2258,[0,1,2,3,4,...|1182.0|  1181.9982022394422|\n",
            "|      1003|   1|         4.0|          3.0|          5.0| 424.0|             18.0|              18.0|         1059.0|          130.0|           18.0|                    Favorite|     Uniform|               135.01|[4.0,3.0,5.0,424....|[0.30000000000000...|             2.0|       0.0|                               0.0|               0.0| (2244,[2],[1.0])|(2,[0],[1.0])|                   (2,[0],[1.0])|   (2,[0],[1.0])|(2250,[2,2244,224...|(2258,[0,1,2,3,4,...|  89.0|   89.00160537435643|\n",
            "|      1004|   1|         1.0|          6.0|          6.0| 261.0|             11.0|               9.0|          365.0|           34.0|           11.0|                    Favorite|     Uniform|                125.0|[1.0,6.0,6.0,261....|[0.0,0.375,0.1500...|             3.0|       0.0|                               0.0|               0.0| (2244,[3],[1.0])|(2,[0],[1.0])|                   (2,[0],[1.0])|   (2,[0],[1.0])|(2250,[3,2244,224...|(2258,[1,2,3,4,5,...|   9.0|     9.0003051155675|\n",
            "|      1007|   1|         3.0|          8.0|         12.0| 369.0|             25.0|              15.0|           75.0|            2.0|           25.0|                    Favorite|    Favorite|                127.5|[3.0,8.0,12.0,369...|[0.2,0.5,0.45,0.7...|             4.0|       0.0|                               0.0|               1.0| (2244,[4],[1.0])|(2,[0],[1.0])|                   (2,[0],[1.0])|   (2,[1],[1.0])|(2250,[4,2244,224...|(2258,[0,1,2,3,4,...|  20.0|   20.00772466236097|\n",
            "|      1008|   1|         2.0|          6.0|          8.0| 404.0|             13.0|              12.0|         1488.0|          118.0|           13.0|                    Favorite|     Uniform|                122.5|[2.0,6.0,8.0,404....|[0.1,0.375,0.25,0...|             5.0|       0.0|                               0.0|               0.0| (2244,[5],[1.0])|(2,[0],[1.0])|                   (2,[0],[1.0])|   (2,[0],[1.0])|(2250,[5,2244,224...|(2258,[0,1,2,3,4,...|  12.0|  12.000938224673092|\n",
            "|      1009|   1|         4.0|          6.0|          9.0| 420.0|             20.0|              16.0|         2743.0|          163.0|           16.0|                     Uniform|     Uniform|               164.96|[4.0,6.0,9.0,420....|[0.30000000000000...|             6.0|       0.0|                               1.0|               0.0| (2244,[6],[1.0])|(2,[0],[1.0])|                   (2,[1],[1.0])|   (2,[0],[1.0])|(2250,[6,2244,224...|(2258,[0,1,2,3,4,...|  94.0|   94.00108550764372|\n",
            "|      1010|   2|         3.0|          5.0|          6.0| 333.0|             15.0|              15.0|         1967.0|           56.0|           15.0|                    Favorite|     Uniform|               112.62|[3.0,5.0,6.0,333....|[0.2,0.3125,0.150...|             7.0|       1.0|                               0.0|               0.0| (2244,[7],[1.0])|(2,[1],[1.0])|                   (2,[0],[1.0])|   (2,[0],[1.0])|(2250,[7,2245,224...|(2258,[0,1,2,3,4,...| 333.0|   332.9991389654209|\n",
            "|      1011|   1|         1.0|          5.0|          5.0| 323.0|              9.0|               9.0|          218.0|            1.0|            3.0|                    Favorite|    Favorite|               211.92|[1.0,5.0,5.0,323....|[0.0,0.3125,0.1,0...|             8.0|       0.0|                               0.0|               1.0| (2244,[8],[1.0])|(2,[0],[1.0])|                   (2,[0],[1.0])|   (2,[1],[1.0])|(2250,[8,2244,224...|(2258,[1,2,3,4,5,...| 935.0|   935.0079438727696|\n",
            "|      1012|   1|         3.0|          4.0|          9.0| 167.0|             17.0|              17.0|         1961.0|          124.0|           17.0|                     Uniform|     Uniform|               125.04|[3.0,4.0,9.0,167....|[0.2,0.25,0.30000...|             9.0|       0.0|                               1.0|               0.0| (2244,[9],[1.0])|(2,[0],[1.0])|                   (2,[1],[1.0])|   (2,[0],[1.0])|(2250,[9,2244,224...|(2258,[0,1,2,3,4,...| 132.0|  131.99988836160406|\n",
            "|      1013|   1|         1.0|          4.0|          4.0| 381.0|             15.0|              15.0|          267.0|           51.0|           15.0|                    Favorite|     Uniform|                167.5|[1.0,4.0,4.0,381....|[0.0,0.25,0.05,0....|            10.0|       0.0|                               0.0|               0.0|(2244,[10],[1.0])|(2,[0],[1.0])|                   (2,[0],[1.0])|   (2,[0],[1.0])|(2250,[10,2244,22...|(2258,[1,2,3,4,5,...|  44.0|  44.000407295557096|\n",
            "|      1019|   1|         2.0|          6.0|          7.0| 211.0|              7.0|               7.0|          428.0|           26.0|            0.0|                    Favorite|     Uniform|               144.93|[2.0,6.0,7.0,211....|[0.1,0.375,0.2,0....|            11.0|       0.0|                               0.0|               0.0|(2244,[11],[1.0])|(2,[0],[1.0])|                   (2,[0],[1.0])|   (2,[0],[1.0])|(2250,[11,2244,22...|(2258,[0,1,2,3,4,...| 603.0|   602.9999549303636|\n",
            "|      1020|   1|         2.0|          4.0|          7.0| 278.0|             12.0|              12.0|         1080.0|           49.0|            8.0|                     Uniform|     Uniform|               182.36|[2.0,4.0,7.0,278....|[0.1,0.25,0.2,0.4...|            12.0|       0.0|                               1.0|               0.0|(2244,[12],[1.0])|(2,[0],[1.0])|                   (2,[1],[1.0])|   (2,[0],[1.0])|(2250,[12,2244,22...|(2258,[0,1,2,3,4,...| 811.0|   810.9991909147101|\n",
            "|      1021|   1|         3.0|          4.0|         10.0| 448.0|              6.0|               6.0|         1016.0|           56.0|            6.0|                    Favorite|     Uniform|                100.0|[3.0,4.0,10.0,448...|[0.2,0.25,0.35000...|            13.0|       0.0|                               0.0|               0.0|(2244,[13],[1.0])|(2,[0],[1.0])|                   (2,[0],[1.0])|   (2,[0],[1.0])|(2250,[13,2244,22...|(2258,[0,1,2,3,4,...|   0.0|-7.30730695380543...|\n",
            "|      1022|   1|         2.0|          3.0|          6.0| 447.0|             14.0|              14.0|         1617.0|           58.0|           11.0|                    Favorite|     Uniform|               199.93|[2.0,3.0,6.0,447....|[0.1,0.1875,0.150...|            14.0|       0.0|                               0.0|               0.0|(2244,[14],[1.0])|(2,[0],[1.0])|                   (2,[0],[1.0])|   (2,[0],[1.0])|(2250,[14,2244,22...|(2258,[0,1,2,3,4,...| 892.0|   891.9979794157209|\n",
            "|      1023|   1|         1.0|          8.0|          8.0| 471.0|             18.0|              18.0|         2131.0|           67.0|           18.0|                    Favorite|     Uniform|                172.5|[1.0,8.0,8.0,471....|[0.0,0.5,0.25,0.9...|            15.0|       0.0|                               0.0|               0.0|(2244,[15],[1.0])|(2,[0],[1.0])|                   (2,[0],[1.0])|   (2,[0],[1.0])|(2250,[15,2244,22...|(2258,[1,2,3,4,5,...|  25.0|   24.99905549010151|\n",
            "|      1024|   1|         1.0|          4.0|          4.0| 189.0|             22.0|              18.0|          267.0|           33.0|           12.0|                    Favorite|     Uniform|               348.09|[1.0,4.0,4.0,189....|[0.0,0.25,0.05,0....|            16.0|       0.0|                               0.0|               0.0|(2244,[16],[1.0])|(2,[0],[1.0])|                   (2,[0],[1.0])|   (2,[0],[1.0])|(2250,[16,2244,22...|(2258,[1,2,3,4,5,...|1166.0|  1165.9988093138688|\n",
            "|      1025|   1|         2.0|          5.0|          7.0| 427.0|             16.0|              16.0|         3781.0|          288.0|           16.0|                    Favorite|     Uniform|               185.02|[2.0,5.0,7.0,427....|[0.1,0.3125,0.2,0...|            17.0|       0.0|                               0.0|               0.0|(2244,[17],[1.0])|(2,[0],[1.0])|                   (2,[0],[1.0])|   (2,[0],[1.0])|(2250,[17,2244,22...|(2258,[0,1,2,3,4,...|  98.0|   98.00231746853855|\n",
            "|      1026|   1|         2.0|          5.0|          8.0| 351.0|              5.0|               5.0|          182.0|           26.0|            3.0|                    Favorite|     Uniform|               139.99|[2.0,5.0,8.0,351....|[0.1,0.3125,0.25,...|            18.0|       0.0|                               0.0|               0.0|(2244,[18],[1.0])|(2,[0],[1.0])|                   (2,[0],[1.0])|   (2,[0],[1.0])|(2250,[18,2244,22...|(2258,[0,1,2,3,4,...| 147.0|  147.00003331658445|\n",
            "|      1027|   1|         2.0|          6.0|          6.0| 453.0|             12.0|              10.0|         4036.0|          146.0|           12.0|                     Uniform|     Uniform|                135.0|[2.0,6.0,6.0,453....|[0.1,0.375,0.1500...|            19.0|       0.0|                               1.0|               0.0|(2244,[19],[1.0])|(2,[0],[1.0])|                   (2,[1],[1.0])|   (2,[0],[1.0])|(2250,[19,2244,22...|(2258,[0,1,2,3,4,...|  21.0|  20.999742408195374|\n",
            "+----------+----+------------+-------------+-------------+------+-----------------+------------------+---------------+---------------+---------------+----------------------------+------------+---------------------+--------------------+--------------------+----------------+----------+----------------------------------+------------------+-----------------+-------------+--------------------------------+----------------+--------------------+--------------------+------+--------------------+\n",
            "only showing top 20 rows\n",
            "\n"
          ]
        }
      ]
    },
    {
      "cell_type": "code",
      "source": [
        "test_predictions_linear = linear_pipeline_model.transform(testingData)"
      ],
      "metadata": {
        "id": "D8VU9MW2g65_"
      },
      "execution_count": 50,
      "outputs": []
    },
    {
      "cell_type": "code",
      "execution_count": 51,
      "metadata": {
        "collapsed": true,
        "id": "pJfigbjVvViO",
        "colab": {
          "base_uri": "https://localhost:8080/"
        },
        "outputId": "e701bacb-0cc9-4e60-8ef6-b8c2019fc43c"
      },
      "outputs": [
        {
          "output_type": "stream",
          "name": "stdout",
          "text": [
            "Training Set RMSE   0.0024697392740015665\n"
          ]
        }
      ],
      "source": [
        "# Find the error metric - RMSE\n",
        "from pyspark.ml.evaluation import RegressionEvaluator\n",
        "predictionAndLabels_train_linear = train_predictions_linear.select(\"prediction\",\"label\")\n",
        "evaluator = RegressionEvaluator(metricName=\"rmse\")\n",
        "train_rmse_linear = evaluator.evaluate(predictionAndLabels_train_linear)\n",
        "print(\"Training Set RMSE  \",train_rmse_linear)"
      ]
    },
    {
      "cell_type": "code",
      "execution_count": 52,
      "metadata": {
        "collapsed": true,
        "id": "sTgfhhNyvViO",
        "colab": {
          "base_uri": "https://localhost:8080/"
        },
        "outputId": "a890788c-bb66-42f3-da03-aec81b4caeb3"
      },
      "outputs": [
        {
          "output_type": "stream",
          "name": "stdout",
          "text": [
            "Testing Set RMSE   621.6000753702514\n"
          ]
        }
      ],
      "source": [
        "from pyspark.ml.evaluation import RegressionEvaluator\n",
        "predictionAndLabels_test_linear = test_predictions_linear.select(\"prediction\",\"label\")\n",
        "evaluator = RegressionEvaluator(metricName=\"rmse\")\n",
        "test_rmse_linear = evaluator.evaluate(predictionAndLabels_test_linear)\n",
        "print(\"Testing Set RMSE  \",test_rmse_linear)"
      ]
    },
    {
      "cell_type": "code",
      "source": [
        "from pyspark.ml.regression import DecisionTreeRegressor\n",
        "from pyspark.ml import Pipeline\n",
        "DT =  DecisionTreeRegressor(maxDepth=6)\n",
        "DT_pipeline = Pipeline(stages=preprocessingStages+[DT])\n",
        "DT_pipeline_model = DT_pipeline.fit(trainingData)"
      ],
      "metadata": {
        "id": "oxpvsM4l70ne"
      },
      "execution_count": 53,
      "outputs": []
    },
    {
      "cell_type": "code",
      "source": [
        "train_predictions_DT = DT_pipeline_model.transform(trainingData)"
      ],
      "metadata": {
        "id": "ksYQWHmm70j2"
      },
      "execution_count": 54,
      "outputs": []
    },
    {
      "cell_type": "code",
      "source": [
        "train_predictions_DT.select('features').show(truncate=False)"
      ],
      "metadata": {
        "colab": {
          "base_uri": "https://localhost:8080/"
        },
        "id": "eSiqMLVC70hh",
        "outputId": "fb92e637-3161-4ec0-e29c-85055d8a56f1"
      },
      "execution_count": 55,
      "outputs": [
        {
          "output_type": "stream",
          "name": "stdout",
          "text": [
            "+------------------------------------------------------------------------------------------------------------------------------------------------------------------------------------------------------------+\n",
            "|features                                                                                                                                                                                                    |\n",
            "+------------------------------------------------------------------------------------------------------------------------------------------------------------------------------------------------------------+\n",
            "|(2258,[0,1,2,3,4,5,6,7,8,2252,2255,2256],[0.1,0.1875,0.25,0.2956989247311828,0.0847457627118644,0.09009009009009009,0.0842286823098207,0.14173228346456693,1.0,1.0,1.0,1.0])                                |\n",
            "|(2258,[0,1,2,3,4,5,6,7,9,2252,2254,2256],[0.1,0.1875,0.15000000000000002,0.9193548387096775,0.16101694915254236,0.17117117117117117,0.008803765855761975,0.028871391076115485,1.0,1.0,1.0,1.0])             |\n",
            "|(2258,[0,1,2,3,4,5,6,7,10,2252,2254,2256],[0.30000000000000004,0.1875,0.1,0.870967741935484,0.1440677966101695,0.15315315315315314,0.038053828739803806,0.17060367454068243,1.0,1.0,1.0,1.0])               |\n",
            "|(2258,[1,2,3,4,5,6,7,11,2252,2254,2256],[0.375,0.15000000000000002,0.43279569892473124,0.0847457627118644,0.07207207207207207,0.013115814438176004,0.04461942257217848,1.0,1.0,1.0,1.0])                    |\n",
            "|(2258,[0,1,2,3,4,5,6,7,12,2252,2254,2257],[0.2,0.5,0.45,0.7231182795698925,0.2033898305084746,0.12612612612612611,0.002695030364008768,0.0026246719160104987,1.0,1.0,1.0,1.0])                              |\n",
            "|(2258,[0,1,2,3,4,5,6,7,13,2252,2254,2256],[0.1,0.375,0.25,0.8172043010752689,0.1016949152542373,0.0990990990990991,0.05346940242193396,0.1548556430446194,1.0,1.0,1.0,1.0])                                 |\n",
            "|(2258,[0,1,2,3,4,5,6,7,14,2252,2255,2256],[0.30000000000000004,0.375,0.30000000000000004,0.860215053763441,0.16101694915254236,0.13513513513513514,0.09856624384634734,0.21391076115485563,1.0,1.0,1.0,1.0])|\n",
            "|(2258,[0,1,2,3,4,5,6,7,15,2253,2254,2256],[0.2,0.3125,0.15000000000000002,0.6263440860215054,0.11864406779661017,0.12612612612612611,0.07068166301340328,0.07349081364829396,1.0,1.0,1.0,1.0])              |\n",
            "|(2258,[1,2,3,4,5,6,7,16,2252,2254,2257],[0.3125,0.1,0.5994623655913979,0.06779661016949153,0.07207207207207207,0.007833554924718818,0.0013123359580052493,1.0,1.0,1.0,1.0])                                 |\n",
            "|(2258,[0,1,2,3,4,5,6,7,17,2252,2255,2256],[0.2,0.25,0.30000000000000004,0.18010752688172044,0.13559322033898305,0.14414414414414414,0.07046606058428259,0.16272965879265092,1.0,1.0,1.0,1.0])               |\n",
            "|(2258,[1,2,3,4,5,6,7,18,2252,2254,2256],[0.25,0.05,0.7553763440860216,0.11864406779661017,0.12612612612612611,0.009594308095871215,0.06692913385826771,1.0,1.0,1.0,1.0])                                    |\n",
            "|(2258,[0,1,2,3,4,5,6,7,19,2252,2254,2256],[0.1,0.375,0.2,0.29838709677419356,0.05084745762711865,0.05405405405405406,0.01537963994394337,0.03412073490813648,1.0,1.0,1.0,1.0])                              |\n",
            "|(2258,[0,1,2,3,4,5,6,7,20,2252,2255,2256],[0.1,0.25,0.2,0.478494623655914,0.09322033898305085,0.0990990990990991,0.03880843724172626,0.06430446194225722,1.0,1.0,1.0,1.0])                                  |\n",
            "|(2258,[0,1,2,3,4,5,6,7,21,2252,2254,2256],[0.2,0.25,0.35000000000000003,0.935483870967742,0.0423728813559322,0.04504504504504504,0.03650867799777211,0.07349081364829396,1.0,1.0,1.0,1.0])                  |\n",
            "|(2258,[0,1,2,3,4,5,6,7,22,2252,2254,2256],[0.1,0.1875,0.15000000000000002,0.9327956989247312,0.11016949152542373,0.11711711711711711,0.05810485464802904,0.07611548556430446,1.0,1.0,1.0,1.0])              |\n",
            "|(2258,[1,2,3,4,5,6,7,23,2252,2254,2256],[0.5,0.25,0.9973118279569894,0.1440677966101695,0.15315315315315314,0.07657479607603579,0.0879265091863517,1.0,1.0,1.0,1.0])                                        |\n",
            "|(2258,[1,2,3,4,5,6,7,24,2252,2254,2256],[0.25,0.05,0.239247311827957,0.17796610169491525,0.15315315315315314,0.009594308095871215,0.04330708661417323,1.0,1.0,1.0,1.0])                                     |\n",
            "|(2258,[0,1,2,3,4,5,6,7,25,2252,2254,2256],[0.1,0.3125,0.2,0.8790322580645162,0.1271186440677966,0.13513513513513514,0.1358654640842287,0.3779527559055118,1.0,1.0,1.0,1.0])                                 |\n",
            "|(2258,[0,1,2,3,4,5,6,7,26,2252,2254,2256],[0.1,0.3125,0.25,0.674731182795699,0.03389830508474576,0.036036036036036036,0.006539940349994611,0.03412073490813648,1.0,1.0,1.0,1.0])                            |\n",
            "|(2258,[0,1,2,3,4,5,6,7,27,2252,2255,2256],[0.1,0.375,0.15000000000000002,0.9489247311827957,0.09322033898305085,0.08108108108108109,0.1450285673218585,0.19160104986876642,1.0,1.0,1.0,1.0])                |\n",
            "+------------------------------------------------------------------------------------------------------------------------------------------------------------------------------------------------------------+\n",
            "only showing top 20 rows\n",
            "\n"
          ]
        }
      ]
    },
    {
      "cell_type": "code",
      "source": [
        "train_predictions_DT.show()"
      ],
      "metadata": {
        "colab": {
          "base_uri": "https://localhost:8080/"
        },
        "id": "a01B2BwG70fI",
        "outputId": "d0a1fb32-1af5-4844-83fc-1e715ad892d3"
      },
      "execution_count": 56,
      "outputs": [
        {
          "output_type": "stream",
          "name": "stdout",
          "text": [
            "+----------+----+------------+-------------+-------------+------+-----------------+------------------+---------------+---------------+---------------+----------------------------+------------+---------------------+--------------------+--------------------+----------------+----------+----------------------------------+------------------+-----------------+-------------+--------------------------------+----------------+--------------------+--------------------+------+------------------+\n",
            "|CustomerID|City|NoOfChildren|MinAgeOfChild|MaxAgeOfChild|Tenure|FrquncyOfPurchase|NoOfUnitsPurchased|FrequencyOFPlay|NoOfGamesPlayed|NoOfGamesBought|FavoriteChannelOfTransaction|FavoriteGame|TotalRevenueGenerated|        num_features| scaled_num_features|CustomerID_index|City_index|FavoriteChannelOfTransaction_index|FavoriteGame_index|   CustomerID_vec|     City_vec|FavoriteChannelOfTransaction_vec|FavoriteGame_vec|        cat_features|            features| label|        prediction|\n",
            "+----------+----+------------+-------------+-------------+------+-----------------+------------------+---------------+---------------+---------------+----------------------------+------------+---------------------+--------------------+--------------------+----------------+----------+----------------------------------+------------------+-----------------+-------------+--------------------------------+----------------+--------------------+--------------------+------+------------------+\n",
            "|      1001|   1|         2.0|          3.0|          8.0| 210.0|             11.0|              11.0|         2344.0|          108.0|           10.0|                     Uniform|     Uniform|               107.51|[2.0,3.0,8.0,210....|[0.1,0.1875,0.25,...|             0.0|       0.0|                               1.0|               0.0| (2244,[0],[1.0])|(2,[0],[1.0])|                   (2,[1],[1.0])|   (2,[0],[1.0])|(2250,[0,2244,224...|(2258,[0,1,2,3,4,...|  52.0|175.08311688311687|\n",
            "|      1002|   1|         2.0|          3.0|          6.0| 442.0|             20.0|              20.0|          245.0|           22.0|            7.0|                    Favorite|     Uniform|                382.4|[2.0,3.0,6.0,442....|[0.1,0.1875,0.150...|             1.0|       0.0|                               0.0|               0.0| (2244,[1],[1.0])|(2,[0],[1.0])|                   (2,[0],[1.0])|   (2,[0],[1.0])|(2250,[1,2244,224...|(2258,[0,1,2,3,4,...|1182.0|434.45384615384614|\n",
            "|      1003|   1|         4.0|          3.0|          5.0| 424.0|             18.0|              18.0|         1059.0|          130.0|           18.0|                    Favorite|     Uniform|               135.01|[4.0,3.0,5.0,424....|[0.30000000000000...|             2.0|       0.0|                               0.0|               0.0| (2244,[2],[1.0])|(2,[0],[1.0])|                   (2,[0],[1.0])|   (2,[0],[1.0])|(2250,[2,2244,224...|(2258,[0,1,2,3,4,...|  89.0|434.45384615384614|\n",
            "|      1004|   1|         1.0|          6.0|          6.0| 261.0|             11.0|               9.0|          365.0|           34.0|           11.0|                    Favorite|     Uniform|                125.0|[1.0,6.0,6.0,261....|[0.0,0.375,0.1500...|             3.0|       0.0|                               0.0|               0.0| (2244,[3],[1.0])|(2,[0],[1.0])|                   (2,[0],[1.0])|   (2,[0],[1.0])|(2250,[3,2244,224...|(2258,[1,2,3,4,5,...|   9.0|175.08311688311687|\n",
            "|      1007|   1|         3.0|          8.0|         12.0| 369.0|             25.0|              15.0|           75.0|            2.0|           25.0|                    Favorite|    Favorite|                127.5|[3.0,8.0,12.0,369...|[0.2,0.5,0.45,0.7...|             4.0|       0.0|                               0.0|               1.0| (2244,[4],[1.0])|(2,[0],[1.0])|                   (2,[0],[1.0])|   (2,[1],[1.0])|(2250,[4,2244,224...|(2258,[0,1,2,3,4,...|  20.0|195.36363636363637|\n",
            "|      1008|   1|         2.0|          6.0|          8.0| 404.0|             13.0|              12.0|         1488.0|          118.0|           13.0|                    Favorite|     Uniform|                122.5|[2.0,6.0,8.0,404....|[0.1,0.375,0.25,0...|             5.0|       0.0|                               0.0|               0.0| (2244,[5],[1.0])|(2,[0],[1.0])|                   (2,[0],[1.0])|   (2,[0],[1.0])|(2250,[5,2244,224...|(2258,[0,1,2,3,4,...|  12.0|175.08311688311687|\n",
            "|      1009|   1|         4.0|          6.0|          9.0| 420.0|             20.0|              16.0|         2743.0|          163.0|           16.0|                     Uniform|     Uniform|               164.96|[4.0,6.0,9.0,420....|[0.30000000000000...|             6.0|       0.0|                               1.0|               0.0| (2244,[6],[1.0])|(2,[0],[1.0])|                   (2,[1],[1.0])|   (2,[0],[1.0])|(2250,[6,2244,224...|(2258,[0,1,2,3,4,...|  94.0|250.23232323232324|\n",
            "|      1010|   2|         3.0|          5.0|          6.0| 333.0|             15.0|              15.0|         1967.0|           56.0|           15.0|                    Favorite|     Uniform|               112.62|[3.0,5.0,6.0,333....|[0.2,0.3125,0.150...|             7.0|       1.0|                               0.0|               0.0| (2244,[7],[1.0])|(2,[1],[1.0])|                   (2,[0],[1.0])|   (2,[0],[1.0])|(2250,[7,2245,224...|(2258,[0,1,2,3,4,...| 333.0|             339.2|\n",
            "|      1011|   1|         1.0|          5.0|          5.0| 323.0|              9.0|               9.0|          218.0|            1.0|            3.0|                    Favorite|    Favorite|               211.92|[1.0,5.0,5.0,323....|[0.0,0.3125,0.1,0...|             8.0|       0.0|                               0.0|               1.0| (2244,[8],[1.0])|(2,[0],[1.0])|                   (2,[0],[1.0])|   (2,[1],[1.0])|(2250,[8,2244,224...|(2258,[1,2,3,4,5,...| 935.0| 470.2056074766355|\n",
            "|      1012|   1|         3.0|          4.0|          9.0| 167.0|             17.0|              17.0|         1961.0|          124.0|           17.0|                     Uniform|     Uniform|               125.04|[3.0,4.0,9.0,167....|[0.2,0.25,0.30000...|             9.0|       0.0|                               1.0|               0.0| (2244,[9],[1.0])|(2,[0],[1.0])|                   (2,[1],[1.0])|   (2,[0],[1.0])|(2250,[9,2244,224...|(2258,[0,1,2,3,4,...| 132.0|250.23232323232324|\n",
            "|      1013|   1|         1.0|          4.0|          4.0| 381.0|             15.0|              15.0|          267.0|           51.0|           15.0|                    Favorite|     Uniform|                167.5|[1.0,4.0,4.0,381....|[0.0,0.25,0.05,0....|            10.0|       0.0|                               0.0|               0.0|(2244,[10],[1.0])|(2,[0],[1.0])|                   (2,[0],[1.0])|   (2,[0],[1.0])|(2250,[10,2244,22...|(2258,[1,2,3,4,5,...|  44.0| 260.9320754716981|\n",
            "|      1019|   1|         2.0|          6.0|          7.0| 211.0|              7.0|               7.0|          428.0|           26.0|            0.0|                    Favorite|     Uniform|               144.93|[2.0,6.0,7.0,211....|[0.1,0.375,0.2,0....|            11.0|       0.0|                               0.0|               0.0|(2244,[11],[1.0])|(2,[0],[1.0])|                   (2,[0],[1.0])|   (2,[0],[1.0])|(2250,[11,2244,22...|(2258,[0,1,2,3,4,...| 603.0|308.31081081081084|\n",
            "|      1020|   1|         2.0|          4.0|          7.0| 278.0|             12.0|              12.0|         1080.0|           49.0|            8.0|                     Uniform|     Uniform|               182.36|[2.0,4.0,7.0,278....|[0.1,0.25,0.2,0.4...|            12.0|       0.0|                               1.0|               0.0|(2244,[12],[1.0])|(2,[0],[1.0])|                   (2,[1],[1.0])|   (2,[0],[1.0])|(2250,[12,2244,22...|(2258,[0,1,2,3,4,...| 811.0|175.08311688311687|\n",
            "|      1021|   1|         3.0|          4.0|         10.0| 448.0|              6.0|               6.0|         1016.0|           56.0|            6.0|                    Favorite|     Uniform|                100.0|[3.0,4.0,10.0,448...|[0.2,0.25,0.35000...|            13.0|       0.0|                               0.0|               0.0|(2244,[13],[1.0])|(2,[0],[1.0])|                   (2,[0],[1.0])|   (2,[0],[1.0])|(2250,[13,2244,22...|(2258,[0,1,2,3,4,...|   0.0|308.31081081081084|\n",
            "|      1022|   1|         2.0|          3.0|          6.0| 447.0|             14.0|              14.0|         1617.0|           58.0|           11.0|                    Favorite|     Uniform|               199.93|[2.0,3.0,6.0,447....|[0.1,0.1875,0.150...|            14.0|       0.0|                               0.0|               0.0|(2244,[14],[1.0])|(2,[0],[1.0])|                   (2,[0],[1.0])|   (2,[0],[1.0])|(2250,[14,2244,22...|(2258,[0,1,2,3,4,...| 892.0| 260.9320754716981|\n",
            "|      1023|   1|         1.0|          8.0|          8.0| 471.0|             18.0|              18.0|         2131.0|           67.0|           18.0|                    Favorite|     Uniform|                172.5|[1.0,8.0,8.0,471....|[0.0,0.5,0.25,0.9...|            15.0|       0.0|                               0.0|               0.0|(2244,[15],[1.0])|(2,[0],[1.0])|                   (2,[0],[1.0])|   (2,[0],[1.0])|(2250,[15,2244,22...|(2258,[1,2,3,4,5,...|  25.0|250.23232323232324|\n",
            "|      1024|   1|         1.0|          4.0|          4.0| 189.0|             22.0|              18.0|          267.0|           33.0|           12.0|                    Favorite|     Uniform|               348.09|[1.0,4.0,4.0,189....|[0.0,0.25,0.05,0....|            16.0|       0.0|                               0.0|               0.0|(2244,[16],[1.0])|(2,[0],[1.0])|                   (2,[0],[1.0])|   (2,[0],[1.0])|(2250,[16,2244,22...|(2258,[1,2,3,4,5,...|1166.0|434.45384615384614|\n",
            "|      1025|   1|         2.0|          5.0|          7.0| 427.0|             16.0|              16.0|         3781.0|          288.0|           16.0|                    Favorite|     Uniform|               185.02|[2.0,5.0,7.0,427....|[0.1,0.3125,0.2,0...|            17.0|       0.0|                               0.0|               0.0|(2244,[17],[1.0])|(2,[0],[1.0])|                   (2,[0],[1.0])|   (2,[0],[1.0])|(2250,[17,2244,22...|(2258,[0,1,2,3,4,...|  98.0|434.45384615384614|\n",
            "|      1026|   1|         2.0|          5.0|          8.0| 351.0|              5.0|               5.0|          182.0|           26.0|            3.0|                    Favorite|     Uniform|               139.99|[2.0,5.0,8.0,351....|[0.1,0.3125,0.25,...|            18.0|       0.0|                               0.0|               0.0|(2244,[18],[1.0])|(2,[0],[1.0])|                   (2,[0],[1.0])|   (2,[0],[1.0])|(2250,[18,2244,22...|(2258,[0,1,2,3,4,...| 147.0|308.31081081081084|\n",
            "|      1027|   1|         2.0|          6.0|          6.0| 453.0|             12.0|              10.0|         4036.0|          146.0|           12.0|                     Uniform|     Uniform|                135.0|[2.0,6.0,6.0,453....|[0.1,0.375,0.1500...|            19.0|       0.0|                               1.0|               0.0|(2244,[19],[1.0])|(2,[0],[1.0])|                   (2,[1],[1.0])|   (2,[0],[1.0])|(2250,[19,2244,22...|(2258,[0,1,2,3,4,...|  21.0|175.08311688311687|\n",
            "+----------+----+------------+-------------+-------------+------+-----------------+------------------+---------------+---------------+---------------+----------------------------+------------+---------------------+--------------------+--------------------+----------------+----------+----------------------------------+------------------+-----------------+-------------+--------------------------------+----------------+--------------------+--------------------+------+------------------+\n",
            "only showing top 20 rows\n",
            "\n"
          ]
        }
      ]
    },
    {
      "cell_type": "code",
      "source": [
        "test_predictions_DT = DT_pipeline_model.transform(testingData)"
      ],
      "metadata": {
        "id": "qy0lFSBA70do"
      },
      "execution_count": 57,
      "outputs": []
    },
    {
      "cell_type": "code",
      "source": [
        "test_predictions_DT.show()"
      ],
      "metadata": {
        "colab": {
          "base_uri": "https://localhost:8080/"
        },
        "id": "-NmaN6fu70aC",
        "outputId": "e6228ea6-133d-4f8d-b701-89d0ab4f2c29"
      },
      "execution_count": 58,
      "outputs": [
        {
          "output_type": "stream",
          "name": "stdout",
          "text": [
            "+----------+----+------------+-------------+-------------+------+-----------------+------------------+---------------+---------------+---------------+----------------------------+------------+---------------------+--------------------+--------------------+----------------+----------+----------------------------------+------------------+--------------+-------------+--------------------------------+----------------+--------------------+--------------------+------+------------------+\n",
            "|CustomerID|City|NoOfChildren|MinAgeOfChild|MaxAgeOfChild|Tenure|FrquncyOfPurchase|NoOfUnitsPurchased|FrequencyOFPlay|NoOfGamesPlayed|NoOfGamesBought|FavoriteChannelOfTransaction|FavoriteGame|TotalRevenueGenerated|        num_features| scaled_num_features|CustomerID_index|City_index|FavoriteChannelOfTransaction_index|FavoriteGame_index|CustomerID_vec|     City_vec|FavoriteChannelOfTransaction_vec|FavoriteGame_vec|        cat_features|            features| label|        prediction|\n",
            "+----------+----+------------+-------------+-------------+------+-----------------+------------------+---------------+---------------+---------------+----------------------------+------------+---------------------+--------------------+--------------------+----------------+----------+----------------------------------+------------------+--------------+-------------+--------------------------------+----------------+--------------------+--------------------+------+------------------+\n",
            "|      1005|   1|         3.0|          6.0|          9.0| 422.0|             44.0|              31.0|         1066.0|          102.0|           44.0|                     Uniform|     Uniform|               335.05|[3.0,6.0,9.0,422....|[0.2,0.375,0.3000...|          2244.0|       0.0|                               1.0|               0.0|  (2244,[],[])|(2,[0],[1.0])|                   (2,[1],[1.0])|   (2,[0],[1.0])|(2250,[2244,2247,...|(2258,[0,1,2,3,4,...|1246.0|1140.6301369863013|\n",
            "|      1006|   1|         2.0|          3.0|          4.0| 378.0|             16.0|              16.0|          228.0|           12.0|           16.0|                    Favorite|    Favorite|                150.0|[2.0,3.0,4.0,378....|[0.1,0.1875,0.05,...|          2244.0|       0.0|                               0.0|               1.0|  (2244,[],[])|(2,[0],[1.0])|                   (2,[0],[1.0])|   (2,[1],[1.0])|(2250,[2244,2246,...|(2258,[0,1,2,3,4,...|  18.0|434.45384615384614|\n",
            "|      1014|   1|         4.0|          5.0|          7.0| 399.0|             36.0|              24.0|         6411.0|          355.0|           36.0|                    Favorite|     Uniform|                202.5|[4.0,5.0,7.0,399....|[0.30000000000000...|          2244.0|       0.0|                               0.0|               0.0|  (2244,[],[])|(2,[0],[1.0])|                   (2,[0],[1.0])|   (2,[0],[1.0])|(2250,[2244,2246,...|(2258,[0,1,2,3,4,...|  63.0| 979.3714285714286|\n",
            "|      1015|   1|         2.0|          4.0|          7.0| 444.0|             14.0|              14.0|         2804.0|          133.0|           14.0|                     Uniform|     Uniform|                105.5|[2.0,4.0,7.0,444....|[0.1,0.25,0.2,0.9...|          2244.0|       0.0|                               1.0|               0.0|  (2244,[],[])|(2,[0],[1.0])|                   (2,[1],[1.0])|   (2,[0],[1.0])|(2250,[2244,2247,...|(2258,[0,1,2,3,4,...| 107.0| 260.9320754716981|\n",
            "|      1016|   1|         2.0|          3.0|          5.0| 371.0|              6.0|               6.0|         1746.0|           61.0|            6.0|                    Favorite|     Uniform|                117.5|[2.0,3.0,5.0,371....|[0.1,0.1875,0.1,0...|          2244.0|       0.0|                               0.0|               0.0|  (2244,[],[])|(2,[0],[1.0])|                   (2,[0],[1.0])|   (2,[0],[1.0])|(2250,[2244,2246,...|(2258,[0,1,2,3,4,...|  11.0|308.31081081081084|\n",
            "|      1017|   1|         1.0|          6.0|          6.0| 355.0|             11.0|              11.0|         1367.0|           49.0|           11.0|                    Favorite|     Uniform|                175.0|[1.0,6.0,6.0,355....|[0.0,0.375,0.1500...|          2244.0|       0.0|                               0.0|               0.0|  (2244,[],[])|(2,[0],[1.0])|                   (2,[0],[1.0])|   (2,[0],[1.0])|(2250,[2244,2246,...|(2258,[1,2,3,4,5,...|  30.0|175.08311688311687|\n",
            "|      1018|   1|         1.0|          7.0|          7.0| 346.0|             18.0|              16.0|         1029.0|          106.0|           14.0|                     Uniform|     Uniform|               181.71|[1.0,7.0,7.0,346....|[0.0,0.4375,0.2,0...|          2244.0|       0.0|                               1.0|               0.0|  (2244,[],[])|(2,[0],[1.0])|                   (2,[1],[1.0])|   (2,[0],[1.0])|(2250,[2244,2247,...|(2258,[1,2,3,4,5,...|1246.0|434.45384615384614|\n",
            "|      1030|   1|         5.0|          2.0|          7.0| 444.0|             26.0|              26.0|         7766.0|          583.0|           26.0|                    Favorite|     Uniform|               205.01|[5.0,2.0,7.0,444....|[0.4,0.125,0.2,0....|          2244.0|       0.0|                               0.0|               0.0|  (2244,[],[])|(2,[0],[1.0])|                   (2,[0],[1.0])|   (2,[0],[1.0])|(2250,[2244,2246,...|(2258,[0,1,2,3,4,...| 912.0| 979.3714285714286|\n",
            "|      1033|   1|         4.0|          3.0|          7.0| 448.0|             20.0|              10.0|         4788.0|          370.0|           20.0|                     Uniform|     Uniform|                117.5|[4.0,3.0,7.0,448....|[0.30000000000000...|          2244.0|       0.0|                               1.0|               0.0|  (2244,[],[])|(2,[0],[1.0])|                   (2,[1],[1.0])|   (2,[0],[1.0])|(2250,[2244,2247,...|(2258,[0,1,2,3,4,...|  11.0|175.08311688311687|\n",
            "|      1034|   1|         2.0|          4.0|          6.0| 181.0|             14.0|              14.0|          221.0|           19.0|           14.0|                    Favorite|     Uniform|                125.0|[2.0,4.0,6.0,181....|[0.1,0.25,0.15000...|          2244.0|       0.0|                               0.0|               0.0|  (2244,[],[])|(2,[0],[1.0])|                   (2,[0],[1.0])|   (2,[0],[1.0])|(2250,[2244,2246,...|(2258,[0,1,2,3,4,...|   9.0| 260.9320754716981|\n",
            "|      1036|   1|         2.0|          5.0|          6.0| 322.0|             13.0|              13.0|         1911.0|          171.0|           13.0|                     Uniform|     Uniform|               102.53|[2.0,5.0,6.0,322....|[0.1,0.3125,0.150...|          2244.0|       0.0|                               1.0|               0.0|  (2244,[],[])|(2,[0],[1.0])|                   (2,[1],[1.0])|   (2,[0],[1.0])|(2250,[2244,2247,...|(2258,[0,1,2,3,4,...|1246.0|175.08311688311687|\n",
            "|      1040|   1|         3.0|          3.0|          6.0| 392.0|             12.0|              12.0|          127.0|           18.0|            5.0|                    Favorite|     Uniform|               215.98|[3.0,3.0,6.0,392....|[0.2,0.1875,0.150...|          2244.0|       0.0|                               0.0|               0.0|  (2244,[],[])|(2,[0],[1.0])|                   (2,[0],[1.0])|   (2,[0],[1.0])|(2250,[2244,2246,...|(2258,[0,1,2,3,4,...|1246.0|175.08311688311687|\n",
            "|      1043|   1|         1.0|          6.0|          6.0| 365.0|             29.0|              29.0|          849.0|           62.0|           28.0|                    Favorite|     Uniform|                260.9|[1.0,6.0,6.0,365....|[0.0,0.375,0.1500...|          2244.0|       0.0|                               0.0|               0.0|  (2244,[],[])|(2,[0],[1.0])|                   (2,[0],[1.0])|   (2,[0],[1.0])|(2250,[2244,2246,...|(2258,[1,2,3,4,5,...|1246.0| 611.5798319327731|\n",
            "|      1044|   1|         4.0|          5.0|          9.0| 382.0|             12.0|              12.0|         1656.0|          140.0|           12.0|                    Favorite|     Uniform|               120.01|[4.0,5.0,9.0,382....|[0.30000000000000...|          2244.0|       0.0|                               0.0|               0.0|  (2244,[],[])|(2,[0],[1.0])|                   (2,[0],[1.0])|   (2,[0],[1.0])|(2250,[2244,2246,...|(2258,[0,1,2,3,4,...|  54.0|175.08311688311687|\n",
            "|      1045|   1|         1.0|          5.0|          5.0| 338.0|              6.0|               6.0|           54.0|           16.0|            4.0|                     Uniform|     Uniform|                140.0|[1.0,5.0,5.0,338....|[0.0,0.3125,0.1,0...|          2244.0|       0.0|                               1.0|               0.0|  (2244,[],[])|(2,[0],[1.0])|                   (2,[1],[1.0])|   (2,[0],[1.0])|(2250,[2244,2247,...|(2258,[1,2,3,4,5,...|  15.0| 470.2056074766355|\n",
            "|      1052|   1|         4.0|          3.0|         13.0| 411.0|             16.0|              16.0|          608.0|           29.0|           16.0|                    Favorite|     Uniform|               122.25|[4.0,3.0,13.0,411...|[0.30000000000000...|          2244.0|       0.0|                               0.0|               0.0|  (2244,[],[])|(2,[0],[1.0])|                   (2,[0],[1.0])|   (2,[0],[1.0])|(2250,[2244,2246,...|(2258,[0,1,2,3,4,...|1246.0|466.32307692307694|\n",
            "|      1055|   2|         1.0|          7.0|          7.0| 466.0|             16.0|              16.0|          925.0|           50.0|           16.0|                    Favorite|     Uniform|               206.05|[1.0,7.0,7.0,466....|[0.0,0.4375,0.2,0...|          2244.0|       1.0|                               0.0|               0.0|  (2244,[],[])|(2,[1],[1.0])|                   (2,[0],[1.0])|   (2,[0],[1.0])|(2250,[2245,2246,...|(2258,[1,2,3,4,5,...|1246.0| 803.0285714285715|\n",
            "|      1059|   1|         4.0|          5.0|         12.0| 384.0|             12.0|              12.0|          527.0|           36.0|           12.0|                    Favorite|     Uniform|                107.5|[4.0,5.0,12.0,384...|[0.30000000000000...|          2244.0|       0.0|                               0.0|               0.0|  (2244,[],[])|(2,[0],[1.0])|                   (2,[0],[1.0])|   (2,[0],[1.0])|(2250,[2244,2246,...|(2258,[0,1,2,3,4,...|   5.0|175.08311688311687|\n",
            "|      1066|   2|         2.0|          3.0|          5.0| 384.0|             19.0|              16.0|         1915.0|           74.0|           19.0|                    Favorite|     Uniform|               147.19|[2.0,3.0,5.0,384....|[0.1,0.1875,0.1,0...|          2244.0|       1.0|                               0.0|               0.0|  (2244,[],[])|(2,[1],[1.0])|                   (2,[0],[1.0])|   (2,[0],[1.0])|(2250,[2245,2246,...|(2258,[0,1,2,3,4,...| 620.0| 803.0285714285715|\n",
            "|      1071|   2|         4.0|          5.0|          9.0| 346.0|             12.0|              12.0|         1339.0|           75.0|           12.0|                    Favorite|     Uniform|               106.63|[4.0,5.0,9.0,346....|[0.30000000000000...|          2244.0|       1.0|                               0.0|               0.0|  (2244,[],[])|(2,[1],[1.0])|                   (2,[0],[1.0])|   (2,[0],[1.0])|(2250,[2245,2246,...|(2258,[0,1,2,3,4,...|1246.0| 411.6304347826087|\n",
            "+----------+----+------------+-------------+-------------+------+-----------------+------------------+---------------+---------------+---------------+----------------------------+------------+---------------------+--------------------+--------------------+----------------+----------+----------------------------------+------------------+--------------+-------------+--------------------------------+----------------+--------------------+--------------------+------+------------------+\n",
            "only showing top 20 rows\n",
            "\n"
          ]
        }
      ]
    },
    {
      "cell_type": "code",
      "source": [
        "from pyspark.ml.evaluation import RegressionEvaluator\n",
        "predictionAndLabels_train_DT = train_predictions_DT.select(\"prediction\",\"label\")\n",
        "evaluator = RegressionEvaluator(metricName=\"rmse\")\n",
        "train_rmse_DT = evaluator.evaluate(predictionAndLabels_train_DT)\n",
        "print(\"Training Set RMSE  \",train_rmse_DT)"
      ],
      "metadata": {
        "colab": {
          "base_uri": "https://localhost:8080/"
        },
        "id": "zdc6bPRU70Xq",
        "outputId": "57c5e372-2dcb-4339-871b-4ee580d46ce0"
      },
      "execution_count": 59,
      "outputs": [
        {
          "output_type": "stream",
          "name": "stdout",
          "text": [
            "Training Set RMSE   318.5604353933582\n"
          ]
        }
      ]
    },
    {
      "cell_type": "code",
      "source": [
        "from pyspark.ml.evaluation import RegressionEvaluator\n",
        "predictionAndLabels_test_DT = test_predictions_DT.select(\"prediction\",\"label\")\n",
        "evaluator = RegressionEvaluator(metricName=\"rmse\")\n",
        "test_rmse_DT = evaluator.evaluate(predictionAndLabels_test_linear)\n",
        "print(\"Testing Set RMSE  \",test_rmse_DT)"
      ],
      "metadata": {
        "colab": {
          "base_uri": "https://localhost:8080/"
        },
        "id": "EqJLRnnz70Vh",
        "outputId": "25fc7e71-584f-470b-e5dd-5529bc1515e1"
      },
      "execution_count": 60,
      "outputs": [
        {
          "output_type": "stream",
          "name": "stdout",
          "text": [
            "Testing Set RMSE   621.6000753702514\n"
          ]
        }
      ]
    },
    {
      "cell_type": "markdown",
      "metadata": {
        "id": "4ix9JKLrvViO"
      },
      "source": [
        "### Tuning LR Model"
      ]
    },
    {
      "cell_type": "code",
      "source": [
        "from pyspark.ml.tuning import CrossValidator, ParamGridBuilder, CrossValidatorModel"
      ],
      "metadata": {
        "id": "siukcapWSpxF"
      },
      "execution_count": 61,
      "outputs": []
    },
    {
      "cell_type": "code",
      "execution_count": 62,
      "metadata": {
        "collapsed": true,
        "id": "V-e0IVvcvViP"
      },
      "outputs": [],
      "source": [
        "# Defining the grid parameters and Cross validator\n",
        "grid = ParamGridBuilder().addGrid(linear.maxIter, [1,2,3,4,5]).build()"
      ]
    },
    {
      "cell_type": "code",
      "execution_count": 63,
      "metadata": {
        "collapsed": true,
        "id": "1vYm3gGYvViP",
        "colab": {
          "base_uri": "https://localhost:8080/"
        },
        "outputId": "0dae0398-b909-42b2-c90f-34c518d9def7"
      },
      "outputs": [
        {
          "output_type": "execute_result",
          "data": {
            "text/plain": [
              "3"
            ]
          },
          "metadata": {},
          "execution_count": 63
        }
      ],
      "source": [
        "# Run cross-validation, and choose the best set of parameters.\n",
        "cv = CrossValidator(estimator=linear, estimatorParamMaps=grid, evaluator=evaluator,parallelism=2)\n",
        "cvModel = cv.fit(train_predictions_linear.drop(\"prediction\"))\n",
        "cvModel.getNumFolds()"
      ]
    },
    {
      "cell_type": "code",
      "source": [
        "cvModel.avgMetrics[0]"
      ],
      "metadata": {
        "colab": {
          "base_uri": "https://localhost:8080/"
        },
        "id": "7kv1XmzWcIyu",
        "outputId": "5e983fe9-7417-474d-b5c9-53ce59ef9877"
      },
      "execution_count": 64,
      "outputs": [
        {
          "output_type": "execute_result",
          "data": {
            "text/plain": [
              "402.8045804707764"
            ]
          },
          "metadata": {},
          "execution_count": 64
        }
      ]
    },
    {
      "cell_type": "code",
      "execution_count": 65,
      "metadata": {
        "collapsed": true,
        "id": "wK6MyWbIvViP"
      },
      "outputs": [],
      "source": [
        "# Predicting on train and test data using cross validation model\n",
        "cvModel_preds = cvModel.transform(train_predictions_linear.drop(\"prediction\"))"
      ]
    },
    {
      "cell_type": "code",
      "source": [
        "cvModel_preds = cvModel.transform(test_predictions_linear.drop(\"prediction\"))"
      ],
      "metadata": {
        "id": "Atwm3-dNdvZ0"
      },
      "execution_count": 66,
      "outputs": []
    },
    {
      "cell_type": "code",
      "execution_count": 67,
      "metadata": {
        "collapsed": true,
        "id": "negaDt_rvViQ",
        "colab": {
          "base_uri": "https://localhost:8080/"
        },
        "outputId": "b1363880-1a1c-49a6-e0bd-298210da9d28"
      },
      "outputs": [
        {
          "output_type": "execute_result",
          "data": {
            "text/plain": [
              "617.4804366754123"
            ]
          },
          "metadata": {},
          "execution_count": 67
        }
      ],
      "source": [
        "# Evaluating the model\n",
        "evaluator.evaluate(cvModel.transform(test_predictions_linear.drop(\"prediction\")))"
      ]
    },
    {
      "cell_type": "markdown",
      "source": [
        "#Here we dont find the KNN code in PYSPARK, This is the server link;-https://spark.apache.org/docs/3.0.1/mllib-classification-regression.html"
      ],
      "metadata": {
        "id": "KFfrDFcYz2GG"
      }
    }
  ],
  "metadata": {
    "anaconda-cloud": {},
    "kernelspec": {
      "display_name": "Python 3",
      "language": "python",
      "name": "python3"
    },
    "language_info": {
      "codemirror_mode": {
        "name": "ipython",
        "version": 3
      },
      "file_extension": ".py",
      "mimetype": "text/x-python",
      "name": "python",
      "nbconvert_exporter": "python",
      "pygments_lexer": "ipython3",
      "version": "3.7.1"
    },
    "toc": {
      "base_numbering": 1,
      "nav_menu": {},
      "number_sections": true,
      "sideBar": true,
      "skip_h1_title": false,
      "title_cell": "Table of Contents",
      "title_sidebar": "Contents",
      "toc_cell": false,
      "toc_position": {},
      "toc_section_display": true,
      "toc_window_display": false
    },
    "varInspector": {
      "cols": {
        "lenName": 16,
        "lenType": 16,
        "lenVar": 40
      },
      "kernels_config": {
        "python": {
          "delete_cmd_postfix": "",
          "delete_cmd_prefix": "del ",
          "library": "var_list.py",
          "varRefreshCmd": "print(var_dic_list())"
        },
        "r": {
          "delete_cmd_postfix": ") ",
          "delete_cmd_prefix": "rm(",
          "library": "var_list.r",
          "varRefreshCmd": "cat(var_dic_list()) "
        }
      },
      "types_to_exclude": [
        "module",
        "function",
        "builtin_function_or_method",
        "instance",
        "_Feature"
      ],
      "window_display": false
    },
    "colab": {
      "provenance": [],
      "collapsed_sections": [
        "YdocVrNdvViL",
        "IpesdD2MvViM"
      ]
    }
  },
  "nbformat": 4,
  "nbformat_minor": 0
}
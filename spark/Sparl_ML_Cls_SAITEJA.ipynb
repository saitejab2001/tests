{
  "nbformat": 4,
  "nbformat_minor": 0,
  "metadata": {
    "colab": {
      "provenance": []
    },
    "kernelspec": {
      "name": "python3",
      "display_name": "Python 3"
    },
    "language_info": {
      "name": "python"
    }
  },
  "cells": [
    {
      "cell_type": "code",
      "metadata": {
        "id": "AX3imD6cWzg1"
      },
      "source": [
        "!apt-get install openjdk-8-jdk-headless -qq > /dev/null\n",
        "!wget -q https://archive.apache.org/dist/spark/spark-3.0.1/spark-3.0.1-bin-hadoop2.7.tgz"
      ],
      "execution_count": 1,
      "outputs": []
    },
    {
      "cell_type": "code",
      "metadata": {
        "id": "X3_mzSlsXBhi"
      },
      "source": [
        "import os \n",
        "os.environ[\"JAVA_HOME\"] = \"/usr/lib/jvm/java-8-openjdk-amd64\"\n",
        "os.environ[\"SPARK_HOME\"] = \"/content//spark-3.0.1-bin-hadoop2.7\""
      ],
      "execution_count": 2,
      "outputs": []
    },
    {
      "cell_type": "code",
      "source": [
        "!tar xf spark-3.0.1-bin-hadoop2.7.tgz\n",
        "!pip install -q findspark"
      ],
      "metadata": {
        "id": "nTBkaLBkd7oG"
      },
      "execution_count": 3,
      "outputs": []
    },
    {
      "cell_type": "code",
      "metadata": {
        "id": "VSZkoJnuXDct"
      },
      "source": [
        "import findspark\n",
        "findspark.init()"
      ],
      "execution_count": 4,
      "outputs": []
    },
    {
      "cell_type": "code",
      "metadata": {
        "id": "7V9NdzIyZYsG"
      },
      "source": [
        "from pyspark.sql.types import *\n",
        "from pyspark.sql.functions import * "
      ],
      "execution_count": 5,
      "outputs": []
    },
    {
      "cell_type": "code",
      "metadata": {
        "id": "ZuHyYdFVZcoe"
      },
      "source": [
        "import numpy as np\n",
        "import pandas as pd\n",
        "from io import StringIO"
      ],
      "execution_count": 6,
      "outputs": []
    },
    {
      "cell_type": "code",
      "metadata": {
        "colab": {
          "base_uri": "https://localhost:8080/"
        },
        "id": "lNWjr-oHZfLL",
        "outputId": "eba53a05-e27c-4ba1-dfde-26e943bc1262"
      },
      "source": [
        "from google.colab import drive\n",
        "drive.mount('/content/drive')"
      ],
      "execution_count": 8,
      "outputs": [
        {
          "output_type": "stream",
          "name": "stdout",
          "text": [
            "Mounted at /content/drive\n"
          ]
        }
      ]
    },
    {
      "cell_type": "code",
      "metadata": {
        "id": "yC78CVIgZylr"
      },
      "source": [
        "import pyspark\n",
        "from pyspark.sql import SparkSession"
      ],
      "execution_count": 9,
      "outputs": []
    },
    {
      "cell_type": "code",
      "metadata": {
        "id": "O-1Ee-REZ030"
      },
      "source": [
        "spark = SparkSession.builder.appName('SparkML_1').getOrCreate()"
      ],
      "execution_count": 10,
      "outputs": []
    },
    {
      "cell_type": "code",
      "metadata": {
        "colab": {
          "base_uri": "https://localhost:8080/",
          "height": 222
        },
        "id": "j9cQw4bGZ39D",
        "outputId": "67e447ee-7b60-481b-8990-7bd922991ee0"
      },
      "source": [
        "spark"
      ],
      "execution_count": 11,
      "outputs": [
        {
          "output_type": "execute_result",
          "data": {
            "text/plain": [
              "<pyspark.sql.session.SparkSession at 0x7efc45700d10>"
            ],
            "text/html": [
              "\n",
              "            <div>\n",
              "                <p><b>SparkSession - in-memory</b></p>\n",
              "                \n",
              "        <div>\n",
              "            <p><b>SparkContext</b></p>\n",
              "\n",
              "            <p><a href=\"http://74b565f0d502:4040\">Spark UI</a></p>\n",
              "\n",
              "            <dl>\n",
              "              <dt>Version</dt>\n",
              "                <dd><code>v3.0.1</code></dd>\n",
              "              <dt>Master</dt>\n",
              "                <dd><code>local[*]</code></dd>\n",
              "              <dt>AppName</dt>\n",
              "                <dd><code>SparkML_1</code></dd>\n",
              "            </dl>\n",
              "        </div>\n",
              "        \n",
              "            </div>\n",
              "        "
            ]
          },
          "metadata": {},
          "execution_count": 11
        }
      ]
    },
    {
      "cell_type": "code",
      "metadata": {
        "id": "GMBF-J9NZ6ue"
      },
      "source": [],
      "execution_count": null,
      "outputs": []
    },
    {
      "cell_type": "code",
      "metadata": {
        "id": "AD283PwAZhAz"
      },
      "source": [
        "bankDataSchema = StructType([\n",
        "                 StructField(\"seqId\",IntegerType(),True),\n",
        "                 StructField(\"age\",IntegerType(),True),\n",
        "                 StructField(\"job\",StringType(),True),\n",
        "                 StructField(\"maritalStatus\",StringType(),True),\n",
        "                 StructField(\"education\",StringType(),True),\n",
        "                 StructField(\"default\",StringType(),True),\n",
        "                 StructField(\"balance\",DoubleType(),True),\n",
        "                 StructField(\"housing\",StringType(),True),\n",
        "                 StructField(\"loan\",StringType(),True),\n",
        "                 StructField(\"contact\",StringType(),True),\n",
        "                 StructField(\"date\",IntegerType(),True),\n",
        "                 StructField(\"month\",StringType(),True),\n",
        "                 StructField(\"duration\",DoubleType(),True),\n",
        "                 StructField(\"campaign\",DoubleType(),True),\n",
        "                 StructField(\"pdays\",DoubleType(),True),\n",
        "                 StructField(\"previous\",DoubleType(),True),\n",
        "                 StructField(\"poutcome\",StringType(),True),\n",
        "                 StructField(\"opened_new_td_act_yes_no\",StringType(),True)\n",
        "                 ])"
      ],
      "execution_count": 12,
      "outputs": []
    },
    {
      "cell_type": "code",
      "metadata": {
        "id": "hksA2CDsZkbT"
      },
      "source": [
        "bankDF = spark.read.format('csv')\\\n",
        ".option('header','true')\\\n",
        ".option('inferSchema','true')\\\n",
        ".load(\"/content/drive/My Drive/bank_data.csv\", schema=bankDataSchema)"
      ],
      "execution_count": 15,
      "outputs": []
    },
    {
      "cell_type": "code",
      "metadata": {
        "colab": {
          "base_uri": "https://localhost:8080/"
        },
        "id": "WgpBu-2XaBXV",
        "outputId": "5b0330b7-adab-4646-8416-de6de06f01b7"
      },
      "source": [
        "bankDF.printSchema()"
      ],
      "execution_count": 16,
      "outputs": [
        {
          "output_type": "stream",
          "name": "stdout",
          "text": [
            "root\n",
            " |-- seqId: integer (nullable = true)\n",
            " |-- age: integer (nullable = true)\n",
            " |-- job: string (nullable = true)\n",
            " |-- maritalStatus: string (nullable = true)\n",
            " |-- education: string (nullable = true)\n",
            " |-- default: string (nullable = true)\n",
            " |-- balance: double (nullable = true)\n",
            " |-- housing: string (nullable = true)\n",
            " |-- loan: string (nullable = true)\n",
            " |-- contact: string (nullable = true)\n",
            " |-- date: integer (nullable = true)\n",
            " |-- month: string (nullable = true)\n",
            " |-- duration: double (nullable = true)\n",
            " |-- campaign: double (nullable = true)\n",
            " |-- pdays: double (nullable = true)\n",
            " |-- previous: double (nullable = true)\n",
            " |-- poutcome: string (nullable = true)\n",
            " |-- opened_new_td_act_yes_no: string (nullable = true)\n",
            "\n"
          ]
        }
      ]
    },
    {
      "cell_type": "code",
      "metadata": {
        "colab": {
          "base_uri": "https://localhost:8080/"
        },
        "id": "KMubwv51aEf7",
        "outputId": "fd400d86-0cdb-4b9f-f92a-bc5d5de81872"
      },
      "source": [
        "bankDF.dtypes"
      ],
      "execution_count": 17,
      "outputs": [
        {
          "output_type": "execute_result",
          "data": {
            "text/plain": [
              "[('seqId', 'int'),\n",
              " ('age', 'int'),\n",
              " ('job', 'string'),\n",
              " ('maritalStatus', 'string'),\n",
              " ('education', 'string'),\n",
              " ('default', 'string'),\n",
              " ('balance', 'double'),\n",
              " ('housing', 'string'),\n",
              " ('loan', 'string'),\n",
              " ('contact', 'string'),\n",
              " ('date', 'int'),\n",
              " ('month', 'string'),\n",
              " ('duration', 'double'),\n",
              " ('campaign', 'double'),\n",
              " ('pdays', 'double'),\n",
              " ('previous', 'double'),\n",
              " ('poutcome', 'string'),\n",
              " ('opened_new_td_act_yes_no', 'string')]"
            ]
          },
          "metadata": {},
          "execution_count": 17
        }
      ]
    },
    {
      "cell_type": "code",
      "metadata": {
        "colab": {
          "base_uri": "https://localhost:8080/"
        },
        "id": "GDg5gIbHaGXi",
        "outputId": "0d31aeca-af6a-47b5-e977-dfd041fc0886"
      },
      "source": [
        "bankDF.show(3)"
      ],
      "execution_count": 18,
      "outputs": [
        {
          "output_type": "stream",
          "name": "stdout",
          "text": [
            "+-----+---+----------+-------------+---------+-------+-------+-------+----+--------+----+-----+--------+--------+-----+--------+--------+------------------------+\n",
            "|seqId|age|       job|maritalStatus|education|default|balance|housing|loan| contact|date|month|duration|campaign|pdays|previous|poutcome|opened_new_td_act_yes_no|\n",
            "+-----+---+----------+-------------+---------+-------+-------+-------+----+--------+----+-----+--------+--------+-----+--------+--------+------------------------+\n",
            "| 1002| 33|  services|      married|secondary|     no| 4789.0|    yes| yes|cellular|  11|  may|   220.0|     1.0|339.0|     4.0| failure|                      no|\n",
            "| 1003| 35|management|       single| tertiary|     no| 1350.0|    yes|  no|cellular|  16|  apr|   185.0|     1.0|330.0|     1.0| failure|                      no|\n",
            "| 1004| 30|management|      married| tertiary|     no| 1476.0|    yes| yes| unknown|   3|  jun|   199.0|     4.0| -1.0|     0.0| unknown|                      no|\n",
            "+-----+---+----------+-------------+---------+-------+-------+-------+----+--------+----+-----+--------+--------+-----+--------+--------+------------------------+\n",
            "only showing top 3 rows\n",
            "\n"
          ]
        }
      ]
    },
    {
      "cell_type": "code",
      "metadata": {
        "colab": {
          "base_uri": "https://localhost:8080/"
        },
        "id": "Yk0qd_cVaID6",
        "outputId": "135c0741-4871-4840-d6eb-d4b8ff798a41"
      },
      "source": [
        "bankDF.cache()"
      ],
      "execution_count": 19,
      "outputs": [
        {
          "output_type": "execute_result",
          "data": {
            "text/plain": [
              "DataFrame[seqId: int, age: int, job: string, maritalStatus: string, education: string, default: string, balance: double, housing: string, loan: string, contact: string, date: int, month: string, duration: double, campaign: double, pdays: double, previous: double, poutcome: string, opened_new_td_act_yes_no: string]"
            ]
          },
          "metadata": {},
          "execution_count": 19
        }
      ]
    },
    {
      "cell_type": "code",
      "metadata": {
        "colab": {
          "base_uri": "https://localhost:8080/"
        },
        "id": "0RT8nsbiaLR5",
        "outputId": "f3ea302a-2352-4280-eef7-cc45cc075394"
      },
      "source": [
        "bankDF.take(2)"
      ],
      "execution_count": 20,
      "outputs": [
        {
          "output_type": "execute_result",
          "data": {
            "text/plain": [
              "[Row(seqId=1002, age=33, job='services', maritalStatus='married', education='secondary', default='no', balance=4789.0, housing='yes', loan='yes', contact='cellular', date=11, month='may', duration=220.0, campaign=1.0, pdays=339.0, previous=4.0, poutcome='failure', opened_new_td_act_yes_no='no'),\n",
              " Row(seqId=1003, age=35, job='management', maritalStatus='single', education='tertiary', default='no', balance=1350.0, housing='yes', loan='no', contact='cellular', date=16, month='apr', duration=185.0, campaign=1.0, pdays=330.0, previous=1.0, poutcome='failure', opened_new_td_act_yes_no='no')]"
            ]
          },
          "metadata": {},
          "execution_count": 20
        }
      ]
    },
    {
      "cell_type": "code",
      "metadata": {
        "colab": {
          "base_uri": "https://localhost:8080/"
        },
        "id": "r58nbRzTaNOC",
        "outputId": "b79712d1-46fe-438b-ed04-8f9c16945fd4"
      },
      "source": [
        "len(bankDF.columns)"
      ],
      "execution_count": 21,
      "outputs": [
        {
          "output_type": "execute_result",
          "data": {
            "text/plain": [
              "18"
            ]
          },
          "metadata": {},
          "execution_count": 21
        }
      ]
    },
    {
      "cell_type": "code",
      "metadata": {
        "colab": {
          "base_uri": "https://localhost:8080/"
        },
        "id": "Emy3YoFzaQWP",
        "outputId": "c4e6f03c-d069-4098-b82d-97edfc9be867"
      },
      "source": [
        "bankDF.count()"
      ],
      "execution_count": 22,
      "outputs": [
        {
          "output_type": "execute_result",
          "data": {
            "text/plain": [
              "4520"
            ]
          },
          "metadata": {},
          "execution_count": 22
        }
      ]
    },
    {
      "cell_type": "code",
      "metadata": {
        "id": "QWLk3o4QaSZW"
      },
      "source": [
        "bankDF = bankDF.drop('seqId')"
      ],
      "execution_count": 23,
      "outputs": []
    },
    {
      "cell_type": "code",
      "metadata": {
        "colab": {
          "base_uri": "https://localhost:8080/"
        },
        "id": "DaG9X98raUL6",
        "outputId": "f471b039-0e07-4c9c-d4b2-9f99aeadd6b6"
      },
      "source": [
        "len(bankDF.columns)"
      ],
      "execution_count": 24,
      "outputs": [
        {
          "output_type": "execute_result",
          "data": {
            "text/plain": [
              "17"
            ]
          },
          "metadata": {},
          "execution_count": 24
        }
      ]
    },
    {
      "cell_type": "code",
      "metadata": {
        "colab": {
          "base_uri": "https://localhost:8080/"
        },
        "id": "YWzYt9dVaV9H",
        "outputId": "5fb96f7b-efd7-4e6a-b0f4-896f2dc4cf24"
      },
      "source": [
        "bankDF.describe().show()"
      ],
      "execution_count": 25,
      "outputs": [
        {
          "output_type": "stream",
          "name": "stdout",
          "text": [
            "+-------+------------------+-------+-------------+---------+-------+------------------+-------+----+--------+------------------+-----+------------------+-----------------+------------------+------------------+--------+------------------------+\n",
            "|summary|               age|    job|maritalStatus|education|default|           balance|housing|loan| contact|              date|month|          duration|         campaign|             pdays|          previous|poutcome|opened_new_td_act_yes_no|\n",
            "+-------+------------------+-------+-------------+---------+-------+------------------+-------+----+--------+------------------+-----+------------------+-----------------+------------------+------------------+--------+------------------------+\n",
            "|  count|              4520|   4520|         4520|     4520|   4520|              4520|   4520|4520|    4520|              4520| 4520|              4520|             4520|              4520|              4520|    4520|                    4520|\n",
            "|   mean| 41.17256637168141|   null|         null|     null|   null|1422.5772123893805|   null|null|    null|15.914601769911505| null|264.00221238938053|2.794026548672566| 39.77566371681416|0.5426991150442478|    null|                    null|\n",
            "| stddev|10.576075559901557|   null|         null|     null|   null| 3009.966241608989|   null|null|    null| 8.248452164351006| null|259.87081406721217|3.110036246063498|100.13036481817643| 1.693730487185361|    null|                    null|\n",
            "|    min|                19| admin.|     divorced|  primary|     no|           -3313.0|     no|  no|cellular|                 1|  apr|               4.0|              1.0|              -1.0|               0.0| failure|                      no|\n",
            "|    max|                87|unknown|       single|  unknown|    yes|           71188.0|    yes| yes| unknown|                31|  sep|            3025.0|             50.0|             871.0|              25.0| unknown|                     yes|\n",
            "+-------+------------------+-------+-------------+---------+-------+------------------+-------+----+--------+------------------+-----+------------------+-----------------+------------------+------------------+--------+------------------------+\n",
            "\n"
          ]
        }
      ]
    },
    {
      "cell_type": "code",
      "metadata": {
        "colab": {
          "base_uri": "https://localhost:8080/"
        },
        "id": "k3V8LeZNaXl9",
        "outputId": "0b43bc55-a185-44ba-8bb0-edb6b1c2ce52"
      },
      "source": [
        "bankDF.describe().select('summary','age','loan','balance','pdays').show()"
      ],
      "execution_count": 26,
      "outputs": [
        {
          "output_type": "stream",
          "name": "stdout",
          "text": [
            "+-------+------------------+----+------------------+------------------+\n",
            "|summary|               age|loan|           balance|             pdays|\n",
            "+-------+------------------+----+------------------+------------------+\n",
            "|  count|              4520|4520|              4520|              4520|\n",
            "|   mean| 41.17256637168141|null|1422.5772123893805| 39.77566371681416|\n",
            "| stddev|10.576075559901557|null| 3009.966241608989|100.13036481817643|\n",
            "|    min|                19|  no|           -3313.0|              -1.0|\n",
            "|    max|                87| yes|           71188.0|             871.0|\n",
            "+-------+------------------+----+------------------+------------------+\n",
            "\n"
          ]
        }
      ]
    },
    {
      "cell_type": "code",
      "metadata": {
        "id": "I3oNRMuGb84U"
      },
      "source": [
        "(trainingData,testingData) = bankDF.randomSplit([0.7,0.3])"
      ],
      "execution_count": 27,
      "outputs": []
    },
    {
      "cell_type": "code",
      "metadata": {
        "colab": {
          "base_uri": "https://localhost:8080/"
        },
        "id": "vbzYdp4Wb-1n",
        "outputId": "4c08b645-f034-4656-cd70-f4e635ce59f8"
      },
      "source": [
        "data_df = bankDF.na.drop(how=\"any\")\n",
        "print(\"Count of the  records in the datset before dropping null values \", bankDF.count())\n",
        "print(\"Count of the records in the dataset after dropping null values\", data_df.count())"
      ],
      "execution_count": 28,
      "outputs": [
        {
          "output_type": "stream",
          "name": "stdout",
          "text": [
            "Count of the  records in the datset before dropping null values  4520\n",
            "Count of the records in the dataset after dropping null values 4520\n"
          ]
        }
      ]
    },
    {
      "cell_type": "code",
      "metadata": {
        "id": "VYLVWDzacA3J"
      },
      "source": [
        "(trainingData,testingData) = bankDF.randomSplit([0.7,0.3])"
      ],
      "execution_count": 29,
      "outputs": []
    },
    {
      "cell_type": "code",
      "metadata": {
        "colab": {
          "base_uri": "https://localhost:8080/"
        },
        "id": "HBlih5-ycCoG",
        "outputId": "ca9f67a8-e642-4f9f-a089-9752c3f439fd"
      },
      "source": [
        "trainingData.show(4)"
      ],
      "execution_count": 30,
      "outputs": [
        {
          "output_type": "stream",
          "name": "stdout",
          "text": [
            "+---+--------+-------------+---------+-------+-------+-------+----+---------+----+-----+--------+--------+-----+--------+--------+------------------------+\n",
            "|age|     job|maritalStatus|education|default|balance|housing|loan|  contact|date|month|duration|campaign|pdays|previous|poutcome|opened_new_td_act_yes_no|\n",
            "+---+--------+-------------+---------+-------+-------+-------+----+---------+----+-----+--------+--------+-----+--------+--------+------------------------+\n",
            "| 19| student|       single|  primary|     no|  103.0|     no|  no| cellular|  10|  jul|   104.0|     2.0| -1.0|     0.0| unknown|                     yes|\n",
            "| 19| student|       single|  unknown|     no|    0.0|     no|  no| cellular|  11|  feb|   123.0|     3.0| -1.0|     0.0| unknown|                      no|\n",
            "| 20| student|       single|secondary|     no|  291.0|     no|  no|telephone|  11|  may|   172.0|     5.0|371.0|     5.0| failure|                      no|\n",
            "| 21|services|       single|secondary|     no|  361.0|     no|  no|telephone|   5|  jun|   329.0|     1.0| 95.0|     1.0|   other|                      no|\n",
            "+---+--------+-------------+---------+-------+-------+-------+----+---------+----+-----+--------+--------+-----+--------+--------+------------------------+\n",
            "only showing top 4 rows\n",
            "\n"
          ]
        }
      ]
    },
    {
      "cell_type": "code",
      "metadata": {
        "colab": {
          "base_uri": "https://localhost:8080/"
        },
        "id": "_L1oit_jcEtC",
        "outputId": "edf26571-b2e1-4e45-948f-012fc83eabdc"
      },
      "source": [
        "testingData.show(4)"
      ],
      "execution_count": 31,
      "outputs": [
        {
          "output_type": "stream",
          "name": "stdout",
          "text": [
            "+---+-------+-------------+---------+-------+-------+-------+----+--------+----+-----+--------+--------+-----+--------+--------+------------------------+\n",
            "|age|    job|maritalStatus|education|default|balance|housing|loan| contact|date|month|duration|campaign|pdays|previous|poutcome|opened_new_td_act_yes_no|\n",
            "+---+-------+-------------+---------+-------+-------+-------+----+--------+----+-----+--------+--------+-----+--------+--------+------------------------+\n",
            "| 19|student|       single|secondary|     no|  302.0|     no|  no|cellular|  16|  jul|   205.0|     1.0| -1.0|     0.0| unknown|                     yes|\n",
            "| 19|student|       single|  unknown|     no| 1169.0|     no|  no|cellular|   6|  feb|   463.0|    18.0| -1.0|     0.0| unknown|                      no|\n",
            "| 20|student|       single|secondary|     no|  502.0|     no|  no|cellular|  30|  apr|   261.0|     1.0| -1.0|     0.0| unknown|                     yes|\n",
            "| 20|student|       single|secondary|     no| 1191.0|     no|  no|cellular|  12|  feb|   274.0|     1.0| -1.0|     0.0| unknown|                      no|\n",
            "+---+-------+-------------+---------+-------+-------+-------+----+--------+----+-----+--------+--------+-----+--------+--------+------------------------+\n",
            "only showing top 4 rows\n",
            "\n"
          ]
        }
      ]
    },
    {
      "cell_type": "code",
      "metadata": {
        "id": "qgEVU-DwcG22"
      },
      "source": [
        "cat_Var_names = ['job','maritalStatus','education','default','housing','date','contact','month','poutcome']\n",
        "num_var_names = ['age','balance','duration','previous','pdays','campaign']"
      ],
      "execution_count": 32,
      "outputs": []
    },
    {
      "cell_type": "code",
      "metadata": {
        "id": "4TqW7CbFcLn4"
      },
      "source": [
        "from pyspark.ml.feature import VectorAssembler\n",
        "vector_assembler_numVars = VectorAssembler(inputCols=num_var_names , outputCol=\"num_features_all\")"
      ],
      "execution_count": 33,
      "outputs": []
    },
    {
      "cell_type": "code",
      "metadata": {
        "id": "iZND1xjecNlZ"
      },
      "source": [
        "from pyspark.ml.feature import MinMaxScaler\n",
        "min_max_Scalar_NumVars = MinMaxScaler(inputCol=\"num_features_all\",outputCol=\"scaled_num_features\")"
      ],
      "execution_count": 34,
      "outputs": []
    },
    {
      "cell_type": "code",
      "metadata": {
        "id": "0liFW1sbcPny"
      },
      "source": [
        "from pyspark.ml.feature import StringIndexer, OneHotEncoder\n",
        "indexers_Cat = [StringIndexer(inputCol=cat_var_name,outputCol=\"{0}_index\".format(cat_var_name))\n",
        "                for cat_var_name in cat_Var_names]\n",
        "\n",
        "encoders_Cat = [OneHotEncoder(inputCol=indexer.getOutputCol(),outputCol=\"{0}_vec\".format(indexer.getInputCol())) for indexer in indexers_Cat]\n",
        "\n",
        "assembler_Cat = VectorAssembler(inputCols=[encoder.getOutputCol() for encoder in encoders_Cat],outputCol=\"cat_features\")\n",
        "assembler = VectorAssembler(inputCols=[\"scaled_num_features\",\"cat_features\"],outputCol=\"features\")"
      ],
      "execution_count": 35,
      "outputs": []
    },
    {
      "cell_type": "code",
      "metadata": {
        "id": "74PnMRpAcTBD"
      },
      "source": [
        "indexer_Label = StringIndexer(inputCol=\"opened_new_td_act_yes_no\",outputCol=\"label\")"
      ],
      "execution_count": 36,
      "outputs": []
    },
    {
      "cell_type": "code",
      "metadata": {
        "id": "Hrk2HW2VcWQk"
      },
      "source": [
        "preprocessingStages = [vector_assembler_numVars] + [min_max_Scalar_NumVars] + indexers_Cat + encoders_Cat + [assembler_Cat] + [assembler] + [indexer_Label]"
      ],
      "execution_count": 37,
      "outputs": []
    },
    {
      "cell_type": "code",
      "metadata": {
        "colab": {
          "base_uri": "https://localhost:8080/"
        },
        "id": "VQ0pzhVMcYPy",
        "outputId": "002db22c-3c65-4720-d638-ae9653045ce0"
      },
      "source": [
        "type(preprocessingStages)"
      ],
      "execution_count": 38,
      "outputs": [
        {
          "output_type": "execute_result",
          "data": {
            "text/plain": [
              "list"
            ]
          },
          "metadata": {},
          "execution_count": 38
        }
      ]
    },
    {
      "cell_type": "code",
      "metadata": {
        "colab": {
          "base_uri": "https://localhost:8080/"
        },
        "id": "HQjc1uHKca4o",
        "outputId": "6f2aefa4-65b3-4fc4-81b9-0bda58f8dad5"
      },
      "source": [
        "preprocessingStages"
      ],
      "execution_count": 39,
      "outputs": [
        {
          "output_type": "execute_result",
          "data": {
            "text/plain": [
              "[VectorAssembler_f09feb51d782,\n",
              " MinMaxScaler_8d3047d36ac7,\n",
              " StringIndexer_634526b828be,\n",
              " StringIndexer_b05f1295ebfc,\n",
              " StringIndexer_4b589f0d063d,\n",
              " StringIndexer_59849657eb20,\n",
              " StringIndexer_cc2eea004280,\n",
              " StringIndexer_7125d76f6f25,\n",
              " StringIndexer_dfdaf145579b,\n",
              " StringIndexer_5aedebbcbf5b,\n",
              " StringIndexer_e0ea806d2894,\n",
              " OneHotEncoder_a87919a193d1,\n",
              " OneHotEncoder_e0d81d893e02,\n",
              " OneHotEncoder_e80fd345cf56,\n",
              " OneHotEncoder_3843e6a0229d,\n",
              " OneHotEncoder_8f16d798da85,\n",
              " OneHotEncoder_3d1b79ad77d9,\n",
              " OneHotEncoder_6a84b653e40d,\n",
              " OneHotEncoder_89f34fe5e5f4,\n",
              " OneHotEncoder_8c3d9e34a511,\n",
              " VectorAssembler_8f6799b564b3,\n",
              " VectorAssembler_61e901badd6e,\n",
              " StringIndexer_72cd3951b896]"
            ]
          },
          "metadata": {},
          "execution_count": 39
        }
      ]
    },
    {
      "cell_type": "code",
      "source": [
        "from pyspark.ml.classification import LogisticRegression\n",
        "lr =  LogisticRegression(maxIter=10,labelCol=\"label\",featuresCol=\"features\")\n",
        "from pyspark.ml import Pipeline\n",
        "lr_pipeline = Pipeline(stages=preprocessingStages+[lr])\n",
        "lr_pipeline_model = lr_pipeline.fit(trainingData)"
      ],
      "metadata": {
        "id": "V148BKsMgRxB"
      },
      "execution_count": 40,
      "outputs": []
    },
    {
      "cell_type": "code",
      "metadata": {
        "colab": {
          "base_uri": "https://localhost:8080/"
        },
        "id": "sGXupqvCtr1l",
        "outputId": "b901bf4b-65b2-4b3b-c6f8-5f900821af43"
      },
      "source": [
        "lr_pipeline_model.stages[-1].coefficients"
      ],
      "execution_count": 41,
      "outputs": [
        {
          "output_type": "execute_result",
          "data": {
            "text/plain": [
              "DenseVector([-0.071, 0.2597, 13.587, 1.0887, 0.8079, -3.8358, -0.389, 0.0913, 0.1426, 0.1409, -0.0677, 0.5562, -0.1226, -0.3924, -0.3957, -0.5813, 0.1706, -0.2495, -0.1002, -0.0359, 0.0635, -0.1596, -0.2687, -0.4249, -0.8732, 0.3119, -0.6983, 0.2039, 0.1244, -0.201, -0.8396, -0.7584, 0.2183, 0.0271, 0.4611, -0.026, -0.5003, 0.8722, -0.3531, -0.448, 0.5168, -0.143, 0.192, -0.2366, 0.1678, 0.147, 0.1035, -0.2048, 0.0332, 0.0227, 1.0177, 0.0413, 0.2971, 0.5055, 0.3584, -0.6693, -0.4366, -0.4779, -0.0033, 0.6456, -0.3027, 0.3279, 0.3878, -0.5167, 1.7012, 0.5903, 1.3815, -1.0194, -1.2243, -0.317])"
            ]
          },
          "metadata": {},
          "execution_count": 41
        }
      ]
    },
    {
      "cell_type": "code",
      "metadata": {
        "colab": {
          "base_uri": "https://localhost:8080/"
        },
        "id": "ap4xAjS4uLrh",
        "outputId": "213aabd3-3c69-483a-8fdf-dbe6b657e4b9"
      },
      "source": [
        "lr_pipeline_model.stages[-1].intercept"
      ],
      "execution_count": 42,
      "outputs": [
        {
          "output_type": "execute_result",
          "data": {
            "text/plain": [
              "-2.0413224774065664"
            ]
          },
          "metadata": {},
          "execution_count": 42
        }
      ]
    },
    {
      "cell_type": "code",
      "metadata": {
        "id": "2_IbcEBhuOaG"
      },
      "source": [
        "train_predictions_log = lr_pipeline_model.transform(trainingData)"
      ],
      "execution_count": 44,
      "outputs": []
    },
    {
      "cell_type": "code",
      "metadata": {
        "colab": {
          "base_uri": "https://localhost:8080/"
        },
        "id": "uBjavKmZuRH8",
        "outputId": "aa5719eb-0da6-4eb1-b3f6-9b50e4c50417"
      },
      "source": [
        "train_predictions_log.select('features').show(truncate=False)"
      ],
      "execution_count": 45,
      "outputs": [
        {
          "output_type": "stream",
          "name": "stdout",
          "text": [
            "+-------------------------------------------------------------------------------------------------------------------------------------------------------------------------------------+\n",
            "|features                                                                                                                                                                             |\n",
            "+-------------------------------------------------------------------------------------------------------------------------------------------------------------------------------------+\n",
            "|(70,[1,2,5,16,18,21,22,52,54,57,67],[0.07328525909776958,0.033101621979477,0.02040816326530612,1.0,1.0,1.0,1.0,1.0,1.0,1.0,1.0])                                                     |\n",
            "|(70,[1,2,5,16,18,22,41,54,62,67],[0.06983062217004862,0.039390930155577625,0.04081632653061224,1.0,1.0,1.0,1.0,1.0,1.0,1.0])                                                         |\n",
            "|(70,[0,1,2,3,4,5,16,18,19,22,41,56,68],[0.014705882352941176,0.07959080999496897,0.055610724925521354,0.2,0.4598269468479604,0.08163265306122448,1.0,1.0,1.0,1.0,1.0,1.0,1.0])       |\n",
            "|(70,[0,1,2,3,4,10,18,19,22,28,59,69],[0.029411764705882353,0.08193862149924534,0.10758027143330023,0.04,0.11866501854140914,1.0,1.0,1.0,1.0,1.0,1.0,1.0])                            |\n",
            "|(70,[0,1,2,16,18,19,22,38,55,56,67],[0.029411764705882353,0.07003186315612946,0.20456802383316783,1.0,1.0,1.0,1.0,1.0,1.0,1.0,1.0])                                                  |\n",
            "|(70,[0,1,2,3,4,5,16,18,19,22,40,54,59],[0.029411764705882353,0.1532785510649002,0.08407811982787157,0.12,0.21013597033374534,0.1020408163265306,1.0,1.0,1.0,1.0,1.0,1.0,1.0])        |\n",
            "|(70,[0,1,2,3,4,5,16,18,19,22,29,54,58,69],[0.029411764705882353,0.2993795069595841,0.04038397881496193,0.28,0.15822002472187885,0.04081632653061224,1.0,1.0,1.0,1.0,1.0,1.0,1.0,1.0])|\n",
            "|(70,[0,1,2,5,16,18,22,23,42,55,56,67],[0.029411764705882353,0.07442562468556095,0.06421714664018537,0.04081632653061224,1.0,1.0,1.0,1.0,1.0,1.0,1.0,1.0])                            |\n",
            "|(70,[0,1,2,9,18,19,22,26,54,58,67],[0.044117647058823525,0.2077142377997652,0.020191989407480966,1.0,1.0,1.0,1.0,1.0,1.0,1.0,1.0])                                                   |\n",
            "|(70,[0,1,2,3,4,16,18,21,22,24,54,64,68],[0.044117647058823525,0.1862820727821566,0.10857332009268454,0.12,0.22744128553770085,1.0,1.0,1.0,1.0,1.0,1.0,1.0,1.0])                      |\n",
            "|(70,[0,1,2,3,4,5,16,18,19,22,36,54,60,69],[0.044117647058823525,0.1532785510649002,0.14730221780867264,0.4,0.04820766378244746,0.02040816326530612,1.0,1.0,1.0,1.0,1.0,1.0,1.0,1.0]) |\n",
            "|(70,[0,1,2,16,18,20,22,26,54,58,67],[0.044117647058823525,0.09300687573369108,0.11055941741145317,1.0,1.0,1.0,1.0,1.0,1.0,1.0,1.0])                                                  |\n",
            "|(70,[0,1,2,16,18,20,22,35,54,59,67],[0.044117647058823525,0.10877075297668957,0.03806686527639854,1.0,1.0,1.0,1.0,1.0,1.0,1.0,1.0])                                                  |\n",
            "|(70,[0,1,2,5,16,18,22,47,54,57,67],[0.044117647058823525,0.07140700989434848,0.021516054286660046,0.04081632653061224,1.0,1.0,1.0,1.0,1.0,1.0,1.0])                                  |\n",
            "|(70,[0,1,2,9,18,19,22,42,55,56,67],[0.058823529411764705,0.06999832299178266,0.1353856338960609,1.0,1.0,1.0,1.0,1.0,1.0,1.0,1.0])                                                    |\n",
            "|(70,[0,1,2,9,18,19,22,23,33,54,56,67],[0.058823529411764705,0.08958577897031694,0.01919894074809666,1.0,1.0,1.0,1.0,1.0,1.0,1.0,1.0,1.0])                                            |\n",
            "|(70,[0,1,2,6,18,21,22,23,47,55,59,67],[0.058823529411764705,0.3591816199899379,0.09169149288315127,1.0,1.0,1.0,1.0,1.0,1.0,1.0,1.0,1.0])                                             |\n",
            "|(70,[0,1,2,6,18,22,23,25,54,56,67],[0.058823529411764705,0.09723293644138856,0.039390930155577625,1.0,1.0,1.0,1.0,1.0,1.0,1.0,1.0])                                                  |\n",
            "|(70,[0,1,2,5,13,18,21,22,23,34,55,56,67],[0.058823529411764705,0.06996478282743585,0.12942734193975505,0.02040816326530612,1.0,1.0,1.0,1.0,1.0,1.0,1.0,1.0,1.0])                     |\n",
            "|(70,[0,1,2,5,10,17,19,22,23,24,55,59,67],[0.058823529411764705,0.06919335904745932,0.0029791459781529296,0.18367346938775508,1.0,1.0,1.0,1.0,1.0,1.0,1.0,1.0,1.0])                   |\n",
            "+-------------------------------------------------------------------------------------------------------------------------------------------------------------------------------------+\n",
            "only showing top 20 rows\n",
            "\n"
          ]
        }
      ]
    },
    {
      "cell_type": "code",
      "metadata": {
        "colab": {
          "base_uri": "https://localhost:8080/"
        },
        "id": "mCtLSARjuT75",
        "outputId": "d4eff08d-51df-4888-c897-2c56d619212b"
      },
      "source": [
        "train_predictions_log.show()"
      ],
      "execution_count": 46,
      "outputs": [
        {
          "output_type": "stream",
          "name": "stdout",
          "text": [
            "+---+------------+-------------+---------+-------+-------+-------+----+---------+----+-----+--------+--------+-----+--------+--------+------------------------+--------------------+--------------------+---------+-------------------+---------------+-------------+-------------+----------+-------------+-----------+--------------+---------------+-----------------+-------------+-------------+-------------+---------------+-------------+--------------+-------------+--------------------+--------------------+-----+--------------------+--------------------+----------+\n",
            "|age|         job|maritalStatus|education|default|balance|housing|loan|  contact|date|month|duration|campaign|pdays|previous|poutcome|opened_new_td_act_yes_no|    num_features_all| scaled_num_features|job_index|maritalStatus_index|education_index|default_index|housing_index|date_index|contact_index|month_index|poutcome_index|        job_vec|maritalStatus_vec|education_vec|  default_vec|  housing_vec|       date_vec|  contact_vec|     month_vec| poutcome_vec|        cat_features|            features|label|       rawPrediction|         probability|prediction|\n",
            "+---+------------+-------------+---------+-------+-------+-------+----+---------+----+-----+--------+--------+-----+--------+--------+------------------------+--------------------+--------------------+---------+-------------------+---------------+-------------+-------------+----------+-------------+-----------+--------------+---------------+-----------------+-------------+-------------+-------------+---------------+-------------+--------------+-------------+--------------------+--------------------+-----+--------------------+--------------------+----------+\n",
            "| 19|     student|       single|  primary|     no|  103.0|     no|  no| cellular|  10|  jul|   104.0|     2.0| -1.0|     0.0| unknown|                     yes|[19.0,103.0,104.0...|[0.0,0.0732852590...|     10.0|                1.0|            2.0|          0.0|          1.0|      28.0|          0.0|        1.0|           0.0|(11,[10],[1.0])|    (2,[1],[1.0])|(3,[2],[1.0])|(1,[0],[1.0])|    (1,[],[])|(30,[28],[1.0])|(2,[0],[1.0])|(11,[1],[1.0])|(3,[0],[1.0])|(64,[10,12,15,16,...|(70,[1,2,5,16,18,...|  1.0|[2.85063508488641...|[0.94535150184604...|       0.0|\n",
            "| 19|     student|       single|  unknown|     no|    0.0|     no|  no| cellular|  11|  feb|   123.0|     3.0| -1.0|     0.0| unknown|                      no|[19.0,0.0,123.0,0...|[0.0,0.0698306221...|     10.0|                1.0|            3.0|          0.0|          1.0|      17.0|          0.0|        6.0|           0.0|(11,[10],[1.0])|    (2,[1],[1.0])|    (3,[],[])|(1,[0],[1.0])|    (1,[],[])|(30,[17],[1.0])|(2,[0],[1.0])|(11,[6],[1.0])|(3,[0],[1.0])|(64,[10,12,16,35,...|(70,[1,2,5,16,18,...|  0.0|[2.25914684486860...|[0.90543660818367...|       0.0|\n",
            "| 20|     student|       single|secondary|     no|  291.0|     no|  no|telephone|  11|  may|   172.0|     5.0|371.0|     5.0| failure|                      no|[20.0,291.0,172.0...|[0.01470588235294...|     10.0|                1.0|            0.0|          0.0|          1.0|      17.0|          2.0|        0.0|           1.0|(11,[10],[1.0])|    (2,[1],[1.0])|(3,[0],[1.0])|(1,[0],[1.0])|    (1,[],[])|(30,[17],[1.0])|    (2,[],[])|(11,[0],[1.0])|(3,[1],[1.0])|(64,[10,12,13,16,...|(70,[0,1,2,3,4,5,...|  0.0|[3.02818888183639...|[0.95383148230101...|       0.0|\n",
            "| 21|    services|       single|secondary|     no|  361.0|     no|  no|telephone|   5|  jun|   329.0|     1.0| 95.0|     1.0|   other|                      no|[21.0,361.0,329.0...|[0.02941176470588...|      4.0|                1.0|            0.0|          0.0|          1.0|       4.0|          2.0|        3.0|           2.0| (11,[4],[1.0])|    (2,[1],[1.0])|(3,[0],[1.0])|(1,[0],[1.0])|    (1,[],[])| (30,[4],[1.0])|    (2,[],[])|(11,[3],[1.0])|(3,[2],[1.0])|(64,[4,12,13,16,2...|(70,[0,1,2,3,4,10...|  0.0|[0.44059712531460...|[0.60840130455448...|       0.0|\n",
            "| 21|     student|       single|secondary|     no|    6.0|     no|  no|  unknown|   9|  may|   622.0|     1.0| -1.0|     0.0| unknown|                      no|[21.0,6.0,622.0,0...|[0.02941176470588...|     10.0|                1.0|            0.0|          0.0|          1.0|      14.0|          1.0|        0.0|           0.0|(11,[10],[1.0])|    (2,[1],[1.0])|(3,[0],[1.0])|(1,[0],[1.0])|    (1,[],[])|(30,[14],[1.0])|(2,[1],[1.0])|(11,[0],[1.0])|(3,[0],[1.0])|(64,[10,12,13,16,...|(70,[0,1,2,16,18,...|  0.0|[1.95849665847202...|[0.87637016428439...|       0.0|\n",
            "| 21|     student|       single|secondary|     no| 2488.0|     no|  no| cellular|  30|  jun|   258.0|     6.0|169.0|     3.0| success|                     yes|[21.0,2488.0,258....|[0.02941176470588...|     10.0|                1.0|            0.0|          0.0|          1.0|      16.0|          0.0|        3.0|           3.0|(11,[10],[1.0])|    (2,[1],[1.0])|(3,[0],[1.0])|(1,[0],[1.0])|    (1,[],[])|(30,[16],[1.0])|(2,[0],[1.0])|(11,[3],[1.0])|    (3,[],[])|(64,[10,12,13,16,...|(70,[0,1,2,3,4,5,...|  1.0|[-0.3343309658501...|[0.41718720710946...|       1.0|\n",
            "| 21|     student|       single|secondary|     no| 6844.0|     no|  no| cellular|  14|  aug|   126.0|     3.0|127.0|     7.0|   other|                      no|[21.0,6844.0,126....|[0.02941176470588...|     10.0|                1.0|            0.0|          0.0|          1.0|       5.0|          0.0|        2.0|           2.0|(11,[10],[1.0])|    (2,[1],[1.0])|(3,[0],[1.0])|(1,[0],[1.0])|    (1,[],[])| (30,[5],[1.0])|(2,[0],[1.0])|(11,[2],[1.0])|(3,[2],[1.0])|(64,[10,12,13,16,...|(70,[0,1,2,3,4,5,...|  0.0|[1.53809312892197...|[0.82318735128068...|       0.0|\n",
            "| 21|     student|       single|  unknown|     no|  137.0|    yes|  no|  unknown|  12|  may|   198.0|     3.0| -1.0|     0.0| unknown|                      no|[21.0,137.0,198.0...|[0.02941176470588...|     10.0|                1.0|            3.0|          0.0|          0.0|      18.0|          1.0|        0.0|           0.0|(11,[10],[1.0])|    (2,[1],[1.0])|    (3,[],[])|(1,[0],[1.0])|(1,[0],[1.0])|(30,[18],[1.0])|(2,[1],[1.0])|(11,[0],[1.0])|(3,[0],[1.0])|(64,[10,12,16,17,...|(70,[0,1,2,5,16,1...|  0.0|[3.86476726211219...|[0.97946281769835...|       0.0|\n",
            "| 22|      admin.|       single|secondary|     no| 4111.0|     no| yes| cellular|  19|  aug|    65.0|     1.0| -1.0|     0.0| unknown|                      no|[22.0,4111.0,65.0...|[0.04411764705882...|      3.0|                1.0|            0.0|          0.0|          1.0|       2.0|          0.0|        2.0|           0.0| (11,[3],[1.0])|    (2,[1],[1.0])|(3,[0],[1.0])|(1,[0],[1.0])|    (1,[],[])| (30,[2],[1.0])|(2,[0],[1.0])|(11,[2],[1.0])|(3,[0],[1.0])|(64,[3,12,13,16,2...|(70,[0,1,2,9,18,1...|  0.0|[3.34266265565617...|[0.96586374164006...|       0.0|\n",
            "| 22|     student|       single|  primary|     no| 3472.0|     no|  no| cellular|  20|  oct|   332.0|     1.0|183.0|     3.0| failure|                     yes|[22.0,3472.0,332....|[0.04411764705882...|     10.0|                1.0|            2.0|          0.0|          1.0|       0.0|          0.0|        8.0|           1.0|(11,[10],[1.0])|    (2,[1],[1.0])|(3,[2],[1.0])|(1,[0],[1.0])|    (1,[],[])| (30,[0],[1.0])|(2,[0],[1.0])|(11,[8],[1.0])|(3,[1],[1.0])|(64,[10,12,15,16,...|(70,[0,1,2,3,4,16...|  1.0|[0.60237073815624...|[0.64619850627154...|       0.0|\n",
            "| 22|     student|       single|secondary|     no| 2488.0|     no|  no| cellular|   8|  nov|   449.0|     2.0| 38.0|    10.0|   other|                     yes|[22.0,2488.0,449....|[0.04411764705882...|     10.0|                1.0|            0.0|          0.0|          1.0|      12.0|          0.0|        4.0|           2.0|(11,[10],[1.0])|    (2,[1],[1.0])|(3,[0],[1.0])|(1,[0],[1.0])|    (1,[],[])|(30,[12],[1.0])|(2,[0],[1.0])|(11,[4],[1.0])|(3,[2],[1.0])|(64,[10,12,13,16,...|(70,[0,1,2,3,4,5,...|  1.0|[0.60311989804993...|[0.64636976493367...|       0.0|\n",
            "| 22|     student|       single| tertiary|     no|  691.0|     no|  no| cellular|  19|  aug|   338.0|     1.0| -1.0|     0.0| unknown|                     yes|[22.0,691.0,338.0...|[0.04411764705882...|     10.0|                1.0|            1.0|          0.0|          1.0|       2.0|          0.0|        2.0|           0.0|(11,[10],[1.0])|    (2,[1],[1.0])|(3,[1],[1.0])|(1,[0],[1.0])|    (1,[],[])| (30,[2],[1.0])|(2,[0],[1.0])|(11,[2],[1.0])|(3,[0],[1.0])|(64,[10,12,14,16,...|(70,[0,1,2,16,18,...|  1.0|[2.01550533277355...|[0.88241545053996...|       0.0|\n",
            "| 22|     student|       single| tertiary|     no| 1161.0|     no| yes| cellular|  16|  jun|   119.0|     1.0| -1.0|     0.0| unknown|                      no|[22.0,1161.0,119....|[0.04411764705882...|     10.0|                1.0|            1.0|          0.0|          1.0|      11.0|          0.0|        3.0|           0.0|(11,[10],[1.0])|    (2,[1],[1.0])|(3,[1],[1.0])|(1,[0],[1.0])|    (1,[],[])|(30,[11],[1.0])|(2,[0],[1.0])|(11,[3],[1.0])|(3,[0],[1.0])|(64,[10,12,14,16,...|(70,[0,1,2,16,18,...|  0.0|[1.67519649611703...|[0.84226741983799...|       0.0|\n",
            "| 22|     student|       single|  unknown|     no|   47.0|     no|  no| cellular|   3|  jul|    69.0|     3.0| -1.0|     0.0| unknown|                      no|[22.0,47.0,69.0,0...|[0.04411764705882...|     10.0|                1.0|            3.0|          0.0|          1.0|      23.0|          0.0|        1.0|           0.0|(11,[10],[1.0])|    (2,[1],[1.0])|    (3,[],[])|(1,[0],[1.0])|    (1,[],[])|(30,[23],[1.0])|(2,[0],[1.0])|(11,[1],[1.0])|(3,[0],[1.0])|(64,[10,12,16,41,...|(70,[0,1,2,5,16,1...|  0.0|[3.43224919759230...|[0.96869734166995...|       0.0|\n",
            "| 23|      admin.|       single|secondary|     no|    5.0|     no|  no|  unknown|  12|  may|   413.0|     1.0| -1.0|     0.0| unknown|                      no|[23.0,5.0,413.0,0...|[0.05882352941176...|      3.0|                1.0|            0.0|          0.0|          1.0|      18.0|          1.0|        0.0|           0.0| (11,[3],[1.0])|    (2,[1],[1.0])|(3,[0],[1.0])|(1,[0],[1.0])|    (1,[],[])|(30,[18],[1.0])|(2,[1],[1.0])|(11,[0],[1.0])|(3,[0],[1.0])|(64,[3,12,13,16,3...|(70,[0,1,2,9,18,1...|  0.0|[2.38516576438332...|[0.91568910189688...|       0.0|\n",
            "| 23|      admin.|       single|secondary|     no|  589.0|    yes|  no| cellular|   6|  may|    62.0|     1.0| -1.0|     0.0| unknown|                      no|[23.0,589.0,62.0,...|[0.05882352941176...|      3.0|                1.0|            0.0|          0.0|          0.0|       9.0|          0.0|        0.0|           0.0| (11,[3],[1.0])|    (2,[1],[1.0])|(3,[0],[1.0])|(1,[0],[1.0])|(1,[0],[1.0])| (30,[9],[1.0])|(2,[0],[1.0])|(11,[0],[1.0])|(3,[0],[1.0])|(64,[3,12,13,16,1...|(70,[0,1,2,9,18,1...|  0.0|[3.52082052052244...|[0.97127440580708...|       0.0|\n",
            "| 23| blue-collar|       single|  primary|     no| 8627.0|    yes|  no|  unknown|   3|  jun|   281.0|     1.0| -1.0|     0.0| unknown|                      no|[23.0,8627.0,281....|[0.05882352941176...|      0.0|                1.0|            2.0|          0.0|          0.0|      23.0|          1.0|        3.0|           0.0| (11,[0],[1.0])|    (2,[1],[1.0])|(3,[2],[1.0])|(1,[0],[1.0])|(1,[0],[1.0])|(30,[23],[1.0])|(2,[1],[1.0])|(11,[3],[1.0])|(3,[0],[1.0])|(64,[0,12,15,16,1...|(70,[0,1,2,6,18,2...|  0.0|[3.29676832793770...|[0.96431777882504...|       0.0|\n",
            "| 23| blue-collar|       single|  unknown|     no|  817.0|    yes|  no| cellular|  18|  may|   123.0|     1.0| -1.0|     0.0| unknown|                      no|[23.0,817.0,123.0...|[0.05882352941176...|      0.0|                1.0|            3.0|          0.0|          0.0|       1.0|          0.0|        0.0|           0.0| (11,[0],[1.0])|    (2,[1],[1.0])|    (3,[],[])|(1,[0],[1.0])|(1,[0],[1.0])| (30,[1],[1.0])|(2,[0],[1.0])|(11,[0],[1.0])|(3,[0],[1.0])|(64,[0,12,16,17,1...|(70,[0,1,2,6,18,2...|  0.0|[3.45360031995549...|[0.96933832867920...|       0.0|\n",
            "| 23|entrepreneur|       single|  primary|     no|    4.0|    yes|  no|  unknown|  13|  may|   395.0|     2.0| -1.0|     0.0| unknown|                     yes|[23.0,4.0,395.0,0...|[0.05882352941176...|      7.0|                1.0|            2.0|          0.0|          0.0|      10.0|          1.0|        0.0|           0.0| (11,[7],[1.0])|    (2,[1],[1.0])|(3,[2],[1.0])|(1,[0],[1.0])|(1,[0],[1.0])|(30,[10],[1.0])|(2,[1],[1.0])|(11,[0],[1.0])|(3,[0],[1.0])|(64,[7,12,15,16,1...|(70,[0,1,2,5,13,1...|  1.0|[3.35723113294033...|[0.96634083211354...|       0.0|\n",
            "| 23|    services|      married|secondary|     no|  -19.0|    yes|  no|  unknown|  20|  jun|    13.0|    10.0| -1.0|     0.0| unknown|                      no|[23.0,-19.0,13.0,...|[0.05882352941176...|      4.0|                0.0|            0.0|          0.0|          0.0|       0.0|          1.0|        3.0|           0.0| (11,[4],[1.0])|    (2,[0],[1.0])|(3,[0],[1.0])|(1,[0],[1.0])|(1,[0],[1.0])| (30,[0],[1.0])|(2,[1],[1.0])|(11,[3],[1.0])|(3,[0],[1.0])|(64,[4,11,13,16,1...|(70,[0,1,2,5,10,1...|  0.0|[5.65475151716006...|[0.99651137026643...|       0.0|\n",
            "+---+------------+-------------+---------+-------+-------+-------+----+---------+----+-----+--------+--------+-----+--------+--------+------------------------+--------------------+--------------------+---------+-------------------+---------------+-------------+-------------+----------+-------------+-----------+--------------+---------------+-----------------+-------------+-------------+-------------+---------------+-------------+--------------+-------------+--------------------+--------------------+-----+--------------------+--------------------+----------+\n",
            "only showing top 20 rows\n",
            "\n"
          ]
        }
      ]
    },
    {
      "cell_type": "code",
      "metadata": {
        "id": "BgdJ4Ik2uoAJ"
      },
      "source": [
        "test_predictions_log = lr_pipeline_model.transform(testingData)"
      ],
      "execution_count": 47,
      "outputs": []
    },
    {
      "cell_type": "code",
      "metadata": {
        "colab": {
          "base_uri": "https://localhost:8080/"
        },
        "id": "huEnVVbhuqUI",
        "outputId": "2c308a9f-3b6c-472d-c667-94733ac1e8cf"
      },
      "source": [
        "from pyspark.ml.evaluation import MulticlassClassificationEvaluator\n",
        "predictionAndLabels_train_lr = train_predictions_log.select(\"prediction\",\"label\")\n",
        "evaluator = MulticlassClassificationEvaluator(metricName=\"accuracy\")\n",
        "train_accuracy_lr = evaluator.evaluate(predictionAndLabels_train_lr)\n",
        "print(\"Training Set Accuracy = \",train_accuracy_lr)\n",
        "print(\"Training error \", 1-train_accuracy_lr)"
      ],
      "execution_count": 48,
      "outputs": [
        {
          "output_type": "stream",
          "name": "stdout",
          "text": [
            "Training Set Accuracy =  0.8950418544752092\n",
            "Training error  0.10495814552479077\n"
          ]
        }
      ]
    },
    {
      "cell_type": "code",
      "metadata": {
        "colab": {
          "base_uri": "https://localhost:8080/"
        },
        "id": "zXMyB7EKuwPo",
        "outputId": "7e68c95e-82eb-4cab-abdb-266338604d4f"
      },
      "source": [
        "predictionAndLabels_test_lr = test_predictions_log.select(\"prediction\",\"label\")\n",
        "evaluator = MulticlassClassificationEvaluator(metricName=\"accuracy\")\n",
        "test_accuracy_lr = evaluator.evaluate(predictionAndLabels_test_lr)\n",
        "print(\"Testing Set Accuracy = \",test_accuracy_lr)\n",
        "print(\"Testing error \", 1-test_accuracy_lr)"
      ],
      "execution_count": 49,
      "outputs": [
        {
          "output_type": "stream",
          "name": "stdout",
          "text": [
            "Testing Set Accuracy =  0.8981612446958982\n",
            "Testing error  0.1018387553041018\n"
          ]
        }
      ]
    },
    {
      "cell_type": "code",
      "metadata": {
        "id": "2u5A39aWuyRX"
      },
      "source": [
        "true_positive = predictionAndLabels_test_lr[(predictionAndLabels_test_lr.prediction == 1.0) & (predictionAndLabels_test_lr.label ==1.0 )].count()"
      ],
      "execution_count": 50,
      "outputs": []
    },
    {
      "cell_type": "code",
      "metadata": {
        "colab": {
          "base_uri": "https://localhost:8080/"
        },
        "id": "DhFJQLP5u0SW",
        "outputId": "db018b34-86a7-4011-8d97-7c13b6e04148"
      },
      "source": [
        "true_positive"
      ],
      "execution_count": 51,
      "outputs": [
        {
          "output_type": "execute_result",
          "data": {
            "text/plain": [
              "47"
            ]
          },
          "metadata": {},
          "execution_count": 51
        }
      ]
    },
    {
      "cell_type": "code",
      "metadata": {
        "id": "hEQnhuOXu2X7"
      },
      "source": [
        "true_negative = predictionAndLabels_test_lr[(predictionAndLabels_test_lr.prediction == 0.0) & (predictionAndLabels_test_lr.label ==0.0 )].count()"
      ],
      "execution_count": 52,
      "outputs": []
    },
    {
      "cell_type": "code",
      "metadata": {
        "colab": {
          "base_uri": "https://localhost:8080/"
        },
        "id": "IqGAMlicu5kk",
        "outputId": "280048fd-e947-45d3-c2dc-456066e990d0"
      },
      "source": [
        "true_negative"
      ],
      "execution_count": 53,
      "outputs": [
        {
          "output_type": "execute_result",
          "data": {
            "text/plain": [
              "1223"
            ]
          },
          "metadata": {},
          "execution_count": 53
        }
      ]
    },
    {
      "cell_type": "code",
      "metadata": {
        "id": "0TWbh5BUu8gF"
      },
      "source": [
        "false_positive = predictionAndLabels_test_lr[(predictionAndLabels_test_lr.prediction == 1.0) & (predictionAndLabels_test_lr.label ==0.0 )].count()"
      ],
      "execution_count": 54,
      "outputs": []
    },
    {
      "cell_type": "code",
      "metadata": {
        "colab": {
          "base_uri": "https://localhost:8080/"
        },
        "id": "L81NmMz4u-YK",
        "outputId": "935f3ad3-e963-4596-b013-76e8a38e54f8"
      },
      "source": [
        "false_positive"
      ],
      "execution_count": 55,
      "outputs": [
        {
          "output_type": "execute_result",
          "data": {
            "text/plain": [
              "33"
            ]
          },
          "metadata": {},
          "execution_count": 55
        }
      ]
    },
    {
      "cell_type": "code",
      "metadata": {
        "id": "An9n21zHvBGp"
      },
      "source": [
        "false_negative = predictionAndLabels_test_lr[(predictionAndLabels_test_lr.prediction == 0.0) & (predictionAndLabels_test_lr.label ==1.0 )].count()"
      ],
      "execution_count": 56,
      "outputs": []
    },
    {
      "cell_type": "code",
      "metadata": {
        "colab": {
          "base_uri": "https://localhost:8080/"
        },
        "id": "aB3tRB-rvD1b",
        "outputId": "d8e6df69-aafb-4001-ff90-793d7b39809b"
      },
      "source": [
        "false_negative"
      ],
      "execution_count": 57,
      "outputs": [
        {
          "output_type": "execute_result",
          "data": {
            "text/plain": [
              "111"
            ]
          },
          "metadata": {},
          "execution_count": 57
        }
      ]
    },
    {
      "cell_type": "code",
      "metadata": {
        "id": "6VURo1u7vGWv"
      },
      "source": [
        "precision = true_positive/float(true_positive + false_positive)"
      ],
      "execution_count": 60,
      "outputs": []
    },
    {
      "cell_type": "code",
      "metadata": {
        "colab": {
          "base_uri": "https://localhost:8080/"
        },
        "id": "i8ylvMPJwmD_",
        "outputId": "11ecd769-c4bd-442d-db2f-8cff2e56f17e"
      },
      "source": [
        "precision"
      ],
      "execution_count": 61,
      "outputs": [
        {
          "output_type": "execute_result",
          "data": {
            "text/plain": [
              "0.5875"
            ]
          },
          "metadata": {},
          "execution_count": 61
        }
      ]
    },
    {
      "cell_type": "code",
      "metadata": {
        "colab": {
          "base_uri": "https://localhost:8080/"
        },
        "id": "-yiqwUh5w0DM",
        "outputId": "32696759-102f-4a2c-8435-52571190871f"
      },
      "source": [
        "true_positive = predictionAndLabels_train_lr[(predictionAndLabels_train_lr.label == 1) & (predictionAndLabels_train_lr.prediction == 1.0)].count()\n",
        "true_negative = predictionAndLabels_train_lr[(predictionAndLabels_train_lr.label == 0) & (predictionAndLabels_train_lr.prediction == 0.0)].count()\n",
        "false_positive = predictionAndLabels_train_lr[(predictionAndLabels_train_lr.label == 0) & (predictionAndLabels_train_lr.prediction == 1.0)].count()\n",
        "false_negative = predictionAndLabels_train_lr[(predictionAndLabels_train_lr.label == 1) & (predictionAndLabels_train_lr.prediction == 0.0)].count()\n",
        "print (\"TRAIN METRICS - LINEAR MODEL - BINOMIAL FAMILY\")\n",
        "print (\"True Positives:\", true_positive)\n",
        "print (\"True Negatives:\", true_negative)\n",
        "print (\"False Positives:\", false_positive)\n",
        "print (\"False Negatives:\", false_negative)\n",
        "print (\"Total\", predictionAndLabels_train_lr.count())\n",
        "precission = true_positive / float(true_positive + false_positive)\n",
        "print (\"Precission: \", precission)\n",
        "recall = true_positive / float(true_positive + false_negative)\n",
        "print (\"Recall: \", recall)\n",
        "print (\"F1 Score: \", (2*((precission * recall)/float(precission + recall))))\n",
        "print(\"*****************************************************************************\")\n",
        "true_positive = predictionAndLabels_test_lr[(predictionAndLabels_test_lr.label == 1) & (predictionAndLabels_test_lr.prediction == 1.0)].count()\n",
        "true_negative = predictionAndLabels_test_lr[(predictionAndLabels_test_lr.label == 0) & (predictionAndLabels_test_lr.prediction == 0.0)].count()\n",
        "false_positive = predictionAndLabels_test_lr[(predictionAndLabels_test_lr.label == 0) & (predictionAndLabels_test_lr.prediction == 1.0)].count()\n",
        "false_negative = predictionAndLabels_test_lr[(predictionAndLabels_test_lr.label == 1) & (predictionAndLabels_test_lr.prediction == 0.0)].count()\n",
        "print (\"TEST METRICS - LINEAR MODEL - BINOMIAL FAMILY\")\n",
        "print (\"True Positives:\", true_positive)\n",
        "print (\"True Negatives:\", true_negative)\n",
        "print (\"False Positives:\", false_positive)\n",
        "print (\"False Negatives:\", false_negative)\n",
        "print (\"Total\", predictionAndLabels_train_lr.count())\n",
        "precision = true_positive / float(true_positive + false_positive)\n",
        "print (\"Precision: \", precision)\n",
        "recall = true_positive / float(true_positive + false_negative)\n",
        "print (\"Recall: \", recall)\n",
        "print (\"F1 Score: \", (2*((precision * recall)/float(precision + recall))))"
      ],
      "execution_count": 64,
      "outputs": [
        {
          "output_type": "stream",
          "name": "stdout",
          "text": [
            "TRAIN METRICS - LINEAR MODEL - BINOMIAL FAMILY\n",
            "True Positives: 114\n",
            "True Negatives: 2666\n",
            "False Positives: 77\n",
            "False Negatives: 249\n",
            "Total 3106\n",
            "Precission:  0.5968586387434555\n",
            "Recall:  0.3140495867768595\n",
            "F1 Score:  0.41155234657039713\n",
            "*****************************************************************************\n",
            "TEST METRICS - LINEAR MODEL - BINOMIAL FAMILY\n",
            "True Positives: 47\n",
            "True Negatives: 1223\n",
            "False Positives: 33\n",
            "False Negatives: 111\n",
            "Total 3106\n",
            "Precision:  0.5875\n",
            "Recall:  0.2974683544303797\n",
            "F1 Score:  0.3949579831932773\n"
          ]
        }
      ]
    },
    {
      "cell_type": "code",
      "metadata": {
        "id": "oJ1yICzww5Zp"
      },
      "source": [
        "train_pred_pandas = predictionAndLabels_train_lr.toPandas()\n",
        "train_actuals = train_pred_pandas.label.tolist()\n",
        "train_predictions = train_pred_pandas.prediction.tolist()\n",
        "\n",
        "\n",
        "test_pred_pandas = predictionAndLabels_test_lr.toPandas()\n",
        "test_actuals = test_pred_pandas.label.tolist()\n",
        "test_predictions = test_pred_pandas.prediction.tolist()\n",
        "from sklearn import metrics as smetrics\n",
        "cm = smetrics.confusion_matrix(train_actuals, train_predictions) "
      ],
      "execution_count": 65,
      "outputs": []
    },
    {
      "cell_type": "code",
      "source": [
        "import matplotlib.pyplot as plt\n",
        "import seaborn as sns"
      ],
      "metadata": {
        "id": "wxZ43J89hnPf"
      },
      "execution_count": 66,
      "outputs": []
    },
    {
      "cell_type": "code",
      "metadata": {
        "colab": {
          "base_uri": "https://localhost:8080/",
          "height": 510
        },
        "id": "TRPKd-21w-U4",
        "outputId": "2d92a3e3-2a5e-4d1b-c91c-2df307425cd4"
      },
      "source": [
        "df_cm = pd.DataFrame(cm)\n",
        "df_cm.index = ['Not Approved', 'Approved']\n",
        "df_cm.columns = ['Not Approved', 'Approved']\n",
        "names=['Not Approved', 'Approved']\n",
        "print(df_cm)\n",
        "fig = plt.figure(figsize = (10,7))\n",
        "sns.set(font_scale=1.4)#for label size\n",
        "sns.heatmap(df_cm, annot=True,fmt=\"d\",annot_kws={\"size\": 20})"
      ],
      "execution_count": 67,
      "outputs": [
        {
          "output_type": "stream",
          "name": "stdout",
          "text": [
            "              Not Approved  Approved\n",
            "Not Approved          2666        77\n",
            "Approved               249       114\n"
          ]
        },
        {
          "output_type": "execute_result",
          "data": {
            "text/plain": [
              "<matplotlib.axes._subplots.AxesSubplot at 0x7efc37dd0b10>"
            ]
          },
          "metadata": {},
          "execution_count": 67
        },
        {
          "output_type": "display_data",
          "data": {
            "text/plain": [
              "<Figure size 720x504 with 2 Axes>"
            ],
            "image/png": "[encoded data removed]"
          },
          "metadata": {
            "needs_background": "light"
          }
        }
      ]
    },
    {
      "cell_type": "code",
      "metadata": {
        "id": "UcLuBHr-xBBt"
      },
      "source": [
        "from pyspark.ml.classification import RandomForestClassifier\n",
        "rdf =  RandomForestClassifier(labelCol=\"label\",featuresCol=\"features\")\n",
        "from pyspark.ml import Pipeline\n",
        "rdf_pipeline = Pipeline(stages=preprocessingStages+[rdf])\n",
        "rdf_pipeline_model = rdf_pipeline.fit(trainingData)"
      ],
      "execution_count": 68,
      "outputs": []
    },
    {
      "cell_type": "code",
      "source": [
        "train_predictions_rdf = rdf_pipeline_model.transform(trainingData)"
      ],
      "metadata": {
        "id": "BBXzMP0Te6ML"
      },
      "execution_count": 71,
      "outputs": []
    },
    {
      "cell_type": "code",
      "source": [
        "train_predictions_rdf.select('features').show(truncate=False)"
      ],
      "metadata": {
        "colab": {
          "base_uri": "https://localhost:8080/"
        },
        "id": "Tb7yrcl9fBrN",
        "outputId": "1abadafb-b6f6-4287-9719-75abdf149f88"
      },
      "execution_count": 72,
      "outputs": [
        {
          "output_type": "stream",
          "name": "stdout",
          "text": [
            "+-------------------------------------------------------------------------------------------------------------------------------------------------------------------------------------+\n",
            "|features                                                                                                                                                                             |\n",
            "+-------------------------------------------------------------------------------------------------------------------------------------------------------------------------------------+\n",
            "|(70,[1,2,5,16,18,21,22,52,54,57,67],[0.07328525909776958,0.033101621979477,0.02040816326530612,1.0,1.0,1.0,1.0,1.0,1.0,1.0,1.0])                                                     |\n",
            "|(70,[1,2,5,16,18,22,41,54,62,67],[0.06983062217004862,0.039390930155577625,0.04081632653061224,1.0,1.0,1.0,1.0,1.0,1.0,1.0])                                                         |\n",
            "|(70,[0,1,2,3,4,5,16,18,19,22,41,56,68],[0.014705882352941176,0.07959080999496897,0.055610724925521354,0.2,0.4598269468479604,0.08163265306122448,1.0,1.0,1.0,1.0,1.0,1.0,1.0])       |\n",
            "|(70,[0,1,2,3,4,10,18,19,22,28,59,69],[0.029411764705882353,0.08193862149924534,0.10758027143330023,0.04,0.11866501854140914,1.0,1.0,1.0,1.0,1.0,1.0,1.0])                            |\n",
            "|(70,[0,1,2,16,18,19,22,38,55,56,67],[0.029411764705882353,0.07003186315612946,0.20456802383316783,1.0,1.0,1.0,1.0,1.0,1.0,1.0,1.0])                                                  |\n",
            "|(70,[0,1,2,3,4,5,16,18,19,22,40,54,59],[0.029411764705882353,0.1532785510649002,0.08407811982787157,0.12,0.21013597033374534,0.1020408163265306,1.0,1.0,1.0,1.0,1.0,1.0,1.0])        |\n",
            "|(70,[0,1,2,3,4,5,16,18,19,22,29,54,58,69],[0.029411764705882353,0.2993795069595841,0.04038397881496193,0.28,0.15822002472187885,0.04081632653061224,1.0,1.0,1.0,1.0,1.0,1.0,1.0,1.0])|\n",
            "|(70,[0,1,2,5,16,18,22,23,42,55,56,67],[0.029411764705882353,0.07442562468556095,0.06421714664018537,0.04081632653061224,1.0,1.0,1.0,1.0,1.0,1.0,1.0,1.0])                            |\n",
            "|(70,[0,1,2,9,18,19,22,26,54,58,67],[0.044117647058823525,0.2077142377997652,0.020191989407480966,1.0,1.0,1.0,1.0,1.0,1.0,1.0,1.0])                                                   |\n",
            "|(70,[0,1,2,3,4,16,18,21,22,24,54,64,68],[0.044117647058823525,0.1862820727821566,0.10857332009268454,0.12,0.22744128553770085,1.0,1.0,1.0,1.0,1.0,1.0,1.0,1.0])                      |\n",
            "|(70,[0,1,2,3,4,5,16,18,19,22,36,54,60,69],[0.044117647058823525,0.1532785510649002,0.14730221780867264,0.4,0.04820766378244746,0.02040816326530612,1.0,1.0,1.0,1.0,1.0,1.0,1.0,1.0]) |\n",
            "|(70,[0,1,2,16,18,20,22,26,54,58,67],[0.044117647058823525,0.09300687573369108,0.11055941741145317,1.0,1.0,1.0,1.0,1.0,1.0,1.0,1.0])                                                  |\n",
            "|(70,[0,1,2,16,18,20,22,35,54,59,67],[0.044117647058823525,0.10877075297668957,0.03806686527639854,1.0,1.0,1.0,1.0,1.0,1.0,1.0,1.0])                                                  |\n",
            "|(70,[0,1,2,5,16,18,22,47,54,57,67],[0.044117647058823525,0.07140700989434848,0.021516054286660046,0.04081632653061224,1.0,1.0,1.0,1.0,1.0,1.0,1.0])                                  |\n",
            "|(70,[0,1,2,9,18,19,22,42,55,56,67],[0.058823529411764705,0.06999832299178266,0.1353856338960609,1.0,1.0,1.0,1.0,1.0,1.0,1.0,1.0])                                                    |\n",
            "|(70,[0,1,2,9,18,19,22,23,33,54,56,67],[0.058823529411764705,0.08958577897031694,0.01919894074809666,1.0,1.0,1.0,1.0,1.0,1.0,1.0,1.0,1.0])                                            |\n",
            "|(70,[0,1,2,6,18,21,22,23,47,55,59,67],[0.058823529411764705,0.3591816199899379,0.09169149288315127,1.0,1.0,1.0,1.0,1.0,1.0,1.0,1.0,1.0])                                             |\n",
            "|(70,[0,1,2,6,18,22,23,25,54,56,67],[0.058823529411764705,0.09723293644138856,0.039390930155577625,1.0,1.0,1.0,1.0,1.0,1.0,1.0,1.0])                                                  |\n",
            "|(70,[0,1,2,5,13,18,21,22,23,34,55,56,67],[0.058823529411764705,0.06996478282743585,0.12942734193975505,0.02040816326530612,1.0,1.0,1.0,1.0,1.0,1.0,1.0,1.0,1.0])                     |\n",
            "|(70,[0,1,2,5,10,17,19,22,23,24,55,59,67],[0.058823529411764705,0.06919335904745932,0.0029791459781529296,0.18367346938775508,1.0,1.0,1.0,1.0,1.0,1.0,1.0,1.0,1.0])                   |\n",
            "+-------------------------------------------------------------------------------------------------------------------------------------------------------------------------------------+\n",
            "only showing top 20 rows\n",
            "\n"
          ]
        }
      ]
    },
    {
      "cell_type": "code",
      "source": [
        "train_predictions_rdf.show()"
      ],
      "metadata": {
        "colab": {
          "base_uri": "https://localhost:8080/"
        },
        "id": "-9bwTBfTfPkF",
        "outputId": "a0e99c12-e8d1-4b4f-9234-62f5d8de41b0"
      },
      "execution_count": 73,
      "outputs": [
        {
          "output_type": "stream",
          "name": "stdout",
          "text": [
            "+---+------------+-------------+---------+-------+-------+-------+----+---------+----+-----+--------+--------+-----+--------+--------+------------------------+--------------------+--------------------+---------+-------------------+---------------+-------------+-------------+----------+-------------+-----------+--------------+---------------+-----------------+-------------+-------------+-------------+---------------+-------------+--------------+-------------+--------------------+--------------------+-----+--------------------+--------------------+----------+\n",
            "|age|         job|maritalStatus|education|default|balance|housing|loan|  contact|date|month|duration|campaign|pdays|previous|poutcome|opened_new_td_act_yes_no|    num_features_all| scaled_num_features|job_index|maritalStatus_index|education_index|default_index|housing_index|date_index|contact_index|month_index|poutcome_index|        job_vec|maritalStatus_vec|education_vec|  default_vec|  housing_vec|       date_vec|  contact_vec|     month_vec| poutcome_vec|        cat_features|            features|label|       rawPrediction|         probability|prediction|\n",
            "+---+------------+-------------+---------+-------+-------+-------+----+---------+----+-----+--------+--------+-----+--------+--------+------------------------+--------------------+--------------------+---------+-------------------+---------------+-------------+-------------+----------+-------------+-----------+--------------+---------------+-----------------+-------------+-------------+-------------+---------------+-------------+--------------+-------------+--------------------+--------------------+-----+--------------------+--------------------+----------+\n",
            "| 19|     student|       single|  primary|     no|  103.0|     no|  no| cellular|  10|  jul|   104.0|     2.0| -1.0|     0.0| unknown|                     yes|[19.0,103.0,104.0...|[0.0,0.0732852590...|     10.0|                1.0|            2.0|          0.0|          1.0|      28.0|          0.0|        1.0|           0.0|(11,[10],[1.0])|    (2,[1],[1.0])|(3,[2],[1.0])|(1,[0],[1.0])|    (1,[],[])|(30,[28],[1.0])|(2,[0],[1.0])|(11,[1],[1.0])|(3,[0],[1.0])|(64,[10,12,15,16,...|(70,[1,2,5,16,18,...|  1.0|[18.6658792218762...|[0.93329396109381...|       0.0|\n",
            "| 19|     student|       single|  unknown|     no|    0.0|     no|  no| cellular|  11|  feb|   123.0|     3.0| -1.0|     0.0| unknown|                      no|[19.0,0.0,123.0,0...|[0.0,0.0698306221...|     10.0|                1.0|            3.0|          0.0|          1.0|      17.0|          0.0|        6.0|           0.0|(11,[10],[1.0])|    (2,[1],[1.0])|    (3,[],[])|(1,[0],[1.0])|    (1,[],[])|(30,[17],[1.0])|(2,[0],[1.0])|(11,[6],[1.0])|(3,[0],[1.0])|(64,[10,12,16,35,...|(70,[1,2,5,16,18,...|  0.0|[18.3884273870580...|[0.91942136935290...|       0.0|\n",
            "| 20|     student|       single|secondary|     no|  291.0|     no|  no|telephone|  11|  may|   172.0|     5.0|371.0|     5.0| failure|                      no|[20.0,291.0,172.0...|[0.01470588235294...|     10.0|                1.0|            0.0|          0.0|          1.0|      17.0|          2.0|        0.0|           1.0|(11,[10],[1.0])|    (2,[1],[1.0])|(3,[0],[1.0])|(1,[0],[1.0])|    (1,[],[])|(30,[17],[1.0])|    (2,[],[])|(11,[0],[1.0])|(3,[1],[1.0])|(64,[10,12,13,16,...|(70,[0,1,2,3,4,5,...|  0.0|[17.6078517463682...|[0.88039258731841...|       0.0|\n",
            "| 21|    services|       single|secondary|     no|  361.0|     no|  no|telephone|   5|  jun|   329.0|     1.0| 95.0|     1.0|   other|                      no|[21.0,361.0,329.0...|[0.02941176470588...|      4.0|                1.0|            0.0|          0.0|          1.0|       4.0|          2.0|        3.0|           2.0| (11,[4],[1.0])|    (2,[1],[1.0])|(3,[0],[1.0])|(1,[0],[1.0])|    (1,[],[])| (30,[4],[1.0])|    (2,[],[])|(11,[3],[1.0])|(3,[2],[1.0])|(64,[4,12,13,16,2...|(70,[0,1,2,3,4,10...|  0.0|[15.1901384404907...|[0.75950692202453...|       0.0|\n",
            "| 21|     student|       single|secondary|     no|    6.0|     no|  no|  unknown|   9|  may|   622.0|     1.0| -1.0|     0.0| unknown|                      no|[21.0,6.0,622.0,0...|[0.02941176470588...|     10.0|                1.0|            0.0|          0.0|          1.0|      14.0|          1.0|        0.0|           0.0|(11,[10],[1.0])|    (2,[1],[1.0])|(3,[0],[1.0])|(1,[0],[1.0])|    (1,[],[])|(30,[14],[1.0])|(2,[1],[1.0])|(11,[0],[1.0])|(3,[0],[1.0])|(64,[10,12,13,16,...|(70,[0,1,2,16,18,...|  0.0|[17.2005434467513...|[0.86002717233756...|       0.0|\n",
            "| 21|     student|       single|secondary|     no| 2488.0|     no|  no| cellular|  30|  jun|   258.0|     6.0|169.0|     3.0| success|                     yes|[21.0,2488.0,258....|[0.02941176470588...|     10.0|                1.0|            0.0|          0.0|          1.0|      16.0|          0.0|        3.0|           3.0|(11,[10],[1.0])|    (2,[1],[1.0])|(3,[0],[1.0])|(1,[0],[1.0])|    (1,[],[])|(30,[16],[1.0])|(2,[0],[1.0])|(11,[3],[1.0])|    (3,[],[])|(64,[10,12,13,16,...|(70,[0,1,2,3,4,5,...|  1.0|[11.8799215687365...|[0.59399607843682...|       0.0|\n",
            "| 21|     student|       single|secondary|     no| 6844.0|     no|  no| cellular|  14|  aug|   126.0|     3.0|127.0|     7.0|   other|                      no|[21.0,6844.0,126....|[0.02941176470588...|     10.0|                1.0|            0.0|          0.0|          1.0|       5.0|          0.0|        2.0|           2.0|(11,[10],[1.0])|    (2,[1],[1.0])|(3,[0],[1.0])|(1,[0],[1.0])|    (1,[],[])| (30,[5],[1.0])|(2,[0],[1.0])|(11,[2],[1.0])|(3,[2],[1.0])|(64,[10,12,13,16,...|(70,[0,1,2,3,4,5,...|  0.0|[16.5976775794113...|[0.82988387897056...|       0.0|\n",
            "| 21|     student|       single|  unknown|     no|  137.0|    yes|  no|  unknown|  12|  may|   198.0|     3.0| -1.0|     0.0| unknown|                      no|[21.0,137.0,198.0...|[0.02941176470588...|     10.0|                1.0|            3.0|          0.0|          0.0|      18.0|          1.0|        0.0|           0.0|(11,[10],[1.0])|    (2,[1],[1.0])|    (3,[],[])|(1,[0],[1.0])|(1,[0],[1.0])|(30,[18],[1.0])|(2,[1],[1.0])|(11,[0],[1.0])|(3,[0],[1.0])|(64,[10,12,16,17,...|(70,[0,1,2,5,16,1...|  0.0|[19.0831633708439...|[0.95415816854219...|       0.0|\n",
            "| 22|      admin.|       single|secondary|     no| 4111.0|     no| yes| cellular|  19|  aug|    65.0|     1.0| -1.0|     0.0| unknown|                      no|[22.0,4111.0,65.0...|[0.04411764705882...|      3.0|                1.0|            0.0|          0.0|          1.0|       2.0|          0.0|        2.0|           0.0| (11,[3],[1.0])|    (2,[1],[1.0])|(3,[0],[1.0])|(1,[0],[1.0])|    (1,[],[])| (30,[2],[1.0])|(2,[0],[1.0])|(11,[2],[1.0])|(3,[0],[1.0])|(64,[3,12,13,16,2...|(70,[0,1,2,9,18,1...|  0.0|[18.1805925636270...|[0.90902962818135...|       0.0|\n",
            "| 22|     student|       single|  primary|     no| 3472.0|     no|  no| cellular|  20|  oct|   332.0|     1.0|183.0|     3.0| failure|                     yes|[22.0,3472.0,332....|[0.04411764705882...|     10.0|                1.0|            2.0|          0.0|          1.0|       0.0|          0.0|        8.0|           1.0|(11,[10],[1.0])|    (2,[1],[1.0])|(3,[2],[1.0])|(1,[0],[1.0])|    (1,[],[])| (30,[0],[1.0])|(2,[0],[1.0])|(11,[8],[1.0])|(3,[1],[1.0])|(64,[10,12,15,16,...|(70,[0,1,2,3,4,16...|  1.0|[12.5916773493149...|[0.62958386746574...|       0.0|\n",
            "| 22|     student|       single|secondary|     no| 2488.0|     no|  no| cellular|   8|  nov|   449.0|     2.0| 38.0|    10.0|   other|                     yes|[22.0,2488.0,449....|[0.04411764705882...|     10.0|                1.0|            0.0|          0.0|          1.0|      12.0|          0.0|        4.0|           2.0|(11,[10],[1.0])|    (2,[1],[1.0])|(3,[0],[1.0])|(1,[0],[1.0])|    (1,[],[])|(30,[12],[1.0])|(2,[0],[1.0])|(11,[4],[1.0])|(3,[2],[1.0])|(64,[10,12,13,16,...|(70,[0,1,2,3,4,5,...|  1.0|[13.1006529096349...|[0.65503264548174...|       0.0|\n",
            "| 22|     student|       single| tertiary|     no|  691.0|     no|  no| cellular|  19|  aug|   338.0|     1.0| -1.0|     0.0| unknown|                     yes|[22.0,691.0,338.0...|[0.04411764705882...|     10.0|                1.0|            1.0|          0.0|          1.0|       2.0|          0.0|        2.0|           0.0|(11,[10],[1.0])|    (2,[1],[1.0])|(3,[1],[1.0])|(1,[0],[1.0])|    (1,[],[])| (30,[2],[1.0])|(2,[0],[1.0])|(11,[2],[1.0])|(3,[0],[1.0])|(64,[10,12,14,16,...|(70,[0,1,2,16,18,...|  1.0|[17.2700344852678...|[0.86350172426339...|       0.0|\n",
            "| 22|     student|       single| tertiary|     no| 1161.0|     no| yes| cellular|  16|  jun|   119.0|     1.0| -1.0|     0.0| unknown|                      no|[22.0,1161.0,119....|[0.04411764705882...|     10.0|                1.0|            1.0|          0.0|          1.0|      11.0|          0.0|        3.0|           0.0|(11,[10],[1.0])|    (2,[1],[1.0])|(3,[1],[1.0])|(1,[0],[1.0])|    (1,[],[])|(30,[11],[1.0])|(2,[0],[1.0])|(11,[3],[1.0])|(3,[0],[1.0])|(64,[10,12,14,16,...|(70,[0,1,2,16,18,...|  0.0|[18.3310942361560...|[0.91655471180780...|       0.0|\n",
            "| 22|     student|       single|  unknown|     no|   47.0|     no|  no| cellular|   3|  jul|    69.0|     3.0| -1.0|     0.0| unknown|                      no|[22.0,47.0,69.0,0...|[0.04411764705882...|     10.0|                1.0|            3.0|          0.0|          1.0|      23.0|          0.0|        1.0|           0.0|(11,[10],[1.0])|    (2,[1],[1.0])|    (3,[],[])|(1,[0],[1.0])|    (1,[],[])|(30,[23],[1.0])|(2,[0],[1.0])|(11,[1],[1.0])|(3,[0],[1.0])|(64,[10,12,16,41,...|(70,[0,1,2,5,16,1...|  0.0|[18.5810203998895...|[0.92905101999447...|       0.0|\n",
            "| 23|      admin.|       single|secondary|     no|    5.0|     no|  no|  unknown|  12|  may|   413.0|     1.0| -1.0|     0.0| unknown|                      no|[23.0,5.0,413.0,0...|[0.05882352941176...|      3.0|                1.0|            0.0|          0.0|          1.0|      18.0|          1.0|        0.0|           0.0| (11,[3],[1.0])|    (2,[1],[1.0])|(3,[0],[1.0])|(1,[0],[1.0])|    (1,[],[])|(30,[18],[1.0])|(2,[1],[1.0])|(11,[0],[1.0])|(3,[0],[1.0])|(64,[3,12,13,16,3...|(70,[0,1,2,9,18,1...|  0.0|[18.4825705199545...|[0.92412852599772...|       0.0|\n",
            "| 23|      admin.|       single|secondary|     no|  589.0|    yes|  no| cellular|   6|  may|    62.0|     1.0| -1.0|     0.0| unknown|                      no|[23.0,589.0,62.0,...|[0.05882352941176...|      3.0|                1.0|            0.0|          0.0|          0.0|       9.0|          0.0|        0.0|           0.0| (11,[3],[1.0])|    (2,[1],[1.0])|(3,[0],[1.0])|(1,[0],[1.0])|(1,[0],[1.0])| (30,[9],[1.0])|(2,[0],[1.0])|(11,[0],[1.0])|(3,[0],[1.0])|(64,[3,12,13,16,1...|(70,[0,1,2,9,18,1...|  0.0|[18.9259389754508...|[0.94629694877254...|       0.0|\n",
            "| 23| blue-collar|       single|  primary|     no| 8627.0|    yes|  no|  unknown|   3|  jun|   281.0|     1.0| -1.0|     0.0| unknown|                      no|[23.0,8627.0,281....|[0.05882352941176...|      0.0|                1.0|            2.0|          0.0|          0.0|      23.0|          1.0|        3.0|           0.0| (11,[0],[1.0])|    (2,[1],[1.0])|(3,[2],[1.0])|(1,[0],[1.0])|(1,[0],[1.0])|(30,[23],[1.0])|(2,[1],[1.0])|(11,[3],[1.0])|(3,[0],[1.0])|(64,[0,12,15,16,1...|(70,[0,1,2,6,18,2...|  0.0|[18.6701659395683...|[0.93350829697841...|       0.0|\n",
            "| 23| blue-collar|       single|  unknown|     no|  817.0|    yes|  no| cellular|  18|  may|   123.0|     1.0| -1.0|     0.0| unknown|                      no|[23.0,817.0,123.0...|[0.05882352941176...|      0.0|                1.0|            3.0|          0.0|          0.0|       1.0|          0.0|        0.0|           0.0| (11,[0],[1.0])|    (2,[1],[1.0])|    (3,[],[])|(1,[0],[1.0])|(1,[0],[1.0])| (30,[1],[1.0])|(2,[0],[1.0])|(11,[0],[1.0])|(3,[0],[1.0])|(64,[0,12,16,17,1...|(70,[0,1,2,6,18,2...|  0.0|[18.9679929550983...|[0.94839964775491...|       0.0|\n",
            "| 23|entrepreneur|       single|  primary|     no|    4.0|    yes|  no|  unknown|  13|  may|   395.0|     2.0| -1.0|     0.0| unknown|                     yes|[23.0,4.0,395.0,0...|[0.05882352941176...|      7.0|                1.0|            2.0|          0.0|          0.0|      10.0|          1.0|        0.0|           0.0| (11,[7],[1.0])|    (2,[1],[1.0])|(3,[2],[1.0])|(1,[0],[1.0])|(1,[0],[1.0])|(30,[10],[1.0])|(2,[1],[1.0])|(11,[0],[1.0])|(3,[0],[1.0])|(64,[7,12,15,16,1...|(70,[0,1,2,5,13,1...|  1.0|[18.6649405097143...|[0.93324702548571...|       0.0|\n",
            "| 23|    services|      married|secondary|     no|  -19.0|    yes|  no|  unknown|  20|  jun|    13.0|    10.0| -1.0|     0.0| unknown|                      no|[23.0,-19.0,13.0,...|[0.05882352941176...|      4.0|                0.0|            0.0|          0.0|          0.0|       0.0|          1.0|        3.0|           0.0| (11,[4],[1.0])|    (2,[0],[1.0])|(3,[0],[1.0])|(1,[0],[1.0])|(1,[0],[1.0])| (30,[0],[1.0])|(2,[1],[1.0])|(11,[3],[1.0])|(3,[0],[1.0])|(64,[4,11,13,16,1...|(70,[0,1,2,5,10,1...|  0.0|[18.9550447532856...|[0.94775223766428...|       0.0|\n",
            "+---+------------+-------------+---------+-------+-------+-------+----+---------+----+-----+--------+--------+-----+--------+--------+------------------------+--------------------+--------------------+---------+-------------------+---------------+-------------+-------------+----------+-------------+-----------+--------------+---------------+-----------------+-------------+-------------+-------------+---------------+-------------+--------------+-------------+--------------------+--------------------+-----+--------------------+--------------------+----------+\n",
            "only showing top 20 rows\n",
            "\n"
          ]
        }
      ]
    },
    {
      "cell_type": "code",
      "source": [
        "test_predictions_rf = rdf_pipeline_model.transform(testingData)"
      ],
      "metadata": {
        "id": "-7T1P9oWffJx"
      },
      "execution_count": 74,
      "outputs": []
    },
    {
      "cell_type": "code",
      "source": [
        "test_predictions_rf.select('features').show(truncate=False)"
      ],
      "metadata": {
        "colab": {
          "base_uri": "https://localhost:8080/"
        },
        "id": "OtIrHFm1fnbi",
        "outputId": "5c8eccb9-9487-42ad-9bfe-d6b8fb94935c"
      },
      "execution_count": 75,
      "outputs": [
        {
          "output_type": "stream",
          "name": "stdout",
          "text": [
            "+---------------------------------------------------------------------------------------------------------------------------------------------------------------------+\n",
            "|features                                                                                                                                                             |\n",
            "+---------------------------------------------------------------------------------------------------------------------------------------------------------------------+\n",
            "|(70,[1,2,16,18,19,22,35,54,57,67],[0.07995975180278382,0.06653426017874876,1.0,1.0,1.0,1.0,1.0,1.0,1.0,1.0])                                                         |\n",
            "|(70,[1,2,5,16,18,22,33,54,62,67],[0.10903907429146402,0.1519364448857994,0.3469387755102041,1.0,1.0,1.0,1.0,1.0,1.0,1.0])                                            |\n",
            "|(70,[0,1,2,16,18,19,22,40,54,61,67],[0.014705882352941176,0.08666778467214489,0.08507116848725588,1.0,1.0,1.0,1.0,1.0,1.0,1.0,1.0])                                  |\n",
            "|(70,[0,1,2,16,18,19,22,42,54,62,67],[0.014705882352941176,0.10977695790709374,0.08937437934458789,1.0,1.0,1.0,1.0,1.0,1.0,1.0,1.0])                                  |\n",
            "|(70,[0,1,2,5,10,18,19,22,23,39,55,56,67],[0.029411764705882353,0.1336575549220191,0.034094670638861305,0.02040816326530612,1.0,1.0,1.0,1.0,1.0,1.0,1.0,1.0,1.0])     |\n",
            "|(70,[0,1,2,16,18,19,22,24,55,58,67],[0.029411764705882353,0.09267147409022304,6.620324395895399E-4,1.0,1.0,1.0,1.0,1.0,1.0,1.0,1.0])                                 |\n",
            "|(70,[0,1,2,16,18,19,22,23,42,56,67],[0.044117647058823525,0.07808150259936274,0.006951340615690169,1.0,1.0,1.0,1.0,1.0,1.0,1.0,1.0])                                 |\n",
            "|(70,[0,1,2,16,18,22,45,54,65,67],[0.044117647058823525,0.08824417239644473,0.049652432969215496,1.0,1.0,1.0,1.0,1.0,1.0,1.0])                                        |\n",
            "|(70,[0,1,2,8,18,19,22,42,60,67],[0.044117647058823525,0.08099949689753479,0.04137702747434625,1.0,1.0,1.0,1.0,1.0,1.0,1.0])                                          |\n",
            "|(70,[0,1,2,6,17,21,22,23,35,54,61,67],[0.058823529411764705,0.10867013248364917,0.244620986428335,1.0,1.0,1.0,1.0,1.0,1.0,1.0,1.0,1.0])                              |\n",
            "|(70,[0,1,2,3,4,6,18,21,22,23,37,54,56,68],[0.058823529411764705,0.3591816199899379,0.05461767626613704,0.04,0.42892459826946844,1.0,1.0,1.0,1.0,1.0,1.0,1.0,1.0,1.0])|\n",
            "|(70,[0,1,2,7,18,20,22,23,40,54,61,67],[0.058823529411764705,0.09451618312929733,0.03806686527639854,1.0,1.0,1.0,1.0,1.0,1.0,1.0,1.0,1.0])                            |\n",
            "|(70,[0,1,2,3,4,9,17,19,22,23,33,54,56,68],[0.07352941176470588,0.07985913130974341,0.06785832505792784,0.04,0.3980222496909765,1.0,1.0,1.0,1.0,1.0,1.0,1.0,1.0,1.0]) |\n",
            "|(70,[0,1,2,6,17,19,22,23,45,54,61,67],[0.07352941176470588,0.06245178601375146,0.028467394902350215,1.0,1.0,1.0,1.0,1.0,1.0,1.0,1.0,1.0])                            |\n",
            "|(70,[0,1,2,5,7,18,20,22,47,54,57,67],[0.07352941176470588,0.07559953043769914,0.020854021847070508,0.02040816326530612,1.0,1.0,1.0,1.0,1.0,1.0,1.0,1.0])             |\n",
            "|(70,[0,1,2,10,17,19,23,48,55,56,67],[0.07352941176470588,0.07352004024819721,0.007613373055279709,1.0,1.0,1.0,1.0,1.0,1.0,1.0,1.0])                                  |\n",
            "|(70,[0,1,2,10,17,20,22,23,44,55,56,67],[0.07352941176470588,0.06983062217004862,0.09764978483945713,1.0,1.0,1.0,1.0,1.0,1.0,1.0,1.0,1.0])                            |\n",
            "|(70,[0,1,2,3,4,16,18,19,22,44,54,64,68],[0.07352941176470588,0.09740063726312258,0.05958291956305859,0.08,0.11372064276885042,1.0,1.0,1.0,1.0,1.0,1.0,1.0,1.0])      |\n",
            "|(70,[0,1,2,16,18,22,23,32,55,56,67],[0.07352941176470588,0.18044608418581248,0.0738166170142337,1.0,1.0,1.0,1.0,1.0,1.0,1.0,1.0])                                    |\n",
            "|(70,[0,1,2,8,18,19,22,23,26,55,56,67],[0.07352941176470588,0.06828777461009558,0.006289308176100629,1.0,1.0,1.0,1.0,1.0,1.0,1.0,1.0,1.0])                            |\n",
            "+---------------------------------------------------------------------------------------------------------------------------------------------------------------------+\n",
            "only showing top 20 rows\n",
            "\n"
          ]
        }
      ]
    },
    {
      "cell_type": "code",
      "source": [
        "test_predictions_rf.show()"
      ],
      "metadata": {
        "colab": {
          "base_uri": "https://localhost:8080/"
        },
        "id": "4UivHrQXfq5v",
        "outputId": "566c84f0-ce52-429b-9e33-3da832a763c1"
      },
      "execution_count": 77,
      "outputs": [
        {
          "output_type": "stream",
          "name": "stdout",
          "text": [
            "+---+-----------+-------------+---------+-------+-------+-------+----+---------+----+-----+--------+--------+-----+--------+--------+------------------------+--------------------+--------------------+---------+-------------------+---------------+-------------+-------------+----------+-------------+-----------+--------------+---------------+-----------------+-------------+-------------+-------------+---------------+-------------+--------------+-------------+--------------------+--------------------+-----+--------------------+--------------------+----------+\n",
            "|age|        job|maritalStatus|education|default|balance|housing|loan|  contact|date|month|duration|campaign|pdays|previous|poutcome|opened_new_td_act_yes_no|    num_features_all| scaled_num_features|job_index|maritalStatus_index|education_index|default_index|housing_index|date_index|contact_index|month_index|poutcome_index|        job_vec|maritalStatus_vec|education_vec|  default_vec|  housing_vec|       date_vec|  contact_vec|     month_vec| poutcome_vec|        cat_features|            features|label|       rawPrediction|         probability|prediction|\n",
            "+---+-----------+-------------+---------+-------+-------+-------+----+---------+----+-----+--------+--------+-----+--------+--------+------------------------+--------------------+--------------------+---------+-------------------+---------------+-------------+-------------+----------+-------------+-----------+--------------+---------------+-----------------+-------------+-------------+-------------+---------------+-------------+--------------+-------------+--------------------+--------------------+-----+--------------------+--------------------+----------+\n",
            "| 19|    student|       single|secondary|     no|  302.0|     no|  no| cellular|  16|  jul|   205.0|     1.0| -1.0|     0.0| unknown|                     yes|[19.0,302.0,205.0...|(6,[1,2],[0.07995...|     10.0|                1.0|            0.0|          0.0|          1.0|      11.0|          0.0|        1.0|           0.0|(11,[10],[1.0])|    (2,[1],[1.0])|(3,[0],[1.0])|(1,[0],[1.0])|    (1,[],[])|(30,[11],[1.0])|(2,[0],[1.0])|(11,[1],[1.0])|(3,[0],[1.0])|(64,[10,12,13,16,...|(70,[1,2,16,18,19...|  1.0|[18.5363954171949...|[0.92681977085974...|       0.0|\n",
            "| 19|    student|       single|  unknown|     no| 1169.0|     no|  no| cellular|   6|  feb|   463.0|    18.0| -1.0|     0.0| unknown|                      no|[19.0,1169.0,463....|[0.0,0.1090390742...|     10.0|                1.0|            3.0|          0.0|          1.0|       9.0|          0.0|        6.0|           0.0|(11,[10],[1.0])|    (2,[1],[1.0])|    (3,[],[])|(1,[0],[1.0])|    (1,[],[])| (30,[9],[1.0])|(2,[0],[1.0])|(11,[6],[1.0])|(3,[0],[1.0])|(64,[10,12,16,27,...|(70,[1,2,5,16,18,...|  0.0|[15.9225350232357...|[0.79612675116178...|       0.0|\n",
            "| 20|    student|       single|secondary|     no|  502.0|     no|  no| cellular|  30|  apr|   261.0|     1.0| -1.0|     0.0| unknown|                     yes|[20.0,502.0,261.0...|[0.01470588235294...|     10.0|                1.0|            0.0|          0.0|          1.0|      16.0|          0.0|        5.0|           0.0|(11,[10],[1.0])|    (2,[1],[1.0])|(3,[0],[1.0])|(1,[0],[1.0])|    (1,[],[])|(30,[16],[1.0])|(2,[0],[1.0])|(11,[5],[1.0])|(3,[0],[1.0])|(64,[10,12,13,16,...|(70,[0,1,2,16,18,...|  1.0|[17.0427740784847...|[0.85213870392423...|       0.0|\n",
            "| 20|    student|       single|secondary|     no| 1191.0|     no|  no| cellular|  12|  feb|   274.0|     1.0| -1.0|     0.0| unknown|                      no|[20.0,1191.0,274....|[0.01470588235294...|     10.0|                1.0|            0.0|          0.0|          1.0|      18.0|          0.0|        6.0|           0.0|(11,[10],[1.0])|    (2,[1],[1.0])|(3,[0],[1.0])|(1,[0],[1.0])|    (1,[],[])|(30,[18],[1.0])|(2,[0],[1.0])|(11,[6],[1.0])|(3,[0],[1.0])|(64,[10,12,13,16,...|(70,[0,1,2,16,18,...|  0.0|[17.5581359152471...|[0.87790679576235...|       0.0|\n",
            "| 21|   services|       single|secondary|     no| 1903.0|    yes|  no|  unknown|  29|  may|   107.0|     2.0| -1.0|     0.0| unknown|                      no|[21.0,1903.0,107....|[0.02941176470588...|      4.0|                1.0|            0.0|          0.0|          0.0|      15.0|          1.0|        0.0|           0.0| (11,[4],[1.0])|    (2,[1],[1.0])|(3,[0],[1.0])|(1,[0],[1.0])|(1,[0],[1.0])|(30,[15],[1.0])|(2,[1],[1.0])|(11,[0],[1.0])|(3,[0],[1.0])|(64,[4,12,13,16,1...|(70,[0,1,2,5,10,1...|  0.0|[19.0405289146010...|[0.95202644573005...|       0.0|\n",
            "| 21|    student|       single|secondary|     no|  681.0|     no|  no|  unknown|  20|  aug|     6.0|     1.0| -1.0|     0.0| unknown|                      no|[21.0,681.0,6.0,0...|[0.02941176470588...|     10.0|                1.0|            0.0|          0.0|          1.0|       0.0|          1.0|        2.0|           0.0|(11,[10],[1.0])|    (2,[1],[1.0])|(3,[0],[1.0])|(1,[0],[1.0])|    (1,[],[])| (30,[0],[1.0])|(2,[1],[1.0])|(11,[2],[1.0])|(3,[0],[1.0])|(64,[10,12,13,16,...|(70,[0,1,2,16,18,...|  0.0|[18.7852421704569...|[0.93926210852284...|       0.0|\n",
            "| 22|    student|       single|secondary|     no|  246.0|    yes|  no|telephone|  12|  may|    25.0|     1.0| -1.0|     0.0| unknown|                      no|[22.0,246.0,25.0,...|[0.04411764705882...|     10.0|                1.0|            0.0|          0.0|          0.0|      18.0|          2.0|        0.0|           0.0|(11,[10],[1.0])|    (2,[1],[1.0])|(3,[0],[1.0])|(1,[0],[1.0])|(1,[0],[1.0])|(30,[18],[1.0])|    (2,[],[])|(11,[0],[1.0])|(3,[0],[1.0])|(64,[10,12,13,16,...|(70,[0,1,2,16,18,...|  0.0|[18.9125357417086...|[0.94562678708543...|       0.0|\n",
            "| 22|    student|       single|  unknown|     no|  549.0|     no|  no| cellular|   2|  sep|   154.0|     1.0| -1.0|     0.0| unknown|                      no|[22.0,549.0,154.0...|[0.04411764705882...|     10.0|                1.0|            3.0|          0.0|          1.0|      21.0|          0.0|        9.0|           0.0|(11,[10],[1.0])|    (2,[1],[1.0])|    (3,[],[])|(1,[0],[1.0])|    (1,[],[])|(30,[21],[1.0])|(2,[0],[1.0])|(11,[9],[1.0])|(3,[0],[1.0])|(64,[10,12,16,39,...|(70,[0,1,2,16,18,...|  0.0|[18.5186009982915...|[0.92593004991457...|       0.0|\n",
            "| 22| technician|       single|secondary|     no|  333.0|     no| yes|telephone|  12|  nov|   129.0|     1.0| -1.0|     0.0| unknown|                      no|[22.0,333.0,129.0...|[0.04411764705882...|      2.0|                1.0|            0.0|          0.0|          1.0|      18.0|          2.0|        4.0|           0.0| (11,[2],[1.0])|    (2,[1],[1.0])|(3,[0],[1.0])|(1,[0],[1.0])|    (1,[],[])|(30,[18],[1.0])|    (2,[],[])|(11,[4],[1.0])|(3,[0],[1.0])|(64,[2,12,13,16,3...|(70,[0,1,2,8,18,1...|  0.0|[18.5051977645492...|[0.92525988822746...|       0.0|\n",
            "| 23|blue-collar|      married|  primary|     no| 1158.0|    yes|  no| cellular|  16|  apr|   743.0|     1.0| -1.0|     0.0| unknown|                      no|[23.0,1158.0,743....|[0.05882352941176...|      0.0|                0.0|            2.0|          0.0|          0.0|      11.0|          0.0|        5.0|           0.0| (11,[0],[1.0])|    (2,[0],[1.0])|(3,[2],[1.0])|(1,[0],[1.0])|(1,[0],[1.0])|(30,[11],[1.0])|(2,[0],[1.0])|(11,[5],[1.0])|(3,[0],[1.0])|(64,[0,11,15,16,1...|(70,[0,1,2,6,17,2...|  0.0|[14.6230092610231...|[0.73115046305115...|       0.0|\n",
            "| 23|blue-collar|       single|  primary|     no| 8627.0|    yes|  no| cellular|  15|  may|   169.0|     1.0|346.0|     1.0| failure|                      no|[23.0,8627.0,169....|[0.05882352941176...|      0.0|                1.0|            2.0|          0.0|          0.0|      13.0|          0.0|        0.0|           1.0| (11,[0],[1.0])|    (2,[1],[1.0])|(3,[2],[1.0])|(1,[0],[1.0])|(1,[0],[1.0])|(30,[13],[1.0])|(2,[0],[1.0])|(11,[0],[1.0])|(3,[1],[1.0])|(64,[0,12,15,16,1...|(70,[0,1,2,3,4,6,...|  0.0|[18.4592624522017...|[0.92296312261008...|       0.0|\n",
            "| 23| management|       single| tertiary|     no|  736.0|    yes|  no| cellular|  30|  apr|   119.0|     1.0| -1.0|     0.0| unknown|                      no|[23.0,736.0,119.0...|[0.05882352941176...|      1.0|                1.0|            1.0|          0.0|          0.0|      16.0|          0.0|        5.0|           0.0| (11,[1],[1.0])|    (2,[1],[1.0])|(3,[1],[1.0])|(1,[0],[1.0])|(1,[0],[1.0])|(30,[16],[1.0])|(2,[0],[1.0])|(11,[5],[1.0])|(3,[0],[1.0])|(64,[1,12,14,16,1...|(70,[0,1,2,7,18,2...|  0.0|[18.4230071786907...|[0.92115035893453...|       0.0|\n",
            "| 24|     admin.|      married|secondary|     no|  299.0|    yes|  no| cellular|   6|  may|   209.0|     1.0|321.0|     1.0| failure|                      no|[24.0,299.0,209.0...|[0.07352941176470...|      3.0|                0.0|            0.0|          0.0|          0.0|       9.0|          0.0|        0.0|           1.0| (11,[3],[1.0])|    (2,[0],[1.0])|(3,[0],[1.0])|(1,[0],[1.0])|(1,[0],[1.0])| (30,[9],[1.0])|(2,[0],[1.0])|(11,[0],[1.0])|(3,[1],[1.0])|(64,[3,11,13,16,1...|(70,[0,1,2,3,4,9,...|  0.0|[18.6398517994185...|[0.93199258997092...|       0.0|\n",
            "| 24|blue-collar|      married|secondary|     no| -220.0|    yes|  no| cellular|   2|  apr|    90.0|     1.0| -1.0|     0.0| unknown|                      no|[24.0,-220.0,90.0...|[0.07352941176470...|      0.0|                0.0|            0.0|          0.0|          0.0|      21.0|          0.0|        5.0|           0.0| (11,[0],[1.0])|    (2,[0],[1.0])|(3,[0],[1.0])|(1,[0],[1.0])|(1,[0],[1.0])|(30,[21],[1.0])|(2,[0],[1.0])|(11,[5],[1.0])|(3,[0],[1.0])|(64,[0,11,13,16,1...|(70,[0,1,2,6,17,1...|  0.0|[18.4267878114411...|[0.92133939057205...|       0.0|\n",
            "| 24| management|       single| tertiary|     no|  172.0|     no|  no| cellular|   3|  jul|    67.0|     2.0| -1.0|     0.0| unknown|                      no|[24.0,172.0,67.0,...|[0.07352941176470...|      1.0|                1.0|            1.0|          0.0|          1.0|      23.0|          0.0|        1.0|           0.0| (11,[1],[1.0])|    (2,[1],[1.0])|(3,[1],[1.0])|(1,[0],[1.0])|    (1,[],[])|(30,[23],[1.0])|(2,[0],[1.0])|(11,[1],[1.0])|(3,[0],[1.0])|(64,[1,12,14,16,4...|(70,[0,1,2,5,7,18...|  0.0|[18.6181521446098...|[0.93090760723049...|       0.0|\n",
            "| 24|   services|      married|secondary|    yes|  110.0|    yes|  no|  unknown|  23|  may|    27.0|     1.0| -1.0|     0.0| unknown|                      no|[24.0,110.0,27.0,...|[0.07352941176470...|      4.0|                0.0|            0.0|          1.0|          0.0|      24.0|          1.0|        0.0|           0.0| (11,[4],[1.0])|    (2,[0],[1.0])|(3,[0],[1.0])|    (1,[],[])|(1,[0],[1.0])|(30,[24],[1.0])|(2,[1],[1.0])|(11,[0],[1.0])|(3,[0],[1.0])|(64,[4,11,13,17,4...|(70,[0,1,2,10,17,...|  0.0|[19.0323475470112...|[0.95161737735055...|       0.0|\n",
            "| 24|   services|      married| tertiary|     no|    0.0|    yes|  no|  unknown|  27|  may|   299.0|     1.0| -1.0|     0.0| unknown|                      no|[24.0,0.0,299.0,0...|[0.07352941176470...|      4.0|                0.0|            1.0|          0.0|          0.0|      20.0|          1.0|        0.0|           0.0| (11,[4],[1.0])|    (2,[0],[1.0])|(3,[1],[1.0])|(1,[0],[1.0])|(1,[0],[1.0])|(30,[20],[1.0])|(2,[1],[1.0])|(11,[0],[1.0])|(3,[0],[1.0])|(64,[4,11,14,16,1...|(70,[0,1,2,10,17,...|  0.0|[18.6029021225483...|[0.93014510612741...|       0.0|\n",
            "| 24|    student|       single|secondary|     no|  822.0|     no|  no| cellular|  27|  oct|   184.0|     1.0| 91.0|     2.0| failure|                     yes|[24.0,822.0,184.0...|[0.07352941176470...|     10.0|                1.0|            0.0|          0.0|          1.0|      20.0|          0.0|        8.0|           1.0|(11,[10],[1.0])|    (2,[1],[1.0])|(3,[0],[1.0])|(1,[0],[1.0])|    (1,[],[])|(30,[20],[1.0])|(2,[0],[1.0])|(11,[8],[1.0])|(3,[1],[1.0])|(64,[10,12,13,16,...|(70,[0,1,2,3,4,16...|  1.0|[15.0230892035363...|[0.75115446017681...|       0.0|\n",
            "| 24|    student|       single|  unknown|     no| 3298.0|    yes|  no|  unknown|  28|  may|   227.0|     1.0| -1.0|     0.0| unknown|                      no|[24.0,3298.0,227....|[0.07352941176470...|     10.0|                1.0|            3.0|          0.0|          0.0|       8.0|          1.0|        0.0|           0.0|(11,[10],[1.0])|    (2,[1],[1.0])|    (3,[],[])|(1,[0],[1.0])|(1,[0],[1.0])| (30,[8],[1.0])|(2,[1],[1.0])|(11,[0],[1.0])|(3,[0],[1.0])|(64,[10,12,16,17,...|(70,[0,1,2,16,18,...|  0.0|[18.7732366677116...|[0.93866183338558...|       0.0|\n",
            "| 24| technician|       single|secondary|     no|  -46.0|    yes|  no|  unknown|  19|  may|    23.0|     1.0| -1.0|     0.0| unknown|                      no|[24.0,-46.0,23.0,...|[0.07352941176470...|      2.0|                1.0|            0.0|          0.0|          0.0|       2.0|          1.0|        0.0|           0.0| (11,[2],[1.0])|    (2,[1],[1.0])|(3,[0],[1.0])|(1,[0],[1.0])|(1,[0],[1.0])| (30,[2],[1.0])|(2,[1],[1.0])|(11,[0],[1.0])|(3,[0],[1.0])|(64,[2,12,13,16,1...|(70,[0,1,2,8,18,1...|  0.0|[19.0323475470112...|[0.95161737735055...|       0.0|\n",
            "+---+-----------+-------------+---------+-------+-------+-------+----+---------+----+-----+--------+--------+-----+--------+--------+------------------------+--------------------+--------------------+---------+-------------------+---------------+-------------+-------------+----------+-------------+-----------+--------------+---------------+-----------------+-------------+-------------+-------------+---------------+-------------+--------------+-------------+--------------------+--------------------+-----+--------------------+--------------------+----------+\n",
            "only showing top 20 rows\n",
            "\n"
          ]
        }
      ]
    },
    {
      "cell_type": "code",
      "source": [
        "from pyspark.ml.evaluation import MulticlassClassificationEvaluator\n",
        "predictionAndLabels_train_rdf = train_predictions_rdf.select(\"prediction\",\"label\")\n",
        "evaluator = MulticlassClassificationEvaluator(metricName=\"accuracy\")\n",
        "train_accuracy_rdf = evaluator.evaluate(predictionAndLabels_train_rdf)\n",
        "print(\"Training Set Accuracy = \",train_accuracy_rdf)\n",
        "print(\"Training error \", 1-train_accuracy_rdf)"
      ],
      "metadata": {
        "colab": {
          "base_uri": "https://localhost:8080/"
        },
        "id": "6IOBl4HifuYc",
        "outputId": "d460d756-0fbb-46f3-a1dd-dca37aae8dfb"
      },
      "execution_count": 79,
      "outputs": [
        {
          "output_type": "stream",
          "name": "stdout",
          "text": [
            "Training Set Accuracy =  0.8837733419188667\n",
            "Training error  0.1162266580811333\n"
          ]
        }
      ]
    },
    {
      "cell_type": "code",
      "source": [
        "from pyspark.ml.evaluation import MulticlassClassificationEvaluator\n",
        "predictionAndLabels_test_rdf = test_predictions_rf.select(\"prediction\",\"label\")\n",
        "evaluator = MulticlassClassificationEvaluator(metricName=\"accuracy\")\n",
        "test_accuracy_rdf = evaluator.evaluate(predictionAndLabels_test_rdf)\n",
        "print(\"Training Set Accuracy = \",test_accuracy_rdf)\n",
        "print(\"Training error \", 1-test_accuracy_rdf)"
      ],
      "metadata": {
        "colab": {
          "base_uri": "https://localhost:8080/"
        },
        "id": "NlvDsxGtf60o",
        "outputId": "039948f6-e7c9-4283-bdc2-ee1607d6e3ae"
      },
      "execution_count": 81,
      "outputs": [
        {
          "output_type": "stream",
          "name": "stdout",
          "text": [
            "Training Set Accuracy =  0.8882602545968883\n",
            "Training error  0.11173974540311171\n"
          ]
        }
      ]
    },
    {
      "cell_type": "code",
      "source": [
        "train_pred_pandas = predictionAndLabels_train_rdf.toPandas()\n",
        "train_actuals = train_pred_pandas.label.tolist()\n",
        "train_predictions = train_pred_pandas.prediction.tolist()\n",
        "\n",
        "\n",
        "test_pred_pandas = predictionAndLabels_test_rdf.toPandas()\n",
        "test_actuals = test_pred_pandas.label.tolist()\n",
        "test_predictions = test_pred_pandas.prediction.tolist()\n",
        "from sklearn import metrics as smetrics\n",
        "cm = smetrics.confusion_matrix(train_actuals, train_predictions) "
      ],
      "metadata": {
        "id": "jTe1Sahtgm5p"
      },
      "execution_count": 82,
      "outputs": []
    },
    {
      "cell_type": "code",
      "source": [
        "df_cm = pd.DataFrame(cm)\n",
        "df_cm.index = ['Not Approved', 'Approved']\n",
        "df_cm.columns = ['Not Approved', 'Approved']\n",
        "names=['Not Approved', 'Approved']\n",
        "print(df_cm)\n",
        "fig = plt.figure(figsize = (10,7))\n",
        "sns.set(font_scale=1.4)#for label size\n",
        "sns.heatmap(df_cm, annot=True,fmt=\"d\",annot_kws={\"size\": 20})"
      ],
      "metadata": {
        "colab": {
          "base_uri": "https://localhost:8080/",
          "height": 510
        },
        "id": "1qmEwcRihHuN",
        "outputId": "3bcff192-62e6-4031-8cab-a5c02f0cfe33"
      },
      "execution_count": 83,
      "outputs": [
        {
          "output_type": "stream",
          "name": "stdout",
          "text": [
            "              Not Approved  Approved\n",
            "Not Approved          2743         0\n",
            "Approved               361         2\n"
          ]
        },
        {
          "output_type": "execute_result",
          "data": {
            "text/plain": [
              "<matplotlib.axes._subplots.AxesSubplot at 0x7efc425ea650>"
            ]
          },
          "metadata": {},
          "execution_count": 83
        },
        {
          "output_type": "display_data",
          "data": {
            "text/plain": [
              "<Figure size 720x504 with 2 Axes>"
            ],
            "image/png": "[encoded data removed]"
          },
          "metadata": {}
        }
      ]
    },
    {
      "cell_type": "code",
      "source": [
        "#im conducting visualization by converting toPandas, why im doing like that means i dont know about CHART STUDIO, so thats why im choosing this way"
      ],
      "metadata": {
        "id": "6VqZ4B0btKUk"
      },
      "execution_count": 84,
      "outputs": []
    },
    {
      "cell_type": "code",
      "source": [],
      "metadata": {
        "id": "PwbfqmYctlEJ"
      },
      "execution_count": null,
      "outputs": []
    }
  ]
}
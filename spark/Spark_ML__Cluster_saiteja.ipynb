{
  "cells": [
    {
      "cell_type": "markdown",
      "metadata": {
        "id": "40vOkfK9z8MA"
      },
      "source": [
        "# Clustering Consulting Project \n",
        "\n",
        "A large technology firm needs your help, they've been hacked! Luckily their forensic engineers have grabbed valuable data about the hacks, including information like session time,locations, wpm typing speed, etc. The forensic engineer relates to you what she has been able to figure out so far, she has been able to grab meta data of each session that the hackers used to connect to their servers. These are the features of the data:\n",
        "\n",
        "* 'Session_Connection_Time': How long the session lasted in minutes\n",
        "* 'Bytes Transferred': Number of MB transferred during session\n",
        "* 'Kali_Trace_Used': Indicates if the hacker was using Kali Linux\n",
        "* 'Servers_Corrupted': Number of server corrupted during the attack\n",
        "* 'Pages_Corrupted': Number of pages illegally accessed\n",
        "* 'Location': Location attack came from (Probably useless because the hackers used VPNs)\n",
        "* 'WPM_Typing_Speed': Their estimated typing speed based on session logs.\n",
        "\n",
        "\n",
        "The technology firm has 3 potential hackers that perpetrated the attack. Their certain of the first two hackers but they aren't very sure if the third hacker was involved or not. They have requested your help! Can you help figure out whether or not the third suspect had anything to do with the attacks, or was it just two hackers? It's probably not possible to know for sure, but maybe what you've just learned about Clustering can help!\n",
        "\n",
        "**One last key fact, the forensic engineer knows that the hackers trade off attacks. Meaning they should each have roughly the same amount of attacks. For example if there were 100 total attacks, then in a 2 hacker situation each should have about 50 hacks, in a three hacker situation each would have about 33 hacks. The engineer believes this is the key element to solving this, but doesn't know how to distinguish this unlabeled data into groups of hackers.**"
      ]
    },
    {
      "cell_type": "code",
      "source": [
        "#Actually in this given problem we can solve using our own PYSPARK code, We are not work using pipelines. We know about pipelines, im already performing pipelines for SUPERVISED problem, PLease ACKNOWLEDGE."
      ],
      "metadata": {
        "id": "8Gz50GZ_xjIv"
      },
      "execution_count": null,
      "outputs": []
    },
    {
      "cell_type": "code",
      "execution_count": null,
      "metadata": {
        "id": "GTVcDYmY5sEX"
      },
      "outputs": [],
      "source": [
        "!apt-get install openjdk-8-jdk-headless -qq > /dev/null\n",
        "!wget -q https://archive.apache.org/dist/spark/spark-3.0.1/spark-3.0.1-bin-hadoop2.7.tgz"
      ]
    },
    {
      "cell_type": "code",
      "execution_count": null,
      "metadata": {
        "id": "EvpCTCzp7BEp"
      },
      "outputs": [],
      "source": [
        "!tar xf spark-3.0.1-bin-hadoop2.7.tgz\n",
        "!pip install -q findspark"
      ]
    },
    {
      "cell_type": "code",
      "execution_count": null,
      "metadata": {
        "id": "BTkxe7Qo7H3i"
      },
      "outputs": [],
      "source": [
        "import os \n",
        "os.environ[\"JAVA_HOME\"] = \"/usr/lib/jvm/java-8-openjdk-amd64\"\n",
        "os.environ[\"SPARK_HOME\"] = \"/content//spark-3.0.1-bin-hadoop2.7\""
      ]
    },
    {
      "cell_type": "code",
      "execution_count": null,
      "metadata": {
        "id": "xQtwI1ao7KFX"
      },
      "outputs": [],
      "source": [
        "import findspark\n",
        "findspark.init()"
      ]
    },
    {
      "cell_type": "code",
      "execution_count": null,
      "metadata": {
        "id": "sHGOK-A67M5z"
      },
      "outputs": [],
      "source": [
        "from pyspark.sql.types import *\n",
        "from pyspark.sql.functions import *"
      ]
    },
    {
      "cell_type": "code",
      "execution_count": null,
      "metadata": {
        "id": "ikCI0_w08VPv"
      },
      "outputs": [],
      "source": [
        "import numpy as np\n",
        "import pandas as pd\n",
        "from io import StringIO"
      ]
    },
    {
      "cell_type": "code",
      "execution_count": null,
      "metadata": {
        "colab": {
          "base_uri": "https://localhost:8080/"
        },
        "id": "XXGcXRco8Zbm",
        "outputId": "d6e9740f-c7cd-44b7-b973-594cfbb1e7c2"
      },
      "outputs": [
        {
          "output_type": "stream",
          "name": "stdout",
          "text": [
            "Mounted at /content/drive\n"
          ]
        }
      ],
      "source": [
        "from google.colab import drive\n",
        "drive.mount('/content/drive')"
      ]
    },
    {
      "cell_type": "code",
      "execution_count": null,
      "metadata": {
        "id": "XHkZ5wJw8cKv"
      },
      "outputs": [],
      "source": [
        "import pyspark\n",
        "from pyspark.sql import SparkSession"
      ]
    },
    {
      "cell_type": "code",
      "execution_count": null,
      "metadata": {
        "id": "YFQkpmHb8nmd"
      },
      "outputs": [],
      "source": [
        "spark = SparkSession.builder.appName('Clustering using K-Means').getOrCreate()"
      ]
    },
    {
      "cell_type": "code",
      "execution_count": null,
      "metadata": {
        "id": "COFgXWTB8rW0"
      },
      "outputs": [],
      "source": [
        "df = spark.read.csv(\"/content/drive/My Drive/hack_data.csv\",header=True,inferSchema=True)"
      ]
    },
    {
      "cell_type": "code",
      "execution_count": null,
      "metadata": {
        "colab": {
          "base_uri": "https://localhost:8080/"
        },
        "id": "LkOuzuWe9qVB",
        "outputId": "5acf6f4a-f559-43fd-fb84-2f797bafdc96"
      },
      "outputs": [
        {
          "output_type": "stream",
          "name": "stdout",
          "text": [
            "+-------+-----------------------+------------------+------------------+-----------------+------------------+-----------+------------------+\n",
            "|summary|Session_Connection_Time| Bytes Transferred|   Kali_Trace_Used|Servers_Corrupted|   Pages_Corrupted|   Location|  WPM_Typing_Speed|\n",
            "+-------+-----------------------+------------------+------------------+-----------------+------------------+-----------+------------------+\n",
            "|  count|                    334|               334|               334|              334|               334|        334|               334|\n",
            "|   mean|     30.008982035928145| 607.2452694610777|0.5119760479041916|5.258502994011977|10.838323353293413|       null|57.342395209580864|\n",
            "| stddev|     14.088200614636158|286.33593163576757|0.5006065264451406| 2.30190693339697|  3.06352633036022|       null| 13.41106336843464|\n",
            "|    min|                    1.0|              10.0|                 0|              1.0|               6.0|Afghanistan|              40.0|\n",
            "|    max|                   60.0|            1330.5|                 1|             10.0|              15.0|   Zimbabwe|              75.0|\n",
            "+-------+-----------------------+------------------+------------------+-----------------+------------------+-----------+------------------+\n",
            "\n"
          ]
        }
      ],
      "source": [
        "df.describe().show()"
      ]
    },
    {
      "cell_type": "code",
      "execution_count": null,
      "metadata": {
        "colab": {
          "base_uri": "https://localhost:8080/"
        },
        "id": "a5IqdCz49rdd",
        "outputId": "c1ca1b1d-e385-4a60-ffad-585b9c6d12cf"
      },
      "outputs": [
        {
          "output_type": "execute_result",
          "data": {
            "text/plain": [
              "[('Session_Connection_Time', 'double'),\n",
              " ('Bytes Transferred', 'double'),\n",
              " ('Kali_Trace_Used', 'int'),\n",
              " ('Servers_Corrupted', 'double'),\n",
              " ('Pages_Corrupted', 'double'),\n",
              " ('Location', 'string'),\n",
              " ('WPM_Typing_Speed', 'double')]"
            ]
          },
          "metadata": {},
          "execution_count": 12
        }
      ],
      "source": [
        "df.dtypes"
      ]
    },
    {
      "cell_type": "code",
      "execution_count": null,
      "metadata": {
        "colab": {
          "base_uri": "https://localhost:8080/"
        },
        "id": "YCCusNnT-IG7",
        "outputId": "967a0aa0-7c41-4cd4-c857-3f55e93e8bec"
      },
      "outputs": [
        {
          "output_type": "execute_result",
          "data": {
            "text/plain": [
              "[Row(Session_Connection_Time=8.0, Bytes Transferred=391.09, Kali_Trace_Used=1, Servers_Corrupted=2.96, Pages_Corrupted=7.0, Location='Slovenia', WPM_Typing_Speed=72.37),\n",
              " Row(Session_Connection_Time=20.0, Bytes Transferred=720.99, Kali_Trace_Used=0, Servers_Corrupted=3.04, Pages_Corrupted=9.0, Location='British Virgin Islands', WPM_Typing_Speed=69.08),\n",
              " Row(Session_Connection_Time=31.0, Bytes Transferred=356.32, Kali_Trace_Used=1, Servers_Corrupted=3.71, Pages_Corrupted=8.0, Location='Tokelau', WPM_Typing_Speed=70.58),\n",
              " Row(Session_Connection_Time=2.0, Bytes Transferred=228.08, Kali_Trace_Used=1, Servers_Corrupted=2.48, Pages_Corrupted=8.0, Location='Bolivia', WPM_Typing_Speed=70.8),\n",
              " Row(Session_Connection_Time=20.0, Bytes Transferred=408.5, Kali_Trace_Used=0, Servers_Corrupted=3.57, Pages_Corrupted=8.0, Location='Iraq', WPM_Typing_Speed=71.28),\n",
              " Row(Session_Connection_Time=1.0, Bytes Transferred=390.69, Kali_Trace_Used=1, Servers_Corrupted=2.79, Pages_Corrupted=9.0, Location='Marshall Islands', WPM_Typing_Speed=71.57),\n",
              " Row(Session_Connection_Time=18.0, Bytes Transferred=342.97, Kali_Trace_Used=1, Servers_Corrupted=5.1, Pages_Corrupted=7.0, Location='Georgia', WPM_Typing_Speed=72.32),\n",
              " Row(Session_Connection_Time=22.0, Bytes Transferred=101.61, Kali_Trace_Used=1, Servers_Corrupted=3.03, Pages_Corrupted=7.0, Location='Timor-Leste', WPM_Typing_Speed=72.03),\n",
              " Row(Session_Connection_Time=15.0, Bytes Transferred=275.53, Kali_Trace_Used=1, Servers_Corrupted=3.53, Pages_Corrupted=8.0, Location='Palestinian Territory', WPM_Typing_Speed=70.17),\n",
              " Row(Session_Connection_Time=12.0, Bytes Transferred=424.83, Kali_Trace_Used=1, Servers_Corrupted=2.53, Pages_Corrupted=8.0, Location='Bangladesh', WPM_Typing_Speed=69.99)]"
            ]
          },
          "metadata": {},
          "execution_count": 13
        }
      ],
      "source": [
        "df.head(10)"
      ]
    },
    {
      "cell_type": "code",
      "execution_count": null,
      "metadata": {
        "colab": {
          "base_uri": "https://localhost:8080/"
        },
        "id": "mH_zEaoW-M4I",
        "outputId": "a310e661-987b-4552-941e-03d92d977011"
      },
      "outputs": [
        {
          "output_type": "execute_result",
          "data": {
            "text/plain": [
              "['Session_Connection_Time',\n",
              " 'Bytes Transferred',\n",
              " 'Kali_Trace_Used',\n",
              " 'Servers_Corrupted',\n",
              " 'Pages_Corrupted',\n",
              " 'Location',\n",
              " 'WPM_Typing_Speed']"
            ]
          },
          "metadata": {},
          "execution_count": 14
        }
      ],
      "source": [
        "df.columns"
      ]
    },
    {
      "cell_type": "code",
      "execution_count": null,
      "metadata": {
        "id": "laqJakiYHPCv"
      },
      "outputs": [],
      "source": [
        "df = df.drop('Location')"
      ]
    },
    {
      "cell_type": "code",
      "execution_count": null,
      "metadata": {
        "id": "TU4tQiqO_KxU"
      },
      "outputs": [],
      "source": [
        "cat_var_names = ['Kali_Trace_Used']\n",
        "num_var_names = ['Session_Connection_Time', 'Bytes Transferred', 'Servers_Corrupted', 'Pages_Corrupted', 'WPM_Typing_Speed']"
      ]
    },
    {
      "cell_type": "code",
      "execution_count": null,
      "metadata": {
        "id": "IUlxCYv0-f9l"
      },
      "outputs": [],
      "source": [
        "from pyspark.ml.feature import VectorAssembler\n",
        "vector_assembler_numVars = VectorAssembler(inputCols=df.columns , outputCol=\"num_features_all\")"
      ]
    },
    {
      "cell_type": "code",
      "execution_count": null,
      "metadata": {
        "id": "kYh2BuObGgUy"
      },
      "outputs": [],
      "source": [
        "final_vector_assembler_numVars = vector_assembler_numVars.transform(df)"
      ]
    },
    {
      "cell_type": "code",
      "execution_count": null,
      "metadata": {
        "colab": {
          "base_uri": "https://localhost:8080/"
        },
        "id": "vC2WklPOHopw",
        "outputId": "4fd7994f-a0b0-4f7f-946b-30bb63605929"
      },
      "outputs": [
        {
          "output_type": "stream",
          "name": "stdout",
          "text": [
            "+-----------------------+-----------------+---------------+-----------------+---------------+----------------+--------------------+\n",
            "|Session_Connection_Time|Bytes Transferred|Kali_Trace_Used|Servers_Corrupted|Pages_Corrupted|WPM_Typing_Speed|    num_features_all|\n",
            "+-----------------------+-----------------+---------------+-----------------+---------------+----------------+--------------------+\n",
            "|                    8.0|           391.09|              1|             2.96|            7.0|           72.37|[8.0,391.09,1.0,2...|\n",
            "|                   20.0|           720.99|              0|             3.04|            9.0|           69.08|[20.0,720.99,0.0,...|\n",
            "|                   31.0|           356.32|              1|             3.71|            8.0|           70.58|[31.0,356.32,1.0,...|\n",
            "|                    2.0|           228.08|              1|             2.48|            8.0|            70.8|[2.0,228.08,1.0,2...|\n",
            "|                   20.0|            408.5|              0|             3.57|            8.0|           71.28|[20.0,408.5,0.0,3...|\n",
            "+-----------------------+-----------------+---------------+-----------------+---------------+----------------+--------------------+\n",
            "only showing top 5 rows\n",
            "\n"
          ]
        }
      ],
      "source": [
        "final_vector_assembler_numVars.show(5)"
      ]
    },
    {
      "cell_type": "code",
      "execution_count": null,
      "metadata": {
        "id": "SKW-0Eg-_Hwc"
      },
      "outputs": [],
      "source": [
        "from pyspark.ml.feature import MinMaxScaler\n",
        "min_max_Scalar_NumVars = MinMaxScaler(inputCol='num_features_all',outputCol=\"scaled_num_features\")"
      ]
    },
    {
      "cell_type": "code",
      "execution_count": null,
      "metadata": {
        "colab": {
          "base_uri": "https://localhost:8080/"
        },
        "id": "HqByISD4H_Vo",
        "outputId": "978de30d-ecce-4e10-a2ac-163e31e8521c"
      },
      "outputs": [
        {
          "output_type": "stream",
          "name": "stdout",
          "text": [
            "+-----------------------+-----------------+---------------+-----------------+---------------+----------------+--------------------+--------------------+\n",
            "|Session_Connection_Time|Bytes Transferred|Kali_Trace_Used|Servers_Corrupted|Pages_Corrupted|WPM_Typing_Speed|    num_features_all| scaled_num_features|\n",
            "+-----------------------+-----------------+---------------+-----------------+---------------+----------------+--------------------+--------------------+\n",
            "|                    8.0|           391.09|              1|             2.96|            7.0|           72.37|[8.0,391.09,1.0,2...|[0.11864406779661...|\n",
            "|                   20.0|           720.99|              0|             3.04|            9.0|           69.08|[20.0,720.99,0.0,...|[0.32203389830508...|\n",
            "+-----------------------+-----------------+---------------+-----------------+---------------+----------------+--------------------+--------------------+\n",
            "only showing top 2 rows\n",
            "\n"
          ]
        }
      ],
      "source": [
        "data_scale=min_max_Scalar_NumVars.fit(final_vector_assembler_numVars)\n",
        "data_scale_output=data_scale.transform(final_vector_assembler_numVars)\n",
        "data_scale_output.show(2)"
      ]
    },
    {
      "cell_type": "code",
      "execution_count": null,
      "metadata": {
        "id": "VTHuuUfMdVL6"
      },
      "outputs": [],
      "source": [
        "from pyspark.ml.clustering import KMeans\n",
        "kmeans_1 = KMeans(k=3,featuresCol='scaled_num_features')\n",
        "model_1 = kmeans_1.fit(data_scale_output)"
      ]
    },
    {
      "cell_type": "code",
      "execution_count": null,
      "metadata": {
        "colab": {
          "base_uri": "https://localhost:8080/"
        },
        "id": "ptLR3rVGfreQ",
        "outputId": "016688b9-56dd-41cb-b43a-e63b4a0f5445"
      },
      "outputs": [
        {
          "output_type": "stream",
          "name": "stdout",
          "text": [
            "+----------+-----+\n",
            "|prediction|count|\n",
            "+----------+-----+\n",
            "|         1|   79|\n",
            "|         2|   88|\n",
            "|         0|  167|\n",
            "+----------+-----+\n",
            "\n"
          ]
        }
      ],
      "source": [
        "pred_1 = model_1.transform(data_scale_output).groupBy('prediction').count().show()"
      ]
    },
    {
      "cell_type": "code",
      "execution_count": null,
      "metadata": {
        "id": "MMz14SNKgcEH"
      },
      "outputs": [],
      "source": [
        "#in this case three hackers dont have same amount of attacks. So we can say that 3rd hacker has not involve in this firm hack"
      ]
    },
    {
      "cell_type": "code",
      "execution_count": null,
      "metadata": {
        "id": "tKo7zf7bIfWM"
      },
      "outputs": [],
      "source": [
        "kmeans = KMeans(k=2,featuresCol='scaled_num_features')\n",
        "model = kmeans.fit(data_scale_output)"
      ]
    },
    {
      "cell_type": "code",
      "execution_count": null,
      "metadata": {
        "id": "uek_iHgufRl0"
      },
      "outputs": [],
      "source": [
        "#class pyspark.ml.clustering.KMeans(*, featuresCol: str = 'features', predictionCol: str = 'prediction', k: int = 2, initMode: str = 'k-means||', initSteps: int = 2, tol: float = 0.0001, maxIter: int = 20, seed: Optional[int] = None, distanceMeasure: str = 'euclidean', weightCol: Optional[str] = None)[source]\n",
        "#K-means clustering with a k-means++ like initialization mode (the k-means|| algorithm by Bahmani et al).\n",
        "\n",
        "#New in version 1.5.0"
      ]
    },
    {
      "cell_type": "code",
      "execution_count": null,
      "metadata": {
        "colab": {
          "base_uri": "https://localhost:8080/"
        },
        "id": "nQF-UaGPI2lD",
        "outputId": "67d430f8-f945-4b76-8f6b-9de76f27b4e4"
      },
      "outputs": [
        {
          "output_type": "stream",
          "name": "stdout",
          "text": [
            "+----------+-----+\n",
            "|prediction|count|\n",
            "+----------+-----+\n",
            "|         1|  167|\n",
            "|         0|  167|\n",
            "+----------+-----+\n",
            "\n"
          ]
        }
      ],
      "source": [
        "pred_data = model.transform(data_scale_output)\n",
        "pred_data = model.transform(data_scale_output).groupBy('prediction').count().show()"
      ]
    },
    {
      "cell_type": "code",
      "execution_count": null,
      "metadata": {
        "id": "8duB7h6vgL0t"
      },
      "outputs": [],
      "source": [
        "#in this case two hackers  have same amount of attacks. So that we can conclude that only two hackers has been involved in the hacking the large firm."
      ]
    },
    {
      "cell_type": "code",
      "source": [
        "pred_final = pred_data.toPandas()"
      ],
      "metadata": {
        "id": "S1e4TIeYdId0"
      },
      "execution_count": null,
      "outputs": []
    },
    {
      "cell_type": "code",
      "execution_count": null,
      "metadata": {
        "id": "wit-nKuViSzn"
      },
      "outputs": [],
      "source": [
        "pred_final.to_csv(\"./Clustering_Consulting_Project.csv\")"
      ]
    },
    {
      "cell_type": "code",
      "execution_count": null,
      "metadata": {
        "id": "KES2x271iyNh",
        "colab": {
          "base_uri": "https://localhost:8080/",
          "height": 36
        },
        "outputId": "44c778f6-ace1-4309-dcf8-e8aa6bb2b02b"
      },
      "outputs": [
        {
          "output_type": "execute_result",
          "data": {
            "text/plain": [
              "'/content'"
            ],
            "application/vnd.google.colaboratory.intrinsic+json": {
              "type": "string"
            }
          },
          "metadata": {},
          "execution_count": 37
        }
      ],
      "source": [
        "import os\n",
        "os.getcwd()"
      ]
    },
    {
      "cell_type": "code",
      "source": [
        "#for suppose we dont dont know about the clusters but we have condition to find out the how many hackers will involved in equal amount of total attacks, in this case we can do that silhoutte analysis"
      ],
      "metadata": {
        "id": "6ggqFzcCiB2Z"
      },
      "execution_count": null,
      "outputs": []
    },
    {
      "cell_type": "code",
      "source": [
        "from pyspark.ml.evaluation import ClusteringEvaluator\n",
        "silhouette_score=[]\n",
        "evaluator = ClusteringEvaluator(predictionCol='prediction', featuresCol='scaled_num_features', \\\n",
        "                                metricName='silhouette', distanceMeasure='squaredEuclidean')\n",
        "for i in range(2,15):\n",
        "    \n",
        "    KMeans_algo=KMeans(featuresCol='scaled_num_features', k=i)\n",
        "    \n",
        "    KMeans_fit=KMeans_algo.fit(data_scale_output)\n",
        "    \n",
        "    output=KMeans_fit.transform(data_scale_output)\n",
        "    \n",
        "    \n",
        "    \n",
        "    score=evaluator.evaluate(output)\n",
        "    \n",
        "    silhouette_score.append(score)\n",
        "    \n",
        "    print(\"Silhouette Score:\",score, \"for the k:\",i)"
      ],
      "metadata": {
        "colab": {
          "base_uri": "https://localhost:8080/"
        },
        "id": "qumMp0uGjytK",
        "outputId": "0c2541f5-f1f6-40da-f4bb-28b9d2db4df7"
      },
      "execution_count": null,
      "outputs": [
        {
          "output_type": "stream",
          "name": "stdout",
          "text": [
            "Silhouette Score: 0.7164144437618303 for the k: 2\n",
            "Silhouette Score: 0.7703982101267363 for the k: 3\n",
            "Silhouette Score: 0.9133952401211849 for the k: 4\n",
            "Silhouette Score: 0.7667368196078377 for the k: 5\n",
            "Silhouette Score: 0.6163370689731313 for the k: 6\n",
            "Silhouette Score: 0.4900450347290556 for the k: 7\n",
            "Silhouette Score: 0.49745206932747116 for the k: 8\n",
            "Silhouette Score: 0.3311454059458522 for the k: 9\n",
            "Silhouette Score: 0.33344255636631503 for the k: 10\n",
            "Silhouette Score: 0.3273875623096276 for the k: 11\n",
            "Silhouette Score: 0.32795135093632183 for the k: 12\n",
            "Silhouette Score: 0.3220089312283718 for the k: 13\n",
            "Silhouette Score: 0.3156931912702835 for the k: 14\n"
          ]
        }
      ]
    },
    {
      "cell_type": "code",
      "source": [
        "#Visualizing the silhouette scores in a plot\n",
        "import matplotlib.pyplot as plt\n",
        "fig, ax = plt.subplots(1,1, figsize =(8,6))\n",
        "ax.plot(range(2,15),silhouette_score)\n",
        "ax.set_xlabel('k')\n",
        "ax.set_ylabel('Distance')"
      ],
      "metadata": {
        "colab": {
          "base_uri": "https://localhost:8080/",
          "height": 406
        },
        "id": "tya-EaszkJaq",
        "outputId": "fe65985d-d67c-42da-e230-50d63a0cbecd"
      },
      "execution_count": null,
      "outputs": [
        {
          "output_type": "execute_result",
          "data": {
            "text/plain": [
              "Text(0, 0.5, 'Distance')"
            ]
          },
          "metadata": {},
          "execution_count": 47
        },
        {
          "output_type": "display_data",
          "data": {
            "text/plain": [
              "<Figure size 576x432 with 1 Axes>"
            ],
            "image/png": "[encoded data removed]"
          },
          "metadata": {
            "needs_background": "light"
          }
        }
      ]
    },
    {
      "cell_type": "code",
      "source": [
        "#In this graph shows that N_cluster = 9 (approx), but we conclude those number of hackers not do same amount of attacks, So that we can take the based on silhoutte score whatever score is near to [+1] is best suited for the N_clusters, Im considering cluster=4 is best. "
      ],
      "metadata": {
        "id": "RBW_tYkkwDfi"
      },
      "execution_count": null,
      "outputs": []
    },
    {
      "cell_type": "code",
      "source": [
        "kmeans_3 = KMeans(k=4,featuresCol='scaled_num_features')\n",
        "model_3 = kmeans_3.fit(data_scale_output)"
      ],
      "metadata": {
        "id": "t41PZyD7k3Up"
      },
      "execution_count": null,
      "outputs": []
    },
    {
      "cell_type": "code",
      "source": [
        "pred_data_1 = model_3.transform(data_scale_output)\n",
        "pred_data_1 = model_3.transform(data_scale_output).groupBy('prediction').count().show()"
      ],
      "metadata": {
        "colab": {
          "base_uri": "https://localhost:8080/"
        },
        "id": "14LLc-eVog4U",
        "outputId": "1b89a007-0803-4760-c2fd-098a7c14bb75"
      },
      "execution_count": null,
      "outputs": [
        {
          "output_type": "stream",
          "name": "stdout",
          "text": [
            "+----------+-----+\n",
            "|prediction|count|\n",
            "+----------+-----+\n",
            "|         1|   79|\n",
            "|         3|   88|\n",
            "|         2|   84|\n",
            "|         0|   83|\n",
            "+----------+-----+\n",
            "\n"
          ]
        }
      ]
    },
    {
      "cell_type": "code",
      "source": [
        "#im using cluster=4 eventhough my data is varying 2-3% nearly so that it is not affect tooo much, This method is useful for wherever finding the number of cluster in Pyspark like elbow method in pandas.\n",
        "#In this clustering we cannnot perform string indexing , why because there is no target variable "
      ],
      "metadata": {
        "id": "iRclxjhpos_F"
      },
      "execution_count": null,
      "outputs": []
    }
  ],
  "metadata": {
    "anaconda-cloud": {},
    "colab": {
      "provenance": []
    },
    "kernelspec": {
      "display_name": "Python 3",
      "language": "python",
      "name": "python3"
    },
    "language_info": {
      "codemirror_mode": {
        "name": "ipython",
        "version": 3
      },
      "file_extension": ".py",
      "mimetype": "text/x-python",
      "name": "python",
      "nbconvert_exporter": "python",
      "pygments_lexer": "ipython3",
      "version": "3.7.6"
    }
  },
  "nbformat": 4,
  "nbformat_minor": 0
}